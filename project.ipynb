{
  "cells": [
    {
      "cell_type": "markdown",
      "metadata": {
        "id": "view-in-github",
        "colab_type": "text"
      },
      "source": [
        "<a href=\"https://colab.research.google.com/github/Ganesh107/project_S8/blob/master/project.ipynb\" target=\"_parent\"><img src=\"https://colab.research.google.com/assets/colab-badge.svg\" alt=\"Open In Colab\"/></a>"
      ]
    },
    {
      "cell_type": "code",
      "execution_count": 3,
      "metadata": {
        "colab": {
          "base_uri": "https://localhost:8080/"
        },
        "id": "L-YuzfLfwFVk",
        "outputId": "833fd8d9-d331-4013-9a73-bf306709251a"
      },
      "outputs": [
        {
          "output_type": "stream",
          "name": "stdout",
          "text": [
            "Drive already mounted at /content/drive; to attempt to forcibly remount, call drive.mount(\"/content/drive\", force_remount=True).\n"
          ]
        }
      ],
      "source": [
        "from google.colab import drive\n",
        "drive.mount('/content/drive')"
      ],
      "id": "L-YuzfLfwFVk"
    },
    {
      "cell_type": "code",
      "execution_count": 4,
      "metadata": {
        "id": "b8ed8847-0d99-44fb-9005-1196551cc300",
        "colab": {
          "base_uri": "https://localhost:8080/",
          "height": 1000
        },
        "outputId": "0e35693d-eacd-4015-ac52-38173df4d8b4"
      },
      "outputs": [
        {
          "output_type": "stream",
          "name": "stdout",
          "text": [
            "Collecting Catboost\n",
            "  Downloading catboost-1.0.5-cp37-none-manylinux1_x86_64.whl (76.6 MB)\n",
            "\u001b[K     |████████████████████████████████| 76.6 MB 1.2 MB/s \n",
            "\u001b[?25hRequirement already satisfied: scipy in /usr/local/lib/python3.7/dist-packages (from Catboost) (1.4.1)\n",
            "Requirement already satisfied: six in /usr/local/lib/python3.7/dist-packages (from Catboost) (1.15.0)\n",
            "Requirement already satisfied: graphviz in /usr/local/lib/python3.7/dist-packages (from Catboost) (0.10.1)\n",
            "Requirement already satisfied: pandas>=0.24.0 in /usr/local/lib/python3.7/dist-packages (from Catboost) (1.3.5)\n",
            "Requirement already satisfied: plotly in /usr/local/lib/python3.7/dist-packages (from Catboost) (5.5.0)\n",
            "Requirement already satisfied: matplotlib in /usr/local/lib/python3.7/dist-packages (from Catboost) (3.2.2)\n",
            "Requirement already satisfied: numpy>=1.16.0 in /usr/local/lib/python3.7/dist-packages (from Catboost) (1.21.6)\n",
            "Requirement already satisfied: python-dateutil>=2.7.3 in /usr/local/lib/python3.7/dist-packages (from pandas>=0.24.0->Catboost) (2.8.2)\n",
            "Requirement already satisfied: pytz>=2017.3 in /usr/local/lib/python3.7/dist-packages (from pandas>=0.24.0->Catboost) (2022.1)\n",
            "Requirement already satisfied: cycler>=0.10 in /usr/local/lib/python3.7/dist-packages (from matplotlib->Catboost) (0.11.0)\n",
            "Requirement already satisfied: pyparsing!=2.0.4,!=2.1.2,!=2.1.6,>=2.0.1 in /usr/local/lib/python3.7/dist-packages (from matplotlib->Catboost) (3.0.8)\n",
            "Requirement already satisfied: kiwisolver>=1.0.1 in /usr/local/lib/python3.7/dist-packages (from matplotlib->Catboost) (1.4.2)\n",
            "Requirement already satisfied: typing-extensions in /usr/local/lib/python3.7/dist-packages (from kiwisolver>=1.0.1->matplotlib->Catboost) (4.2.0)\n",
            "Requirement already satisfied: tenacity>=6.2.0 in /usr/local/lib/python3.7/dist-packages (from plotly->Catboost) (8.0.1)\n",
            "Installing collected packages: Catboost\n",
            "Successfully installed Catboost-1.0.5\n",
            "Requirement already satisfied: LightGBM in /usr/local/lib/python3.7/dist-packages (2.2.3)\n",
            "Requirement already satisfied: scikit-learn in /usr/local/lib/python3.7/dist-packages (from LightGBM) (1.0.2)\n",
            "Requirement already satisfied: scipy in /usr/local/lib/python3.7/dist-packages (from LightGBM) (1.4.1)\n",
            "Requirement already satisfied: numpy in /usr/local/lib/python3.7/dist-packages (from LightGBM) (1.21.6)\n",
            "Requirement already satisfied: joblib>=0.11 in /usr/local/lib/python3.7/dist-packages (from scikit-learn->LightGBM) (1.1.0)\n",
            "Requirement already satisfied: threadpoolctl>=2.0.0 in /usr/local/lib/python3.7/dist-packages (from scikit-learn->LightGBM) (3.1.0)\n",
            "Requirement already satisfied: mlxtend in /usr/local/lib/python3.7/dist-packages (0.14.0)\n",
            "Requirement already satisfied: pandas>=0.17.1 in /usr/local/lib/python3.7/dist-packages (from mlxtend) (1.3.5)\n",
            "Requirement already satisfied: setuptools in /usr/local/lib/python3.7/dist-packages (from mlxtend) (57.4.0)\n",
            "Requirement already satisfied: scipy>=0.17 in /usr/local/lib/python3.7/dist-packages (from mlxtend) (1.4.1)\n",
            "Requirement already satisfied: numpy>=1.10.4 in /usr/local/lib/python3.7/dist-packages (from mlxtend) (1.21.6)\n",
            "Requirement already satisfied: scikit-learn>=0.18 in /usr/local/lib/python3.7/dist-packages (from mlxtend) (1.0.2)\n",
            "Requirement already satisfied: matplotlib>=1.5.1 in /usr/local/lib/python3.7/dist-packages (from mlxtend) (3.2.2)\n",
            "Requirement already satisfied: cycler>=0.10 in /usr/local/lib/python3.7/dist-packages (from matplotlib>=1.5.1->mlxtend) (0.11.0)\n",
            "Requirement already satisfied: python-dateutil>=2.1 in /usr/local/lib/python3.7/dist-packages (from matplotlib>=1.5.1->mlxtend) (2.8.2)\n",
            "Requirement already satisfied: kiwisolver>=1.0.1 in /usr/local/lib/python3.7/dist-packages (from matplotlib>=1.5.1->mlxtend) (1.4.2)\n",
            "Requirement already satisfied: pyparsing!=2.0.4,!=2.1.2,!=2.1.6,>=2.0.1 in /usr/local/lib/python3.7/dist-packages (from matplotlib>=1.5.1->mlxtend) (3.0.8)\n",
            "Requirement already satisfied: typing-extensions in /usr/local/lib/python3.7/dist-packages (from kiwisolver>=1.0.1->matplotlib>=1.5.1->mlxtend) (4.2.0)\n",
            "Requirement already satisfied: pytz>=2017.3 in /usr/local/lib/python3.7/dist-packages (from pandas>=0.17.1->mlxtend) (2022.1)\n",
            "Requirement already satisfied: six>=1.5 in /usr/local/lib/python3.7/dist-packages (from python-dateutil>=2.1->matplotlib>=1.5.1->mlxtend) (1.15.0)\n",
            "Requirement already satisfied: joblib>=0.11 in /usr/local/lib/python3.7/dist-packages (from scikit-learn>=0.18->mlxtend) (1.1.0)\n",
            "Requirement already satisfied: threadpoolctl>=2.0.0 in /usr/local/lib/python3.7/dist-packages (from scikit-learn>=0.18->mlxtend) (3.1.0)\n",
            "Requirement already satisfied: xgboost in /usr/local/lib/python3.7/dist-packages (0.90)\n",
            "Requirement already satisfied: scipy in /usr/local/lib/python3.7/dist-packages (from xgboost) (1.4.1)\n",
            "Requirement already satisfied: numpy in /usr/local/lib/python3.7/dist-packages (from xgboost) (1.21.6)\n",
            "Requirement already satisfied: mlxtend in /usr/local/lib/python3.7/dist-packages (0.14.0)\n",
            "Collecting mlxtend\n",
            "  Downloading mlxtend-0.19.0-py2.py3-none-any.whl (1.3 MB)\n",
            "\u001b[K     |████████████████████████████████| 1.3 MB 5.1 MB/s \n",
            "\u001b[?25hRequirement already satisfied: matplotlib>=3.0.0 in /usr/local/lib/python3.7/dist-packages (from mlxtend) (3.2.2)\n",
            "Requirement already satisfied: scipy>=1.2.1 in /usr/local/lib/python3.7/dist-packages (from mlxtend) (1.4.1)\n",
            "Requirement already satisfied: joblib>=0.13.2 in /usr/local/lib/python3.7/dist-packages (from mlxtend) (1.1.0)\n",
            "Requirement already satisfied: setuptools in /usr/local/lib/python3.7/dist-packages (from mlxtend) (57.4.0)\n",
            "Requirement already satisfied: numpy>=1.16.2 in /usr/local/lib/python3.7/dist-packages (from mlxtend) (1.21.6)\n",
            "Requirement already satisfied: scikit-learn>=0.20.3 in /usr/local/lib/python3.7/dist-packages (from mlxtend) (1.0.2)\n",
            "Requirement already satisfied: pandas>=0.24.2 in /usr/local/lib/python3.7/dist-packages (from mlxtend) (1.3.5)\n",
            "Requirement already satisfied: kiwisolver>=1.0.1 in /usr/local/lib/python3.7/dist-packages (from matplotlib>=3.0.0->mlxtend) (1.4.2)\n",
            "Requirement already satisfied: pyparsing!=2.0.4,!=2.1.2,!=2.1.6,>=2.0.1 in /usr/local/lib/python3.7/dist-packages (from matplotlib>=3.0.0->mlxtend) (3.0.8)\n",
            "Requirement already satisfied: python-dateutil>=2.1 in /usr/local/lib/python3.7/dist-packages (from matplotlib>=3.0.0->mlxtend) (2.8.2)\n",
            "Requirement already satisfied: cycler>=0.10 in /usr/local/lib/python3.7/dist-packages (from matplotlib>=3.0.0->mlxtend) (0.11.0)\n",
            "Requirement already satisfied: typing-extensions in /usr/local/lib/python3.7/dist-packages (from kiwisolver>=1.0.1->matplotlib>=3.0.0->mlxtend) (4.2.0)\n",
            "Requirement already satisfied: pytz>=2017.3 in /usr/local/lib/python3.7/dist-packages (from pandas>=0.24.2->mlxtend) (2022.1)\n",
            "Requirement already satisfied: six>=1.5 in /usr/local/lib/python3.7/dist-packages (from python-dateutil>=2.1->matplotlib>=3.0.0->mlxtend) (1.15.0)\n",
            "Requirement already satisfied: threadpoolctl>=2.0.0 in /usr/local/lib/python3.7/dist-packages (from scikit-learn>=0.20.3->mlxtend) (3.1.0)\n",
            "Installing collected packages: mlxtend\n",
            "  Attempting uninstall: mlxtend\n",
            "    Found existing installation: mlxtend 0.14.0\n",
            "    Uninstalling mlxtend-0.14.0:\n",
            "      Successfully uninstalled mlxtend-0.14.0\n",
            "Successfully installed mlxtend-0.19.0\n"
          ]
        },
        {
          "output_type": "display_data",
          "data": {
            "application/vnd.colab-display-data+json": {
              "pip_warning": {
                "packages": [
                  "mlxtend"
                ]
              }
            }
          },
          "metadata": {}
        }
      ],
      "source": [
        "!pip install Catboost\n",
        "!pip install LightGBM\n",
        "!pip install mlxtend\n",
        "!pip install xgboost\n",
        "%pip install mlxtend --upgrade"
      ],
      "id": "b8ed8847-0d99-44fb-9005-1196551cc300"
    },
    {
      "cell_type": "code",
      "execution_count": 5,
      "metadata": {
        "id": "O6mQIBU5EUFx"
      },
      "outputs": [],
      "source": [
        "#IMPORTING NECCESSARY MODULES\n",
        "import pandas as pd\n",
        "import numpy as np\n",
        "import seaborn as sns\n",
        "import matplotlib.pyplot as plt\n",
        "from sklearn.model_selection import train_test_split\n",
        "from imblearn.over_sampling import SMOTE\n",
        "from sklearn.ensemble import VotingClassifier\n",
        "from sklearn.preprocessing import StandardScaler\n",
        "from mlxtend.feature_selection import SequentialFeatureSelector as sfs\n",
        "from sklearn.ensemble import RandomForestClassifier\n",
        "from catboost import CatBoostClassifier,Pool\n",
        "import lightgbm as lgb\n",
        "from sklearn import metrics\n",
        "from sklearn.experimental import enable_halving_search_cv\n",
        "from sklearn.model_selection import HalvingGridSearchCV\n",
        "from sklearn.ensemble import AdaBoostClassifier\n",
        "import xgboost as xgb\n",
        "%matplotlib inline"
      ],
      "id": "O6mQIBU5EUFx"
    },
    {
      "cell_type": "code",
      "execution_count": 6,
      "metadata": {
        "id": "25030f14-debb-4c88-9b69-8bc8b0e7d32e"
      },
      "outputs": [],
      "source": [
        "diabetes_data = pd.read_csv('/content/drive/MyDrive/Colab Notebooks/diabetes.csv') # Reading the dataset into diabetes_data"
      ],
      "id": "25030f14-debb-4c88-9b69-8bc8b0e7d32e"
    },
    {
      "cell_type": "code",
      "execution_count": 7,
      "metadata": {
        "colab": {
          "base_uri": "https://localhost:8080/",
          "height": 206
        },
        "id": "6f3ba90d-2b03-47b0-84f7-634a38125e56",
        "outputId": "acd2bc2f-30fd-4587-a08b-2c1a9ae33ef0"
      },
      "outputs": [
        {
          "output_type": "execute_result",
          "data": {
            "text/plain": [
              "   Pregnancies  Glucose  BloodPressure  SkinThickness  Insulin   BMI  \\\n",
              "0            6      148             72             35        0  33.6   \n",
              "1            1       85             66             29        0  26.6   \n",
              "2            8      183             64              0        0  23.3   \n",
              "3            1       89             66             23       94  28.1   \n",
              "4            0      137             40             35      168  43.1   \n",
              "\n",
              "   DiabetesPedigreeFunction  Age  Outcome  \n",
              "0                     0.627   50        1  \n",
              "1                     0.351   31        0  \n",
              "2                     0.672   32        1  \n",
              "3                     0.167   21        0  \n",
              "4                     2.288   33        1  "
            ],
            "text/html": [
              "\n",
              "  <div id=\"df-6748fa56-ba78-457d-a66f-2e9549e24dd0\">\n",
              "    <div class=\"colab-df-container\">\n",
              "      <div>\n",
              "<style scoped>\n",
              "    .dataframe tbody tr th:only-of-type {\n",
              "        vertical-align: middle;\n",
              "    }\n",
              "\n",
              "    .dataframe tbody tr th {\n",
              "        vertical-align: top;\n",
              "    }\n",
              "\n",
              "    .dataframe thead th {\n",
              "        text-align: right;\n",
              "    }\n",
              "</style>\n",
              "<table border=\"1\" class=\"dataframe\">\n",
              "  <thead>\n",
              "    <tr style=\"text-align: right;\">\n",
              "      <th></th>\n",
              "      <th>Pregnancies</th>\n",
              "      <th>Glucose</th>\n",
              "      <th>BloodPressure</th>\n",
              "      <th>SkinThickness</th>\n",
              "      <th>Insulin</th>\n",
              "      <th>BMI</th>\n",
              "      <th>DiabetesPedigreeFunction</th>\n",
              "      <th>Age</th>\n",
              "      <th>Outcome</th>\n",
              "    </tr>\n",
              "  </thead>\n",
              "  <tbody>\n",
              "    <tr>\n",
              "      <th>0</th>\n",
              "      <td>6</td>\n",
              "      <td>148</td>\n",
              "      <td>72</td>\n",
              "      <td>35</td>\n",
              "      <td>0</td>\n",
              "      <td>33.6</td>\n",
              "      <td>0.627</td>\n",
              "      <td>50</td>\n",
              "      <td>1</td>\n",
              "    </tr>\n",
              "    <tr>\n",
              "      <th>1</th>\n",
              "      <td>1</td>\n",
              "      <td>85</td>\n",
              "      <td>66</td>\n",
              "      <td>29</td>\n",
              "      <td>0</td>\n",
              "      <td>26.6</td>\n",
              "      <td>0.351</td>\n",
              "      <td>31</td>\n",
              "      <td>0</td>\n",
              "    </tr>\n",
              "    <tr>\n",
              "      <th>2</th>\n",
              "      <td>8</td>\n",
              "      <td>183</td>\n",
              "      <td>64</td>\n",
              "      <td>0</td>\n",
              "      <td>0</td>\n",
              "      <td>23.3</td>\n",
              "      <td>0.672</td>\n",
              "      <td>32</td>\n",
              "      <td>1</td>\n",
              "    </tr>\n",
              "    <tr>\n",
              "      <th>3</th>\n",
              "      <td>1</td>\n",
              "      <td>89</td>\n",
              "      <td>66</td>\n",
              "      <td>23</td>\n",
              "      <td>94</td>\n",
              "      <td>28.1</td>\n",
              "      <td>0.167</td>\n",
              "      <td>21</td>\n",
              "      <td>0</td>\n",
              "    </tr>\n",
              "    <tr>\n",
              "      <th>4</th>\n",
              "      <td>0</td>\n",
              "      <td>137</td>\n",
              "      <td>40</td>\n",
              "      <td>35</td>\n",
              "      <td>168</td>\n",
              "      <td>43.1</td>\n",
              "      <td>2.288</td>\n",
              "      <td>33</td>\n",
              "      <td>1</td>\n",
              "    </tr>\n",
              "  </tbody>\n",
              "</table>\n",
              "</div>\n",
              "      <button class=\"colab-df-convert\" onclick=\"convertToInteractive('df-6748fa56-ba78-457d-a66f-2e9549e24dd0')\"\n",
              "              title=\"Convert this dataframe to an interactive table.\"\n",
              "              style=\"display:none;\">\n",
              "        \n",
              "  <svg xmlns=\"http://www.w3.org/2000/svg\" height=\"24px\"viewBox=\"0 0 24 24\"\n",
              "       width=\"24px\">\n",
              "    <path d=\"M0 0h24v24H0V0z\" fill=\"none\"/>\n",
              "    <path d=\"M18.56 5.44l.94 2.06.94-2.06 2.06-.94-2.06-.94-.94-2.06-.94 2.06-2.06.94zm-11 1L8.5 8.5l.94-2.06 2.06-.94-2.06-.94L8.5 2.5l-.94 2.06-2.06.94zm10 10l.94 2.06.94-2.06 2.06-.94-2.06-.94-.94-2.06-.94 2.06-2.06.94z\"/><path d=\"M17.41 7.96l-1.37-1.37c-.4-.4-.92-.59-1.43-.59-.52 0-1.04.2-1.43.59L10.3 9.45l-7.72 7.72c-.78.78-.78 2.05 0 2.83L4 21.41c.39.39.9.59 1.41.59.51 0 1.02-.2 1.41-.59l7.78-7.78 2.81-2.81c.8-.78.8-2.07 0-2.86zM5.41 20L4 18.59l7.72-7.72 1.47 1.35L5.41 20z\"/>\n",
              "  </svg>\n",
              "      </button>\n",
              "      \n",
              "  <style>\n",
              "    .colab-df-container {\n",
              "      display:flex;\n",
              "      flex-wrap:wrap;\n",
              "      gap: 12px;\n",
              "    }\n",
              "\n",
              "    .colab-df-convert {\n",
              "      background-color: #E8F0FE;\n",
              "      border: none;\n",
              "      border-radius: 50%;\n",
              "      cursor: pointer;\n",
              "      display: none;\n",
              "      fill: #1967D2;\n",
              "      height: 32px;\n",
              "      padding: 0 0 0 0;\n",
              "      width: 32px;\n",
              "    }\n",
              "\n",
              "    .colab-df-convert:hover {\n",
              "      background-color: #E2EBFA;\n",
              "      box-shadow: 0px 1px 2px rgba(60, 64, 67, 0.3), 0px 1px 3px 1px rgba(60, 64, 67, 0.15);\n",
              "      fill: #174EA6;\n",
              "    }\n",
              "\n",
              "    [theme=dark] .colab-df-convert {\n",
              "      background-color: #3B4455;\n",
              "      fill: #D2E3FC;\n",
              "    }\n",
              "\n",
              "    [theme=dark] .colab-df-convert:hover {\n",
              "      background-color: #434B5C;\n",
              "      box-shadow: 0px 1px 3px 1px rgba(0, 0, 0, 0.15);\n",
              "      filter: drop-shadow(0px 1px 2px rgba(0, 0, 0, 0.3));\n",
              "      fill: #FFFFFF;\n",
              "    }\n",
              "  </style>\n",
              "\n",
              "      <script>\n",
              "        const buttonEl =\n",
              "          document.querySelector('#df-6748fa56-ba78-457d-a66f-2e9549e24dd0 button.colab-df-convert');\n",
              "        buttonEl.style.display =\n",
              "          google.colab.kernel.accessAllowed ? 'block' : 'none';\n",
              "\n",
              "        async function convertToInteractive(key) {\n",
              "          const element = document.querySelector('#df-6748fa56-ba78-457d-a66f-2e9549e24dd0');\n",
              "          const dataTable =\n",
              "            await google.colab.kernel.invokeFunction('convertToInteractive',\n",
              "                                                     [key], {});\n",
              "          if (!dataTable) return;\n",
              "\n",
              "          const docLinkHtml = 'Like what you see? Visit the ' +\n",
              "            '<a target=\"_blank\" href=https://colab.research.google.com/notebooks/data_table.ipynb>data table notebook</a>'\n",
              "            + ' to learn more about interactive tables.';\n",
              "          element.innerHTML = '';\n",
              "          dataTable['output_type'] = 'display_data';\n",
              "          await google.colab.output.renderOutput(dataTable, element);\n",
              "          const docLink = document.createElement('div');\n",
              "          docLink.innerHTML = docLinkHtml;\n",
              "          element.appendChild(docLink);\n",
              "        }\n",
              "      </script>\n",
              "    </div>\n",
              "  </div>\n",
              "  "
            ]
          },
          "metadata": {},
          "execution_count": 7
        }
      ],
      "source": [
        "diabetes_data.head(5)"
      ],
      "id": "6f3ba90d-2b03-47b0-84f7-634a38125e56"
    },
    {
      "cell_type": "code",
      "execution_count": 8,
      "metadata": {
        "colab": {
          "base_uri": "https://localhost:8080/"
        },
        "id": "f6f8ffae-0133-4c5c-9f9d-53c69ebd3dc0",
        "outputId": "ff74df56-6dcf-44b7-fb17-9144288cf67e"
      },
      "outputs": [
        {
          "output_type": "execute_result",
          "data": {
            "text/plain": [
              "Pregnancies                 0\n",
              "Glucose                     0\n",
              "BloodPressure               0\n",
              "SkinThickness               0\n",
              "Insulin                     0\n",
              "BMI                         0\n",
              "DiabetesPedigreeFunction    0\n",
              "Age                         0\n",
              "Outcome                     0\n",
              "dtype: int64"
            ]
          },
          "metadata": {},
          "execution_count": 8
        }
      ],
      "source": [
        "diabetes_data.isnull().sum() # Count of null values "
      ],
      "id": "f6f8ffae-0133-4c5c-9f9d-53c69ebd3dc0"
    },
    {
      "cell_type": "code",
      "execution_count": 9,
      "metadata": {
        "colab": {
          "base_uri": "https://localhost:8080/",
          "height": 332
        },
        "id": "597f14ff-12e7-4be1-8325-32df8c5a6937",
        "outputId": "499177fe-ccc0-4836-81c8-2c8b6f27f0f6"
      },
      "outputs": [
        {
          "output_type": "execute_result",
          "data": {
            "text/plain": [
              "                          count        mean         std     min       25%  \\\n",
              "Pregnancies               768.0    3.845052    3.369578   0.000   1.00000   \n",
              "Glucose                   768.0  120.894531   31.972618   0.000  99.00000   \n",
              "BloodPressure             768.0   69.105469   19.355807   0.000  62.00000   \n",
              "SkinThickness             768.0   20.536458   15.952218   0.000   0.00000   \n",
              "Insulin                   768.0   79.799479  115.244002   0.000   0.00000   \n",
              "BMI                       768.0   31.992578    7.884160   0.000  27.30000   \n",
              "DiabetesPedigreeFunction  768.0    0.471876    0.331329   0.078   0.24375   \n",
              "Age                       768.0   33.240885   11.760232  21.000  24.00000   \n",
              "Outcome                   768.0    0.348958    0.476951   0.000   0.00000   \n",
              "\n",
              "                               50%        75%     max  \n",
              "Pregnancies                 3.0000    6.00000   17.00  \n",
              "Glucose                   117.0000  140.25000  199.00  \n",
              "BloodPressure              72.0000   80.00000  122.00  \n",
              "SkinThickness              23.0000   32.00000   99.00  \n",
              "Insulin                    30.5000  127.25000  846.00  \n",
              "BMI                        32.0000   36.60000   67.10  \n",
              "DiabetesPedigreeFunction    0.3725    0.62625    2.42  \n",
              "Age                        29.0000   41.00000   81.00  \n",
              "Outcome                     0.0000    1.00000    1.00  "
            ],
            "text/html": [
              "\n",
              "  <div id=\"df-105cb3c6-2d07-460c-bde4-1a4bcade9fa8\">\n",
              "    <div class=\"colab-df-container\">\n",
              "      <div>\n",
              "<style scoped>\n",
              "    .dataframe tbody tr th:only-of-type {\n",
              "        vertical-align: middle;\n",
              "    }\n",
              "\n",
              "    .dataframe tbody tr th {\n",
              "        vertical-align: top;\n",
              "    }\n",
              "\n",
              "    .dataframe thead th {\n",
              "        text-align: right;\n",
              "    }\n",
              "</style>\n",
              "<table border=\"1\" class=\"dataframe\">\n",
              "  <thead>\n",
              "    <tr style=\"text-align: right;\">\n",
              "      <th></th>\n",
              "      <th>count</th>\n",
              "      <th>mean</th>\n",
              "      <th>std</th>\n",
              "      <th>min</th>\n",
              "      <th>25%</th>\n",
              "      <th>50%</th>\n",
              "      <th>75%</th>\n",
              "      <th>max</th>\n",
              "    </tr>\n",
              "  </thead>\n",
              "  <tbody>\n",
              "    <tr>\n",
              "      <th>Pregnancies</th>\n",
              "      <td>768.0</td>\n",
              "      <td>3.845052</td>\n",
              "      <td>3.369578</td>\n",
              "      <td>0.000</td>\n",
              "      <td>1.00000</td>\n",
              "      <td>3.0000</td>\n",
              "      <td>6.00000</td>\n",
              "      <td>17.00</td>\n",
              "    </tr>\n",
              "    <tr>\n",
              "      <th>Glucose</th>\n",
              "      <td>768.0</td>\n",
              "      <td>120.894531</td>\n",
              "      <td>31.972618</td>\n",
              "      <td>0.000</td>\n",
              "      <td>99.00000</td>\n",
              "      <td>117.0000</td>\n",
              "      <td>140.25000</td>\n",
              "      <td>199.00</td>\n",
              "    </tr>\n",
              "    <tr>\n",
              "      <th>BloodPressure</th>\n",
              "      <td>768.0</td>\n",
              "      <td>69.105469</td>\n",
              "      <td>19.355807</td>\n",
              "      <td>0.000</td>\n",
              "      <td>62.00000</td>\n",
              "      <td>72.0000</td>\n",
              "      <td>80.00000</td>\n",
              "      <td>122.00</td>\n",
              "    </tr>\n",
              "    <tr>\n",
              "      <th>SkinThickness</th>\n",
              "      <td>768.0</td>\n",
              "      <td>20.536458</td>\n",
              "      <td>15.952218</td>\n",
              "      <td>0.000</td>\n",
              "      <td>0.00000</td>\n",
              "      <td>23.0000</td>\n",
              "      <td>32.00000</td>\n",
              "      <td>99.00</td>\n",
              "    </tr>\n",
              "    <tr>\n",
              "      <th>Insulin</th>\n",
              "      <td>768.0</td>\n",
              "      <td>79.799479</td>\n",
              "      <td>115.244002</td>\n",
              "      <td>0.000</td>\n",
              "      <td>0.00000</td>\n",
              "      <td>30.5000</td>\n",
              "      <td>127.25000</td>\n",
              "      <td>846.00</td>\n",
              "    </tr>\n",
              "    <tr>\n",
              "      <th>BMI</th>\n",
              "      <td>768.0</td>\n",
              "      <td>31.992578</td>\n",
              "      <td>7.884160</td>\n",
              "      <td>0.000</td>\n",
              "      <td>27.30000</td>\n",
              "      <td>32.0000</td>\n",
              "      <td>36.60000</td>\n",
              "      <td>67.10</td>\n",
              "    </tr>\n",
              "    <tr>\n",
              "      <th>DiabetesPedigreeFunction</th>\n",
              "      <td>768.0</td>\n",
              "      <td>0.471876</td>\n",
              "      <td>0.331329</td>\n",
              "      <td>0.078</td>\n",
              "      <td>0.24375</td>\n",
              "      <td>0.3725</td>\n",
              "      <td>0.62625</td>\n",
              "      <td>2.42</td>\n",
              "    </tr>\n",
              "    <tr>\n",
              "      <th>Age</th>\n",
              "      <td>768.0</td>\n",
              "      <td>33.240885</td>\n",
              "      <td>11.760232</td>\n",
              "      <td>21.000</td>\n",
              "      <td>24.00000</td>\n",
              "      <td>29.0000</td>\n",
              "      <td>41.00000</td>\n",
              "      <td>81.00</td>\n",
              "    </tr>\n",
              "    <tr>\n",
              "      <th>Outcome</th>\n",
              "      <td>768.0</td>\n",
              "      <td>0.348958</td>\n",
              "      <td>0.476951</td>\n",
              "      <td>0.000</td>\n",
              "      <td>0.00000</td>\n",
              "      <td>0.0000</td>\n",
              "      <td>1.00000</td>\n",
              "      <td>1.00</td>\n",
              "    </tr>\n",
              "  </tbody>\n",
              "</table>\n",
              "</div>\n",
              "      <button class=\"colab-df-convert\" onclick=\"convertToInteractive('df-105cb3c6-2d07-460c-bde4-1a4bcade9fa8')\"\n",
              "              title=\"Convert this dataframe to an interactive table.\"\n",
              "              style=\"display:none;\">\n",
              "        \n",
              "  <svg xmlns=\"http://www.w3.org/2000/svg\" height=\"24px\"viewBox=\"0 0 24 24\"\n",
              "       width=\"24px\">\n",
              "    <path d=\"M0 0h24v24H0V0z\" fill=\"none\"/>\n",
              "    <path d=\"M18.56 5.44l.94 2.06.94-2.06 2.06-.94-2.06-.94-.94-2.06-.94 2.06-2.06.94zm-11 1L8.5 8.5l.94-2.06 2.06-.94-2.06-.94L8.5 2.5l-.94 2.06-2.06.94zm10 10l.94 2.06.94-2.06 2.06-.94-2.06-.94-.94-2.06-.94 2.06-2.06.94z\"/><path d=\"M17.41 7.96l-1.37-1.37c-.4-.4-.92-.59-1.43-.59-.52 0-1.04.2-1.43.59L10.3 9.45l-7.72 7.72c-.78.78-.78 2.05 0 2.83L4 21.41c.39.39.9.59 1.41.59.51 0 1.02-.2 1.41-.59l7.78-7.78 2.81-2.81c.8-.78.8-2.07 0-2.86zM5.41 20L4 18.59l7.72-7.72 1.47 1.35L5.41 20z\"/>\n",
              "  </svg>\n",
              "      </button>\n",
              "      \n",
              "  <style>\n",
              "    .colab-df-container {\n",
              "      display:flex;\n",
              "      flex-wrap:wrap;\n",
              "      gap: 12px;\n",
              "    }\n",
              "\n",
              "    .colab-df-convert {\n",
              "      background-color: #E8F0FE;\n",
              "      border: none;\n",
              "      border-radius: 50%;\n",
              "      cursor: pointer;\n",
              "      display: none;\n",
              "      fill: #1967D2;\n",
              "      height: 32px;\n",
              "      padding: 0 0 0 0;\n",
              "      width: 32px;\n",
              "    }\n",
              "\n",
              "    .colab-df-convert:hover {\n",
              "      background-color: #E2EBFA;\n",
              "      box-shadow: 0px 1px 2px rgba(60, 64, 67, 0.3), 0px 1px 3px 1px rgba(60, 64, 67, 0.15);\n",
              "      fill: #174EA6;\n",
              "    }\n",
              "\n",
              "    [theme=dark] .colab-df-convert {\n",
              "      background-color: #3B4455;\n",
              "      fill: #D2E3FC;\n",
              "    }\n",
              "\n",
              "    [theme=dark] .colab-df-convert:hover {\n",
              "      background-color: #434B5C;\n",
              "      box-shadow: 0px 1px 3px 1px rgba(0, 0, 0, 0.15);\n",
              "      filter: drop-shadow(0px 1px 2px rgba(0, 0, 0, 0.3));\n",
              "      fill: #FFFFFF;\n",
              "    }\n",
              "  </style>\n",
              "\n",
              "      <script>\n",
              "        const buttonEl =\n",
              "          document.querySelector('#df-105cb3c6-2d07-460c-bde4-1a4bcade9fa8 button.colab-df-convert');\n",
              "        buttonEl.style.display =\n",
              "          google.colab.kernel.accessAllowed ? 'block' : 'none';\n",
              "\n",
              "        async function convertToInteractive(key) {\n",
              "          const element = document.querySelector('#df-105cb3c6-2d07-460c-bde4-1a4bcade9fa8');\n",
              "          const dataTable =\n",
              "            await google.colab.kernel.invokeFunction('convertToInteractive',\n",
              "                                                     [key], {});\n",
              "          if (!dataTable) return;\n",
              "\n",
              "          const docLinkHtml = 'Like what you see? Visit the ' +\n",
              "            '<a target=\"_blank\" href=https://colab.research.google.com/notebooks/data_table.ipynb>data table notebook</a>'\n",
              "            + ' to learn more about interactive tables.';\n",
              "          element.innerHTML = '';\n",
              "          dataTable['output_type'] = 'display_data';\n",
              "          await google.colab.output.renderOutput(dataTable, element);\n",
              "          const docLink = document.createElement('div');\n",
              "          docLink.innerHTML = docLinkHtml;\n",
              "          element.appendChild(docLink);\n",
              "        }\n",
              "      </script>\n",
              "    </div>\n",
              "  </div>\n",
              "  "
            ]
          },
          "metadata": {},
          "execution_count": 9
        }
      ],
      "source": [
        "diabetes_data_copy = diabetes_data.copy()\n",
        "diabetes_data.describe().T "
      ],
      "id": "597f14ff-12e7-4be1-8325-32df8c5a6937"
    },
    {
      "cell_type": "code",
      "execution_count": 10,
      "metadata": {
        "colab": {
          "base_uri": "https://localhost:8080/"
        },
        "id": "cc53924a-314a-4e3d-8a0b-5dc08d090c8e",
        "outputId": "8ac3d5fc-d597-4e05-cf75-06c6ff449d36"
      },
      "outputs": [
        {
          "output_type": "execute_result",
          "data": {
            "text/plain": [
              "Pregnancies                   0\n",
              "Glucose                       5\n",
              "BloodPressure                35\n",
              "SkinThickness               227\n",
              "Insulin                     374\n",
              "BMI                          11\n",
              "DiabetesPedigreeFunction      0\n",
              "Age                           0\n",
              "Outcome                       0\n",
              "dtype: int64"
            ]
          },
          "metadata": {},
          "execution_count": 10
        }
      ],
      "source": [
        "#replacing 0 ny NaN\n",
        "diabetes_data_copy[['Glucose','BloodPressure','SkinThickness','Insulin','BMI']] = diabetes_data_copy[['Glucose','BloodPressure','SkinThickness','Insulin','BMI']].replace(0,np.NaN)\n",
        "diabetes_data_copy.isnull().sum()"
      ],
      "id": "cc53924a-314a-4e3d-8a0b-5dc08d090c8e"
    },
    {
      "cell_type": "code",
      "execution_count": 11,
      "metadata": {
        "colab": {
          "base_uri": "https://localhost:8080/",
          "height": 516
        },
        "id": "cc9892d4-cb07-470e-a380-3750b229c88d",
        "outputId": "e191cd2d-9d5d-4f68-caa5-07807cfd1887"
      },
      "outputs": [
        {
          "output_type": "execute_result",
          "data": {
            "text/plain": [
              "<matplotlib.axes._subplots.AxesSubplot at 0x7ff41e18fb90>"
            ]
          },
          "metadata": {},
          "execution_count": 11
        },
        {
          "output_type": "display_data",
          "data": {
            "text/plain": [
              "<Figure size 720x432 with 2 Axes>"
            ],
            "image/png": "[encoded data removed]"
          },
          "metadata": {
            "needs_background": "light"
          }
        }
      ],
      "source": [
        "plt.figure(figsize=(10,6))\n",
        "sns.heatmap(diabetes_data_copy.corr(),annot=True)"
      ],
      "id": "cc9892d4-cb07-470e-a380-3750b229c88d"
    },
    {
      "cell_type": "markdown",
      "metadata": {
        "id": "b87d9b91-e232-4455-913d-69152b268ba7"
      },
      "source": [
        "## FILLING MISSING VALUES"
      ],
      "id": "b87d9b91-e232-4455-913d-69152b268ba7"
    },
    {
      "cell_type": "code",
      "execution_count": 12,
      "metadata": {
        "colab": {
          "base_uri": "https://localhost:8080/",
          "height": 296
        },
        "id": "8286658e-79f1-46ac-9904-9ce35af41ab4",
        "outputId": "610da00c-10be-4cd6-9fc5-a41d30fe196f"
      },
      "outputs": [
        {
          "output_type": "execute_result",
          "data": {
            "text/plain": [
              "<matplotlib.axes._subplots.AxesSubplot at 0x7ff404717710>"
            ]
          },
          "metadata": {},
          "execution_count": 12
        },
        {
          "output_type": "display_data",
          "data": {
            "text/plain": [
              "<Figure size 432x288 with 1 Axes>"
            ],
            "image/png": "[encoded data removed]"
          },
          "metadata": {
            "needs_background": "light"
          }
        }
      ],
      "source": [
        "sns.kdeplot(x='BloodPressure',hue='Outcome',data=diabetes_data_copy)"
      ],
      "id": "8286658e-79f1-46ac-9904-9ce35af41ab4"
    },
    {
      "cell_type": "code",
      "execution_count": 13,
      "metadata": {
        "colab": {
          "base_uri": "https://localhost:8080/"
        },
        "id": "0a52906b-f201-46fc-bcfc-09ddfbc0216a",
        "outputId": "3b42c74a-4e3e-48bd-f850-f6a4a76785df"
      },
      "outputs": [
        {
          "output_type": "execute_result",
          "data": {
            "text/plain": [
              "Outcome\n",
              "0    70.0\n",
              "1    74.5\n",
              "Name: BloodPressure, dtype: float64"
            ]
          },
          "metadata": {},
          "execution_count": 13
        }
      ],
      "source": [
        "diabetes_data_copy.groupby('Outcome')['BloodPressure'].median()"
      ],
      "id": "0a52906b-f201-46fc-bcfc-09ddfbc0216a"
    },
    {
      "cell_type": "code",
      "execution_count": 14,
      "metadata": {
        "id": "7cba042b-755c-4d4e-a042-91ed5732918e"
      },
      "outputs": [],
      "source": [
        "diabetes_data_copy.loc[(diabetes_data_copy['Outcome']==0)&(diabetes_data_copy['BloodPressure'].isnull()),'BloodPressure']=70\n",
        "diabetes_data_copy.loc[(diabetes_data_copy['Outcome']==1)&(diabetes_data_copy['BloodPressure'].isnull()),'BloodPressure']=74.5"
      ],
      "id": "7cba042b-755c-4d4e-a042-91ed5732918e"
    },
    {
      "cell_type": "code",
      "execution_count": 15,
      "metadata": {
        "colab": {
          "base_uri": "https://localhost:8080/",
          "height": 296
        },
        "id": "a4a99953-1b83-4c77-990c-e6a530c14484",
        "outputId": "849acfbb-67b6-4021-8a62-cee4d48dcf0d"
      },
      "outputs": [
        {
          "output_type": "execute_result",
          "data": {
            "text/plain": [
              "<matplotlib.axes._subplots.AxesSubplot at 0x7ff402eb5c50>"
            ]
          },
          "metadata": {},
          "execution_count": 15
        },
        {
          "output_type": "display_data",
          "data": {
            "text/plain": [
              "<Figure size 432x288 with 1 Axes>"
            ],
            "image/png": "[encoded data removed]"
          },
          "metadata": {
            "needs_background": "light"
          }
        }
      ],
      "source": [
        "sns.kdeplot(x='Glucose',hue='Outcome',data=diabetes_data_copy)"
      ],
      "id": "a4a99953-1b83-4c77-990c-e6a530c14484"
    },
    {
      "cell_type": "code",
      "execution_count": 16,
      "metadata": {
        "colab": {
          "base_uri": "https://localhost:8080/"
        },
        "id": "9253d6d2-a139-42b8-b3e4-4c0e102cf90f",
        "outputId": "b8f3dda0-573f-48a6-f851-a1f31b7110d9"
      },
      "outputs": [
        {
          "output_type": "execute_result",
          "data": {
            "text/plain": [
              "Outcome\n",
              "0    107.0\n",
              "1    140.0\n",
              "Name: Glucose, dtype: float64"
            ]
          },
          "metadata": {},
          "execution_count": 16
        }
      ],
      "source": [
        "diabetes_data_copy.groupby('Outcome')['Glucose'].median()"
      ],
      "id": "9253d6d2-a139-42b8-b3e4-4c0e102cf90f"
    },
    {
      "cell_type": "code",
      "execution_count": 17,
      "metadata": {
        "id": "fe470e68-0167-4510-92d6-5a6cb358db4d"
      },
      "outputs": [],
      "source": [
        "diabetes_data_copy.loc[(diabetes_data_copy['Outcome']==0)&(diabetes_data_copy['Glucose'].isnull()),'Glucose']=107\n",
        "diabetes_data_copy.loc[(diabetes_data_copy['Outcome']==1)&(diabetes_data_copy['Glucose'].isnull()),'Glucose']=140"
      ],
      "id": "fe470e68-0167-4510-92d6-5a6cb358db4d"
    },
    {
      "cell_type": "code",
      "execution_count": 18,
      "metadata": {
        "colab": {
          "base_uri": "https://localhost:8080/",
          "height": 299
        },
        "id": "c63ca847-ab37-413f-92d8-93d627a9a5b6",
        "outputId": "c585a9f7-f4c1-47dd-e7e5-82e0b414d5ab"
      },
      "outputs": [
        {
          "output_type": "execute_result",
          "data": {
            "text/plain": [
              "<matplotlib.axes._subplots.AxesSubplot at 0x7ff402dba4d0>"
            ]
          },
          "metadata": {},
          "execution_count": 18
        },
        {
          "output_type": "display_data",
          "data": {
            "text/plain": [
              "<Figure size 432x288 with 1 Axes>"
            ],
            "image/png": "[encoded data removed]"
          },
          "metadata": {
            "needs_background": "light"
          }
        }
      ],
      "source": [
        "sns.kdeplot(x='SkinThickness',hue='Outcome',data=diabetes_data_copy)"
      ],
      "id": "c63ca847-ab37-413f-92d8-93d627a9a5b6"
    },
    {
      "cell_type": "code",
      "execution_count": 19,
      "metadata": {
        "colab": {
          "base_uri": "https://localhost:8080/"
        },
        "id": "7f9d8e64-f0e8-49a6-9516-7ca161417c7b",
        "outputId": "54c79e7e-d7f0-4e6b-b9ac-7312dfccaa17"
      },
      "outputs": [
        {
          "output_type": "execute_result",
          "data": {
            "text/plain": [
              "Outcome\n",
              "0    27.0\n",
              "1    32.0\n",
              "Name: SkinThickness, dtype: float64"
            ]
          },
          "metadata": {},
          "execution_count": 19
        }
      ],
      "source": [
        "diabetes_data_copy.groupby('Outcome')['SkinThickness'].median()"
      ],
      "id": "7f9d8e64-f0e8-49a6-9516-7ca161417c7b"
    },
    {
      "cell_type": "code",
      "execution_count": 20,
      "metadata": {
        "id": "6eedf01f-d6ed-499a-b60f-b46571a0a8e6"
      },
      "outputs": [],
      "source": [
        "diabetes_data_copy.loc[(diabetes_data_copy['Outcome']==0)&(diabetes_data_copy['SkinThickness'].isnull()),'SkinThickness']=27\n",
        "diabetes_data_copy.loc[(diabetes_data_copy['Outcome']==1)&(diabetes_data_copy['SkinThickness'].isnull()),'SkinThickness']=32"
      ],
      "id": "6eedf01f-d6ed-499a-b60f-b46571a0a8e6"
    },
    {
      "cell_type": "code",
      "execution_count": 21,
      "metadata": {
        "colab": {
          "base_uri": "https://localhost:8080/",
          "height": 296
        },
        "id": "3465464a-cd7c-46c6-b000-922515eed838",
        "outputId": "f96aeab9-c041-4e24-d8f4-ee435e726412"
      },
      "outputs": [
        {
          "output_type": "execute_result",
          "data": {
            "text/plain": [
              "<matplotlib.axes._subplots.AxesSubplot at 0x7ff404bb6c90>"
            ]
          },
          "metadata": {},
          "execution_count": 21
        },
        {
          "output_type": "display_data",
          "data": {
            "text/plain": [
              "<Figure size 432x288 with 1 Axes>"
            ],
            "image/png": "[encoded data removed]"
          },
          "metadata": {
            "needs_background": "light"
          }
        }
      ],
      "source": [
        "sns.kdeplot(x='Insulin',hue='Outcome',data=diabetes_data_copy)"
      ],
      "id": "3465464a-cd7c-46c6-b000-922515eed838"
    },
    {
      "cell_type": "code",
      "execution_count": 22,
      "metadata": {
        "colab": {
          "base_uri": "https://localhost:8080/"
        },
        "id": "ec088364-f616-497d-bf0c-4364a82e5e9d",
        "outputId": "b0407c1d-ab76-4c8c-e21c-6a8630e62329"
      },
      "outputs": [
        {
          "output_type": "execute_result",
          "data": {
            "text/plain": [
              "Outcome\n",
              "0    102.5\n",
              "1    169.5\n",
              "Name: Insulin, dtype: float64"
            ]
          },
          "metadata": {},
          "execution_count": 22
        }
      ],
      "source": [
        "diabetes_data_copy.groupby('Outcome')['Insulin'].median()"
      ],
      "id": "ec088364-f616-497d-bf0c-4364a82e5e9d"
    },
    {
      "cell_type": "code",
      "execution_count": 23,
      "metadata": {
        "id": "df88fbb3-1af6-4c5e-9fab-fd84066b1ebb"
      },
      "outputs": [],
      "source": [
        "diabetes_data_copy.loc[(diabetes_data_copy['Outcome']==0)&(diabetes_data_copy['Insulin'].isnull()),'Insulin']=102.5\n",
        "diabetes_data_copy.loc[(diabetes_data_copy['Outcome']==1)&(diabetes_data_copy['Insulin'].isnull()),'Insulin']=169.5"
      ],
      "id": "df88fbb3-1af6-4c5e-9fab-fd84066b1ebb"
    },
    {
      "cell_type": "code",
      "execution_count": 24,
      "metadata": {
        "colab": {
          "base_uri": "https://localhost:8080/",
          "height": 296
        },
        "id": "89801d3e-bb14-4f70-a0ff-8c078de2899e",
        "outputId": "e2ab3bff-c4dc-40db-a828-b679aa3d6dbd"
      },
      "outputs": [
        {
          "output_type": "execute_result",
          "data": {
            "text/plain": [
              "<matplotlib.axes._subplots.AxesSubplot at 0x7ff402cd05d0>"
            ]
          },
          "metadata": {},
          "execution_count": 24
        },
        {
          "output_type": "display_data",
          "data": {
            "text/plain": [
              "<Figure size 432x288 with 1 Axes>"
            ],
            "image/png": "[encoded data removed]"
          },
          "metadata": {
            "needs_background": "light"
          }
        }
      ],
      "source": [
        "sns.kdeplot(x='BMI',hue='Outcome',data=diabetes_data_copy)"
      ],
      "id": "89801d3e-bb14-4f70-a0ff-8c078de2899e"
    },
    {
      "cell_type": "code",
      "execution_count": 25,
      "metadata": {
        "colab": {
          "base_uri": "https://localhost:8080/"
        },
        "id": "08d4f18c-acb5-4395-b581-d3378f64ac79",
        "outputId": "a7b96b0d-e2b1-4e96-ff77-41245672558a"
      },
      "outputs": [
        {
          "output_type": "execute_result",
          "data": {
            "text/plain": [
              "Outcome\n",
              "0    30.1\n",
              "1    34.3\n",
              "Name: BMI, dtype: float64"
            ]
          },
          "metadata": {},
          "execution_count": 25
        }
      ],
      "source": [
        "diabetes_data_copy.groupby('Outcome')['BMI'].median()"
      ],
      "id": "08d4f18c-acb5-4395-b581-d3378f64ac79"
    },
    {
      "cell_type": "code",
      "execution_count": 26,
      "metadata": {
        "id": "fb3db1e5-68cf-4512-8f7b-394924314401"
      },
      "outputs": [],
      "source": [
        "diabetes_data_copy.loc[(diabetes_data_copy['Outcome']==0)&(diabetes_data_copy['BMI'].isnull()),'BMI']=30.1\n",
        "diabetes_data_copy.loc[(diabetes_data_copy['Outcome']==1)&(diabetes_data_copy['BMI'].isnull()),'BMI']=34.3"
      ],
      "id": "fb3db1e5-68cf-4512-8f7b-394924314401"
    },
    {
      "cell_type": "code",
      "execution_count": 27,
      "metadata": {
        "colab": {
          "base_uri": "https://localhost:8080/"
        },
        "id": "257a3b7e-32db-43ce-b360-ae10306ebe75",
        "outputId": "872efc13-2161-46b6-e810-1b28a267e0b8"
      },
      "outputs": [
        {
          "output_type": "execute_result",
          "data": {
            "text/plain": [
              "Pregnancies                 0\n",
              "Glucose                     0\n",
              "BloodPressure               0\n",
              "SkinThickness               0\n",
              "Insulin                     0\n",
              "BMI                         0\n",
              "DiabetesPedigreeFunction    0\n",
              "Age                         0\n",
              "Outcome                     0\n",
              "dtype: int64"
            ]
          },
          "metadata": {},
          "execution_count": 27
        }
      ],
      "source": [
        "diabetes_data_copy.isnull().sum()"
      ],
      "id": "257a3b7e-32db-43ce-b360-ae10306ebe75"
    },
    {
      "cell_type": "markdown",
      "metadata": {
        "id": "22cea684-bb80-4cc1-a5ea-5ce6c57d52ba"
      },
      "source": [
        "### STANDARDIZATION"
      ],
      "id": "22cea684-bb80-4cc1-a5ea-5ce6c57d52ba"
    },
    {
      "cell_type": "code",
      "execution_count": 28,
      "metadata": {
        "colab": {
          "base_uri": "https://localhost:8080/",
          "height": 270
        },
        "id": "abe8969c-5c8c-43e3-a996-71dd842b0bc4",
        "outputId": "daf2e9fa-4636-4df3-f61b-72dd93f9a3e5"
      },
      "outputs": [
        {
          "output_type": "execute_result",
          "data": {
            "text/plain": [
              "   Pregnancies   Glucose  BloodPressure  SkinThickness   Insulin       BMI  \\\n",
              "0     0.639947  0.864625      -0.032180       0.665181  0.311604  0.169483   \n",
              "1    -0.844885 -1.204727      -0.528124      -0.010112 -0.440843 -0.848549   \n",
              "2     1.233880  2.014265      -0.693438       0.327535  0.311604 -1.328478   \n",
              "3    -0.844885 -1.073339      -0.528124      -0.685405 -0.536303 -0.630399   \n",
              "4    -1.141852  0.503310      -2.677212       0.665181  0.294758  1.551096   \n",
              "\n",
              "   DiabetesPedigreeFunction       Age  Outcome  \n",
              "0                  0.468492  1.425995        1  \n",
              "1                 -0.365061 -0.190672        0  \n",
              "2                  0.604397 -0.105584        1  \n",
              "3                 -0.920763 -1.041549        0  \n",
              "4                  5.484909 -0.020496        1  "
            ],
            "text/html": [
              "\n",
              "  <div id=\"df-c452b54b-1ce1-4920-aec5-1410d32f03cb\">\n",
              "    <div class=\"colab-df-container\">\n",
              "      <div>\n",
              "<style scoped>\n",
              "    .dataframe tbody tr th:only-of-type {\n",
              "        vertical-align: middle;\n",
              "    }\n",
              "\n",
              "    .dataframe tbody tr th {\n",
              "        vertical-align: top;\n",
              "    }\n",
              "\n",
              "    .dataframe thead th {\n",
              "        text-align: right;\n",
              "    }\n",
              "</style>\n",
              "<table border=\"1\" class=\"dataframe\">\n",
              "  <thead>\n",
              "    <tr style=\"text-align: right;\">\n",
              "      <th></th>\n",
              "      <th>Pregnancies</th>\n",
              "      <th>Glucose</th>\n",
              "      <th>BloodPressure</th>\n",
              "      <th>SkinThickness</th>\n",
              "      <th>Insulin</th>\n",
              "      <th>BMI</th>\n",
              "      <th>DiabetesPedigreeFunction</th>\n",
              "      <th>Age</th>\n",
              "      <th>Outcome</th>\n",
              "    </tr>\n",
              "  </thead>\n",
              "  <tbody>\n",
              "    <tr>\n",
              "      <th>0</th>\n",
              "      <td>0.639947</td>\n",
              "      <td>0.864625</td>\n",
              "      <td>-0.032180</td>\n",
              "      <td>0.665181</td>\n",
              "      <td>0.311604</td>\n",
              "      <td>0.169483</td>\n",
              "      <td>0.468492</td>\n",
              "      <td>1.425995</td>\n",
              "      <td>1</td>\n",
              "    </tr>\n",
              "    <tr>\n",
              "      <th>1</th>\n",
              "      <td>-0.844885</td>\n",
              "      <td>-1.204727</td>\n",
              "      <td>-0.528124</td>\n",
              "      <td>-0.010112</td>\n",
              "      <td>-0.440843</td>\n",
              "      <td>-0.848549</td>\n",
              "      <td>-0.365061</td>\n",
              "      <td>-0.190672</td>\n",
              "      <td>0</td>\n",
              "    </tr>\n",
              "    <tr>\n",
              "      <th>2</th>\n",
              "      <td>1.233880</td>\n",
              "      <td>2.014265</td>\n",
              "      <td>-0.693438</td>\n",
              "      <td>0.327535</td>\n",
              "      <td>0.311604</td>\n",
              "      <td>-1.328478</td>\n",
              "      <td>0.604397</td>\n",
              "      <td>-0.105584</td>\n",
              "      <td>1</td>\n",
              "    </tr>\n",
              "    <tr>\n",
              "      <th>3</th>\n",
              "      <td>-0.844885</td>\n",
              "      <td>-1.073339</td>\n",
              "      <td>-0.528124</td>\n",
              "      <td>-0.685405</td>\n",
              "      <td>-0.536303</td>\n",
              "      <td>-0.630399</td>\n",
              "      <td>-0.920763</td>\n",
              "      <td>-1.041549</td>\n",
              "      <td>0</td>\n",
              "    </tr>\n",
              "    <tr>\n",
              "      <th>4</th>\n",
              "      <td>-1.141852</td>\n",
              "      <td>0.503310</td>\n",
              "      <td>-2.677212</td>\n",
              "      <td>0.665181</td>\n",
              "      <td>0.294758</td>\n",
              "      <td>1.551096</td>\n",
              "      <td>5.484909</td>\n",
              "      <td>-0.020496</td>\n",
              "      <td>1</td>\n",
              "    </tr>\n",
              "  </tbody>\n",
              "</table>\n",
              "</div>\n",
              "      <button class=\"colab-df-convert\" onclick=\"convertToInteractive('df-c452b54b-1ce1-4920-aec5-1410d32f03cb')\"\n",
              "              title=\"Convert this dataframe to an interactive table.\"\n",
              "              style=\"display:none;\">\n",
              "        \n",
              "  <svg xmlns=\"http://www.w3.org/2000/svg\" height=\"24px\"viewBox=\"0 0 24 24\"\n",
              "       width=\"24px\">\n",
              "    <path d=\"M0 0h24v24H0V0z\" fill=\"none\"/>\n",
              "    <path d=\"M18.56 5.44l.94 2.06.94-2.06 2.06-.94-2.06-.94-.94-2.06-.94 2.06-2.06.94zm-11 1L8.5 8.5l.94-2.06 2.06-.94-2.06-.94L8.5 2.5l-.94 2.06-2.06.94zm10 10l.94 2.06.94-2.06 2.06-.94-2.06-.94-.94-2.06-.94 2.06-2.06.94z\"/><path d=\"M17.41 7.96l-1.37-1.37c-.4-.4-.92-.59-1.43-.59-.52 0-1.04.2-1.43.59L10.3 9.45l-7.72 7.72c-.78.78-.78 2.05 0 2.83L4 21.41c.39.39.9.59 1.41.59.51 0 1.02-.2 1.41-.59l7.78-7.78 2.81-2.81c.8-.78.8-2.07 0-2.86zM5.41 20L4 18.59l7.72-7.72 1.47 1.35L5.41 20z\"/>\n",
              "  </svg>\n",
              "      </button>\n",
              "      \n",
              "  <style>\n",
              "    .colab-df-container {\n",
              "      display:flex;\n",
              "      flex-wrap:wrap;\n",
              "      gap: 12px;\n",
              "    }\n",
              "\n",
              "    .colab-df-convert {\n",
              "      background-color: #E8F0FE;\n",
              "      border: none;\n",
              "      border-radius: 50%;\n",
              "      cursor: pointer;\n",
              "      display: none;\n",
              "      fill: #1967D2;\n",
              "      height: 32px;\n",
              "      padding: 0 0 0 0;\n",
              "      width: 32px;\n",
              "    }\n",
              "\n",
              "    .colab-df-convert:hover {\n",
              "      background-color: #E2EBFA;\n",
              "      box-shadow: 0px 1px 2px rgba(60, 64, 67, 0.3), 0px 1px 3px 1px rgba(60, 64, 67, 0.15);\n",
              "      fill: #174EA6;\n",
              "    }\n",
              "\n",
              "    [theme=dark] .colab-df-convert {\n",
              "      background-color: #3B4455;\n",
              "      fill: #D2E3FC;\n",
              "    }\n",
              "\n",
              "    [theme=dark] .colab-df-convert:hover {\n",
              "      background-color: #434B5C;\n",
              "      box-shadow: 0px 1px 3px 1px rgba(0, 0, 0, 0.15);\n",
              "      filter: drop-shadow(0px 1px 2px rgba(0, 0, 0, 0.3));\n",
              "      fill: #FFFFFF;\n",
              "    }\n",
              "  </style>\n",
              "\n",
              "      <script>\n",
              "        const buttonEl =\n",
              "          document.querySelector('#df-c452b54b-1ce1-4920-aec5-1410d32f03cb button.colab-df-convert');\n",
              "        buttonEl.style.display =\n",
              "          google.colab.kernel.accessAllowed ? 'block' : 'none';\n",
              "\n",
              "        async function convertToInteractive(key) {\n",
              "          const element = document.querySelector('#df-c452b54b-1ce1-4920-aec5-1410d32f03cb');\n",
              "          const dataTable =\n",
              "            await google.colab.kernel.invokeFunction('convertToInteractive',\n",
              "                                                     [key], {});\n",
              "          if (!dataTable) return;\n",
              "\n",
              "          const docLinkHtml = 'Like what you see? Visit the ' +\n",
              "            '<a target=\"_blank\" href=https://colab.research.google.com/notebooks/data_table.ipynb>data table notebook</a>'\n",
              "            + ' to learn more about interactive tables.';\n",
              "          element.innerHTML = '';\n",
              "          dataTable['output_type'] = 'display_data';\n",
              "          await google.colab.output.renderOutput(dataTable, element);\n",
              "          const docLink = document.createElement('div');\n",
              "          docLink.innerHTML = docLinkHtml;\n",
              "          element.appendChild(docLink);\n",
              "        }\n",
              "      </script>\n",
              "    </div>\n",
              "  </div>\n",
              "  "
            ]
          },
          "metadata": {},
          "execution_count": 28
        }
      ],
      "source": [
        "\n",
        "scaler = StandardScaler()\n",
        "cols_to_scale = diabetes_data_copy.drop(['Outcome'],axis=1)\n",
        "y = diabetes_data_copy['Outcome']\n",
        "std_diabetes_data = scaler.fit_transform(cols_to_scale)\n",
        "std_diabetes_data = pd.DataFrame(data=std_diabetes_data,columns=diabetes_data_copy.columns[:-1])\n",
        "std_diabetes_data['Outcome'] = diabetes_data_copy['Outcome']\n",
        "std_diabetes_data.head()"
      ],
      "id": "abe8969c-5c8c-43e3-a996-71dd842b0bc4"
    },
    {
      "cell_type": "code",
      "execution_count": 29,
      "metadata": {
        "colab": {
          "base_uri": "https://localhost:8080/",
          "height": 332
        },
        "id": "50758425-10ac-4f13-a6b7-69408bb263cd",
        "outputId": "fe321393-24d3-41b9-84cc-886ab14ec215"
      },
      "outputs": [
        {
          "output_type": "execute_result",
          "data": {
            "text/plain": [
              "                          count          mean       std       min       25%  \\\n",
              "Pregnancies               768.0  2.544261e-17  1.000652 -1.141852 -0.844885   \n",
              "Glucose                   768.0  1.604619e-16  1.000652 -2.551447 -0.720236   \n",
              "BloodPressure             768.0 -3.685926e-16  1.000652 -3.999727 -0.693438   \n",
              "SkinThickness             768.0 -3.928426e-17  1.000652 -2.486187 -0.460307   \n",
              "Insulin                   768.0 -8.601337e-18  1.000652 -1.434747 -0.440843   \n",
              "BMI                       768.0  1.054567e-16  1.000652 -2.070186 -0.717659   \n",
              "DiabetesPedigreeFunction  768.0  2.462585e-16  1.000652 -1.189553 -0.688969   \n",
              "Age                       768.0  1.857600e-16  1.000652 -1.041549 -0.786286   \n",
              "Outcome                   768.0  3.489583e-01  0.476951  0.000000  0.000000   \n",
              "\n",
              "                               50%       75%       max  \n",
              "Pregnancies              -0.250952  0.639947  3.906578  \n",
              "Glucose                  -0.153627  0.610062  2.539814  \n",
              "BloodPressure            -0.032180  0.629077  4.100681  \n",
              "SkinThickness            -0.122661  0.327535  7.868309  \n",
              "Insulin                  -0.440843  0.311604  7.909072  \n",
              "BMI                      -0.055939  0.605782  5.041489  \n",
              "DiabetesPedigreeFunction -0.300128  0.466227  5.883565  \n",
              "Age                      -0.360847  0.660206  4.063716  \n",
              "Outcome                   0.000000  1.000000  1.000000  "
            ],
            "text/html": [
              "\n",
              "  <div id=\"df-26cae7f6-8750-418e-90e7-99ea786b68f5\">\n",
              "    <div class=\"colab-df-container\">\n",
              "      <div>\n",
              "<style scoped>\n",
              "    .dataframe tbody tr th:only-of-type {\n",
              "        vertical-align: middle;\n",
              "    }\n",
              "\n",
              "    .dataframe tbody tr th {\n",
              "        vertical-align: top;\n",
              "    }\n",
              "\n",
              "    .dataframe thead th {\n",
              "        text-align: right;\n",
              "    }\n",
              "</style>\n",
              "<table border=\"1\" class=\"dataframe\">\n",
              "  <thead>\n",
              "    <tr style=\"text-align: right;\">\n",
              "      <th></th>\n",
              "      <th>count</th>\n",
              "      <th>mean</th>\n",
              "      <th>std</th>\n",
              "      <th>min</th>\n",
              "      <th>25%</th>\n",
              "      <th>50%</th>\n",
              "      <th>75%</th>\n",
              "      <th>max</th>\n",
              "    </tr>\n",
              "  </thead>\n",
              "  <tbody>\n",
              "    <tr>\n",
              "      <th>Pregnancies</th>\n",
              "      <td>768.0</td>\n",
              "      <td>2.544261e-17</td>\n",
              "      <td>1.000652</td>\n",
              "      <td>-1.141852</td>\n",
              "      <td>-0.844885</td>\n",
              "      <td>-0.250952</td>\n",
              "      <td>0.639947</td>\n",
              "      <td>3.906578</td>\n",
              "    </tr>\n",
              "    <tr>\n",
              "      <th>Glucose</th>\n",
              "      <td>768.0</td>\n",
              "      <td>1.604619e-16</td>\n",
              "      <td>1.000652</td>\n",
              "      <td>-2.551447</td>\n",
              "      <td>-0.720236</td>\n",
              "      <td>-0.153627</td>\n",
              "      <td>0.610062</td>\n",
              "      <td>2.539814</td>\n",
              "    </tr>\n",
              "    <tr>\n",
              "      <th>BloodPressure</th>\n",
              "      <td>768.0</td>\n",
              "      <td>-3.685926e-16</td>\n",
              "      <td>1.000652</td>\n",
              "      <td>-3.999727</td>\n",
              "      <td>-0.693438</td>\n",
              "      <td>-0.032180</td>\n",
              "      <td>0.629077</td>\n",
              "      <td>4.100681</td>\n",
              "    </tr>\n",
              "    <tr>\n",
              "      <th>SkinThickness</th>\n",
              "      <td>768.0</td>\n",
              "      <td>-3.928426e-17</td>\n",
              "      <td>1.000652</td>\n",
              "      <td>-2.486187</td>\n",
              "      <td>-0.460307</td>\n",
              "      <td>-0.122661</td>\n",
              "      <td>0.327535</td>\n",
              "      <td>7.868309</td>\n",
              "    </tr>\n",
              "    <tr>\n",
              "      <th>Insulin</th>\n",
              "      <td>768.0</td>\n",
              "      <td>-8.601337e-18</td>\n",
              "      <td>1.000652</td>\n",
              "      <td>-1.434747</td>\n",
              "      <td>-0.440843</td>\n",
              "      <td>-0.440843</td>\n",
              "      <td>0.311604</td>\n",
              "      <td>7.909072</td>\n",
              "    </tr>\n",
              "    <tr>\n",
              "      <th>BMI</th>\n",
              "      <td>768.0</td>\n",
              "      <td>1.054567e-16</td>\n",
              "      <td>1.000652</td>\n",
              "      <td>-2.070186</td>\n",
              "      <td>-0.717659</td>\n",
              "      <td>-0.055939</td>\n",
              "      <td>0.605782</td>\n",
              "      <td>5.041489</td>\n",
              "    </tr>\n",
              "    <tr>\n",
              "      <th>DiabetesPedigreeFunction</th>\n",
              "      <td>768.0</td>\n",
              "      <td>2.462585e-16</td>\n",
              "      <td>1.000652</td>\n",
              "      <td>-1.189553</td>\n",
              "      <td>-0.688969</td>\n",
              "      <td>-0.300128</td>\n",
              "      <td>0.466227</td>\n",
              "      <td>5.883565</td>\n",
              "    </tr>\n",
              "    <tr>\n",
              "      <th>Age</th>\n",
              "      <td>768.0</td>\n",
              "      <td>1.857600e-16</td>\n",
              "      <td>1.000652</td>\n",
              "      <td>-1.041549</td>\n",
              "      <td>-0.786286</td>\n",
              "      <td>-0.360847</td>\n",
              "      <td>0.660206</td>\n",
              "      <td>4.063716</td>\n",
              "    </tr>\n",
              "    <tr>\n",
              "      <th>Outcome</th>\n",
              "      <td>768.0</td>\n",
              "      <td>3.489583e-01</td>\n",
              "      <td>0.476951</td>\n",
              "      <td>0.000000</td>\n",
              "      <td>0.000000</td>\n",
              "      <td>0.000000</td>\n",
              "      <td>1.000000</td>\n",
              "      <td>1.000000</td>\n",
              "    </tr>\n",
              "  </tbody>\n",
              "</table>\n",
              "</div>\n",
              "      <button class=\"colab-df-convert\" onclick=\"convertToInteractive('df-26cae7f6-8750-418e-90e7-99ea786b68f5')\"\n",
              "              title=\"Convert this dataframe to an interactive table.\"\n",
              "              style=\"display:none;\">\n",
              "        \n",
              "  <svg xmlns=\"http://www.w3.org/2000/svg\" height=\"24px\"viewBox=\"0 0 24 24\"\n",
              "       width=\"24px\">\n",
              "    <path d=\"M0 0h24v24H0V0z\" fill=\"none\"/>\n",
              "    <path d=\"M18.56 5.44l.94 2.06.94-2.06 2.06-.94-2.06-.94-.94-2.06-.94 2.06-2.06.94zm-11 1L8.5 8.5l.94-2.06 2.06-.94-2.06-.94L8.5 2.5l-.94 2.06-2.06.94zm10 10l.94 2.06.94-2.06 2.06-.94-2.06-.94-.94-2.06-.94 2.06-2.06.94z\"/><path d=\"M17.41 7.96l-1.37-1.37c-.4-.4-.92-.59-1.43-.59-.52 0-1.04.2-1.43.59L10.3 9.45l-7.72 7.72c-.78.78-.78 2.05 0 2.83L4 21.41c.39.39.9.59 1.41.59.51 0 1.02-.2 1.41-.59l7.78-7.78 2.81-2.81c.8-.78.8-2.07 0-2.86zM5.41 20L4 18.59l7.72-7.72 1.47 1.35L5.41 20z\"/>\n",
              "  </svg>\n",
              "      </button>\n",
              "      \n",
              "  <style>\n",
              "    .colab-df-container {\n",
              "      display:flex;\n",
              "      flex-wrap:wrap;\n",
              "      gap: 12px;\n",
              "    }\n",
              "\n",
              "    .colab-df-convert {\n",
              "      background-color: #E8F0FE;\n",
              "      border: none;\n",
              "      border-radius: 50%;\n",
              "      cursor: pointer;\n",
              "      display: none;\n",
              "      fill: #1967D2;\n",
              "      height: 32px;\n",
              "      padding: 0 0 0 0;\n",
              "      width: 32px;\n",
              "    }\n",
              "\n",
              "    .colab-df-convert:hover {\n",
              "      background-color: #E2EBFA;\n",
              "      box-shadow: 0px 1px 2px rgba(60, 64, 67, 0.3), 0px 1px 3px 1px rgba(60, 64, 67, 0.15);\n",
              "      fill: #174EA6;\n",
              "    }\n",
              "\n",
              "    [theme=dark] .colab-df-convert {\n",
              "      background-color: #3B4455;\n",
              "      fill: #D2E3FC;\n",
              "    }\n",
              "\n",
              "    [theme=dark] .colab-df-convert:hover {\n",
              "      background-color: #434B5C;\n",
              "      box-shadow: 0px 1px 3px 1px rgba(0, 0, 0, 0.15);\n",
              "      filter: drop-shadow(0px 1px 2px rgba(0, 0, 0, 0.3));\n",
              "      fill: #FFFFFF;\n",
              "    }\n",
              "  </style>\n",
              "\n",
              "      <script>\n",
              "        const buttonEl =\n",
              "          document.querySelector('#df-26cae7f6-8750-418e-90e7-99ea786b68f5 button.colab-df-convert');\n",
              "        buttonEl.style.display =\n",
              "          google.colab.kernel.accessAllowed ? 'block' : 'none';\n",
              "\n",
              "        async function convertToInteractive(key) {\n",
              "          const element = document.querySelector('#df-26cae7f6-8750-418e-90e7-99ea786b68f5');\n",
              "          const dataTable =\n",
              "            await google.colab.kernel.invokeFunction('convertToInteractive',\n",
              "                                                     [key], {});\n",
              "          if (!dataTable) return;\n",
              "\n",
              "          const docLinkHtml = 'Like what you see? Visit the ' +\n",
              "            '<a target=\"_blank\" href=https://colab.research.google.com/notebooks/data_table.ipynb>data table notebook</a>'\n",
              "            + ' to learn more about interactive tables.';\n",
              "          element.innerHTML = '';\n",
              "          dataTable['output_type'] = 'display_data';\n",
              "          await google.colab.output.renderOutput(dataTable, element);\n",
              "          const docLink = document.createElement('div');\n",
              "          docLink.innerHTML = docLinkHtml;\n",
              "          element.appendChild(docLink);\n",
              "        }\n",
              "      </script>\n",
              "    </div>\n",
              "  </div>\n",
              "  "
            ]
          },
          "metadata": {},
          "execution_count": 29
        }
      ],
      "source": [
        "std_diabetes_data.describe().T"
      ],
      "id": "50758425-10ac-4f13-a6b7-69408bb263cd"
    },
    {
      "cell_type": "code",
      "execution_count": 30,
      "metadata": {
        "colab": {
          "base_uri": "https://localhost:8080/",
          "height": 337
        },
        "id": "358e8d08-60cd-45a7-819c-9a15954f0b37",
        "outputId": "eef04e04-70e6-4cef-bb56-756cd61b6004"
      },
      "outputs": [
        {
          "output_type": "execute_result",
          "data": {
            "text/plain": [
              "<matplotlib.axes._subplots.AxesSubplot at 0x7ff41bd1fcd0>"
            ]
          },
          "metadata": {},
          "execution_count": 30
        },
        {
          "output_type": "display_data",
          "data": {
            "text/plain": [
              "<Figure size 1080x360 with 1 Axes>"
            ],
            "image/png": "[encoded data removed]"
          },
          "metadata": {
            "needs_background": "light"
          }
        }
      ],
      "source": [
        "# DATA DISTRIBUTION AFTER STANDARDIZATION\n",
        "plt.figure(figsize=(15,5))\n",
        "sns.boxplot(data=std_diabetes_data)"
      ],
      "id": "358e8d08-60cd-45a7-819c-9a15954f0b37"
    },
    {
      "cell_type": "markdown",
      "metadata": {
        "id": "1d6505c5-00d2-4d54-974e-f79bb5d58f24"
      },
      "source": [
        "## SMOTE ANALYSIS"
      ],
      "id": "1d6505c5-00d2-4d54-974e-f79bb5d58f24"
    },
    {
      "cell_type": "code",
      "execution_count": 31,
      "metadata": {
        "colab": {
          "base_uri": "https://localhost:8080/",
          "height": 296
        },
        "id": "dd55ca01-f76e-4939-a2c0-d26d25fe6626",
        "outputId": "7d3e1651-ce1d-4b09-9395-26f0236580c3"
      },
      "outputs": [
        {
          "output_type": "execute_result",
          "data": {
            "text/plain": [
              "<matplotlib.axes._subplots.AxesSubplot at 0x7ff404c4c810>"
            ]
          },
          "metadata": {},
          "execution_count": 31
        },
        {
          "output_type": "display_data",
          "data": {
            "text/plain": [
              "<Figure size 432x288 with 1 Axes>"
            ],
            "image/png": "[encoded data removed]"
          },
          "metadata": {
            "needs_background": "light"
          }
        }
      ],
      "source": [
        "# OUTCOME DISTRIBUTION BEFORE SMOTE ANALYSIS\n",
        "sns.countplot(data=std_diabetes_data,x='Outcome')"
      ],
      "id": "dd55ca01-f76e-4939-a2c0-d26d25fe6626"
    },
    {
      "cell_type": "code",
      "execution_count": 32,
      "metadata": {
        "colab": {
          "base_uri": "https://localhost:8080/"
        },
        "id": "3c69c27e-61dd-4e3b-9ee1-3ad2f695da12",
        "outputId": "9b01b172-00ea-4668-c040-7bbac7b04f4b"
      },
      "outputs": [
        {
          "output_type": "execute_result",
          "data": {
            "text/plain": [
              "Pregnancies                 0\n",
              "Glucose                     0\n",
              "BloodPressure               0\n",
              "SkinThickness               0\n",
              "Insulin                     0\n",
              "BMI                         0\n",
              "DiabetesPedigreeFunction    0\n",
              "Age                         0\n",
              "Outcome                     0\n",
              "dtype: int64"
            ]
          },
          "metadata": {},
          "execution_count": 32
        }
      ],
      "source": [
        "std_diabetes_data.isnull().sum()"
      ],
      "id": "3c69c27e-61dd-4e3b-9ee1-3ad2f695da12"
    },
    {
      "cell_type": "code",
      "execution_count": 33,
      "metadata": {
        "colab": {
          "base_uri": "https://localhost:8080/",
          "height": 207
        },
        "id": "9125a028-0c5a-4fba-84c0-63dbaf7d2fff",
        "outputId": "60d5c673-4ec3-4387-c1ab-52342f3e6ddb"
      },
      "outputs": [
        {
          "output_type": "execute_result",
          "data": {
            "text/plain": [
              "   Pregnancies   Glucose  BloodPressure  SkinThickness   Insulin       BMI  \\\n",
              "0     0.639947  0.864625      -0.032180       0.665181  0.311604  0.169483   \n",
              "1    -0.844885 -1.204727      -0.528124      -0.010112 -0.440843 -0.848549   \n",
              "2     1.233880  2.014265      -0.693438       0.327535  0.311604 -1.328478   \n",
              "\n",
              "   DiabetesPedigreeFunction       Age  Outcome  \n",
              "0                  0.468492  1.425995        1  \n",
              "1                 -0.365061 -0.190672        0  \n",
              "2                  0.604397 -0.105584        1  "
            ],
            "text/html": [
              "\n",
              "  <div id=\"df-bf9e78bf-f57c-4bf0-953f-f90b28d4a1c4\">\n",
              "    <div class=\"colab-df-container\">\n",
              "      <div>\n",
              "<style scoped>\n",
              "    .dataframe tbody tr th:only-of-type {\n",
              "        vertical-align: middle;\n",
              "    }\n",
              "\n",
              "    .dataframe tbody tr th {\n",
              "        vertical-align: top;\n",
              "    }\n",
              "\n",
              "    .dataframe thead th {\n",
              "        text-align: right;\n",
              "    }\n",
              "</style>\n",
              "<table border=\"1\" class=\"dataframe\">\n",
              "  <thead>\n",
              "    <tr style=\"text-align: right;\">\n",
              "      <th></th>\n",
              "      <th>Pregnancies</th>\n",
              "      <th>Glucose</th>\n",
              "      <th>BloodPressure</th>\n",
              "      <th>SkinThickness</th>\n",
              "      <th>Insulin</th>\n",
              "      <th>BMI</th>\n",
              "      <th>DiabetesPedigreeFunction</th>\n",
              "      <th>Age</th>\n",
              "      <th>Outcome</th>\n",
              "    </tr>\n",
              "  </thead>\n",
              "  <tbody>\n",
              "    <tr>\n",
              "      <th>0</th>\n",
              "      <td>0.639947</td>\n",
              "      <td>0.864625</td>\n",
              "      <td>-0.032180</td>\n",
              "      <td>0.665181</td>\n",
              "      <td>0.311604</td>\n",
              "      <td>0.169483</td>\n",
              "      <td>0.468492</td>\n",
              "      <td>1.425995</td>\n",
              "      <td>1</td>\n",
              "    </tr>\n",
              "    <tr>\n",
              "      <th>1</th>\n",
              "      <td>-0.844885</td>\n",
              "      <td>-1.204727</td>\n",
              "      <td>-0.528124</td>\n",
              "      <td>-0.010112</td>\n",
              "      <td>-0.440843</td>\n",
              "      <td>-0.848549</td>\n",
              "      <td>-0.365061</td>\n",
              "      <td>-0.190672</td>\n",
              "      <td>0</td>\n",
              "    </tr>\n",
              "    <tr>\n",
              "      <th>2</th>\n",
              "      <td>1.233880</td>\n",
              "      <td>2.014265</td>\n",
              "      <td>-0.693438</td>\n",
              "      <td>0.327535</td>\n",
              "      <td>0.311604</td>\n",
              "      <td>-1.328478</td>\n",
              "      <td>0.604397</td>\n",
              "      <td>-0.105584</td>\n",
              "      <td>1</td>\n",
              "    </tr>\n",
              "  </tbody>\n",
              "</table>\n",
              "</div>\n",
              "      <button class=\"colab-df-convert\" onclick=\"convertToInteractive('df-bf9e78bf-f57c-4bf0-953f-f90b28d4a1c4')\"\n",
              "              title=\"Convert this dataframe to an interactive table.\"\n",
              "              style=\"display:none;\">\n",
              "        \n",
              "  <svg xmlns=\"http://www.w3.org/2000/svg\" height=\"24px\"viewBox=\"0 0 24 24\"\n",
              "       width=\"24px\">\n",
              "    <path d=\"M0 0h24v24H0V0z\" fill=\"none\"/>\n",
              "    <path d=\"M18.56 5.44l.94 2.06.94-2.06 2.06-.94-2.06-.94-.94-2.06-.94 2.06-2.06.94zm-11 1L8.5 8.5l.94-2.06 2.06-.94-2.06-.94L8.5 2.5l-.94 2.06-2.06.94zm10 10l.94 2.06.94-2.06 2.06-.94-2.06-.94-.94-2.06-.94 2.06-2.06.94z\"/><path d=\"M17.41 7.96l-1.37-1.37c-.4-.4-.92-.59-1.43-.59-.52 0-1.04.2-1.43.59L10.3 9.45l-7.72 7.72c-.78.78-.78 2.05 0 2.83L4 21.41c.39.39.9.59 1.41.59.51 0 1.02-.2 1.41-.59l7.78-7.78 2.81-2.81c.8-.78.8-2.07 0-2.86zM5.41 20L4 18.59l7.72-7.72 1.47 1.35L5.41 20z\"/>\n",
              "  </svg>\n",
              "      </button>\n",
              "      \n",
              "  <style>\n",
              "    .colab-df-container {\n",
              "      display:flex;\n",
              "      flex-wrap:wrap;\n",
              "      gap: 12px;\n",
              "    }\n",
              "\n",
              "    .colab-df-convert {\n",
              "      background-color: #E8F0FE;\n",
              "      border: none;\n",
              "      border-radius: 50%;\n",
              "      cursor: pointer;\n",
              "      display: none;\n",
              "      fill: #1967D2;\n",
              "      height: 32px;\n",
              "      padding: 0 0 0 0;\n",
              "      width: 32px;\n",
              "    }\n",
              "\n",
              "    .colab-df-convert:hover {\n",
              "      background-color: #E2EBFA;\n",
              "      box-shadow: 0px 1px 2px rgba(60, 64, 67, 0.3), 0px 1px 3px 1px rgba(60, 64, 67, 0.15);\n",
              "      fill: #174EA6;\n",
              "    }\n",
              "\n",
              "    [theme=dark] .colab-df-convert {\n",
              "      background-color: #3B4455;\n",
              "      fill: #D2E3FC;\n",
              "    }\n",
              "\n",
              "    [theme=dark] .colab-df-convert:hover {\n",
              "      background-color: #434B5C;\n",
              "      box-shadow: 0px 1px 3px 1px rgba(0, 0, 0, 0.15);\n",
              "      filter: drop-shadow(0px 1px 2px rgba(0, 0, 0, 0.3));\n",
              "      fill: #FFFFFF;\n",
              "    }\n",
              "  </style>\n",
              "\n",
              "      <script>\n",
              "        const buttonEl =\n",
              "          document.querySelector('#df-bf9e78bf-f57c-4bf0-953f-f90b28d4a1c4 button.colab-df-convert');\n",
              "        buttonEl.style.display =\n",
              "          google.colab.kernel.accessAllowed ? 'block' : 'none';\n",
              "\n",
              "        async function convertToInteractive(key) {\n",
              "          const element = document.querySelector('#df-bf9e78bf-f57c-4bf0-953f-f90b28d4a1c4');\n",
              "          const dataTable =\n",
              "            await google.colab.kernel.invokeFunction('convertToInteractive',\n",
              "                                                     [key], {});\n",
              "          if (!dataTable) return;\n",
              "\n",
              "          const docLinkHtml = 'Like what you see? Visit the ' +\n",
              "            '<a target=\"_blank\" href=https://colab.research.google.com/notebooks/data_table.ipynb>data table notebook</a>'\n",
              "            + ' to learn more about interactive tables.';\n",
              "          element.innerHTML = '';\n",
              "          dataTable['output_type'] = 'display_data';\n",
              "          await google.colab.output.renderOutput(dataTable, element);\n",
              "          const docLink = document.createElement('div');\n",
              "          docLink.innerHTML = docLinkHtml;\n",
              "          element.appendChild(docLink);\n",
              "        }\n",
              "      </script>\n",
              "    </div>\n",
              "  </div>\n",
              "  "
            ]
          },
          "metadata": {},
          "execution_count": 33
        }
      ],
      "source": [
        "\n",
        "smote = SMOTE()\n",
        "x = std_diabetes_data.drop(['Outcome'],axis=1)\n",
        "y = std_diabetes_data['Outcome']\n",
        "x_smote,y_smote = smote.fit_resample(x,y)\n",
        "data_after_smote = pd.DataFrame(data=x_smote,columns=std_diabetes_data.columns[:-1])\n",
        "data_after_smote['Outcome'] = pd.DataFrame(y_smote)\n",
        "data_after_smote.head(3)"
      ],
      "id": "9125a028-0c5a-4fba-84c0-63dbaf7d2fff"
    },
    {
      "cell_type": "code",
      "execution_count": 34,
      "metadata": {
        "colab": {
          "base_uri": "https://localhost:8080/",
          "height": 296
        },
        "id": "732d233f-a2cb-495e-ba80-d30d5e3fba06",
        "outputId": "49f8e470-3cfe-46eb-c5c8-690d5a0e4eca"
      },
      "outputs": [
        {
          "output_type": "execute_result",
          "data": {
            "text/plain": [
              "<matplotlib.axes._subplots.AxesSubplot at 0x7ff404bb6f50>"
            ]
          },
          "metadata": {},
          "execution_count": 34
        },
        {
          "output_type": "display_data",
          "data": {
            "text/plain": [
              "<Figure size 432x288 with 1 Axes>"
            ],
            "image/png": "[encoded data removed]"
          },
          "metadata": {
            "needs_background": "light"
          }
        }
      ],
      "source": [
        "sns.countplot(data=data_after_smote,x='Outcome')"
      ],
      "id": "732d233f-a2cb-495e-ba80-d30d5e3fba06"
    },
    {
      "cell_type": "code",
      "execution_count": 35,
      "metadata": {
        "colab": {
          "base_uri": "https://localhost:8080/"
        },
        "id": "1a8a0834-37c5-42a1-b317-75f10a0a0baa",
        "outputId": "4170b964-414f-4b8b-ae4b-78674c32f169"
      },
      "outputs": [
        {
          "output_type": "execute_result",
          "data": {
            "text/plain": [
              "(1000, 9)"
            ]
          },
          "metadata": {},
          "execution_count": 35
        }
      ],
      "source": [
        "data_after_smote.shape"
      ],
      "id": "1a8a0834-37c5-42a1-b317-75f10a0a0baa"
    },
    {
      "cell_type": "markdown",
      "metadata": {
        "id": "4d75ed7b-072b-4191-8190-1d645135ed18"
      },
      "source": [
        "## FEATURE SELECTION"
      ],
      "id": "4d75ed7b-072b-4191-8190-1d645135ed18"
    },
    {
      "cell_type": "code",
      "execution_count": 36,
      "metadata": {
        "colab": {
          "base_uri": "https://localhost:8080/"
        },
        "id": "88c9905b-5b66-4f2d-af82-3daedf6596eb",
        "outputId": "efb97a17-5e1f-448f-b52c-47400da0aa4e"
      },
      "outputs": [
        {
          "output_type": "stream",
          "name": "stderr",
          "text": [
            "[Parallel(n_jobs=1)]: Using backend SequentialBackend with 1 concurrent workers.\n",
            "[Parallel(n_jobs=1)]: Done   8 out of   8 | elapsed:    1.9s finished\n",
            "Features: 7/6[Parallel(n_jobs=1)]: Using backend SequentialBackend with 1 concurrent workers.\n",
            "[Parallel(n_jobs=1)]: Done   7 out of   7 | elapsed:    1.5s finished\n",
            "Features: 6/6"
          ]
        }
      ],
      "source": [
        "#BACKWARD SELECTION\n",
        "x1 = diabetes_data_copy.drop(columns='Outcome',axis=1)\n",
        "y1 = diabetes_data_copy['Outcome']\n",
        "rf = RandomForestClassifier()\n",
        "sfs1 = sfs(rf,k_features=6,forward=False,verbose=1,scoring='accuracy',cv=0)\n",
        "sfs1 = sfs1.fit(x1,y1)"
      ],
      "id": "88c9905b-5b66-4f2d-af82-3daedf6596eb"
    },
    {
      "cell_type": "code",
      "execution_count": 37,
      "metadata": {
        "colab": {
          "base_uri": "https://localhost:8080/"
        },
        "id": "b34562b0-d8cd-4a3c-a2b0-d4ea55836604",
        "outputId": "4f6b5a5c-7894-4b4d-84cd-68b7e17a06e7"
      },
      "outputs": [
        {
          "output_type": "stream",
          "name": "stdout",
          "text": [
            "['Pregnancies', 'Glucose', 'BloodPressure', 'SkinThickness', 'Insulin', 'BMI']\n"
          ]
        }
      ],
      "source": [
        "selected_features = list(sfs1.k_feature_names_)\n",
        "print(selected_features)"
      ],
      "id": "b34562b0-d8cd-4a3c-a2b0-d4ea55836604"
    },
    {
      "cell_type": "markdown",
      "metadata": {
        "id": "d90ad907-6666-4d75-967b-25e93d97468b"
      },
      "source": [
        ".............................................................................................................."
      ],
      "id": "d90ad907-6666-4d75-967b-25e93d97468b"
    },
    {
      "cell_type": "markdown",
      "metadata": {
        "id": "28539730-60e9-4658-a5a4-d8da3a6e3b7f"
      },
      "source": [
        "## ALGORITHMS\n",
        "### 1. CATBOOST"
      ],
      "id": "28539730-60e9-4658-a5a4-d8da3a6e3b7f"
    },
    {
      "cell_type": "code",
      "execution_count": 38,
      "metadata": {
        "id": "be4b2bc8-e0ba-4e68-a3fd-a6e787b15417"
      },
      "outputs": [],
      "source": [
        "# prediction with selected features including smote analysis\n",
        "x = data_after_smote.drop(columns=['DiabetesPedigreeFunction','Age','Outcome'],axis=1)\n",
        "y = data_after_smote['Outcome']"
      ],
      "id": "be4b2bc8-e0ba-4e68-a3fd-a6e787b15417"
    },
    {
      "cell_type": "code",
      "execution_count": 39,
      "metadata": {
        "id": "9a040b35-d2a5-46f8-8e34-106ef331226f"
      },
      "outputs": [],
      "source": [
        "x_train,x_test,y_train,y_test = train_test_split(x,y,test_size=0.2,random_state=42)"
      ],
      "id": "9a040b35-d2a5-46f8-8e34-106ef331226f"
    },
    {
      "cell_type": "code",
      "execution_count": 40,
      "metadata": {
        "colab": {
          "base_uri": "https://localhost:8080/"
        },
        "id": "7cac25b6-25a6-4a4a-9334-2d9c430a7b88",
        "outputId": "425334c0-509a-4327-fb43-03f213d0b7e2"
      },
      "outputs": [
        {
          "output_type": "stream",
          "name": "stdout",
          "text": [
            "0:\ttest: 0.9129413\tbest: 0.9129413 (0)\ttotal: 70.1ms\tremaining: 35s\n",
            "1:\ttest: 0.9356936\tbest: 0.9356936 (1)\ttotal: 91ms\tremaining: 22.7s\n",
            "2:\ttest: 0.9402940\tbest: 0.9402940 (2)\ttotal: 109ms\tremaining: 18s\n",
            "3:\ttest: 0.9392439\tbest: 0.9402940 (2)\ttotal: 127ms\tremaining: 15.7s\n",
            "4:\ttest: 0.9446945\tbest: 0.9446945 (4)\ttotal: 153ms\tremaining: 15.2s\n",
            "5:\ttest: 0.9451945\tbest: 0.9451945 (5)\ttotal: 176ms\tremaining: 14.5s\n",
            "6:\ttest: 0.9475948\tbest: 0.9475948 (6)\ttotal: 201ms\tremaining: 14.1s\n",
            "7:\ttest: 0.9465947\tbest: 0.9475948 (6)\ttotal: 218ms\tremaining: 13.4s\n",
            "8:\ttest: 0.9478948\tbest: 0.9478948 (8)\ttotal: 236ms\tremaining: 12.9s\n",
            "9:\ttest: 0.9457946\tbest: 0.9478948 (8)\ttotal: 257ms\tremaining: 12.6s\n",
            "10:\ttest: 0.9441944\tbest: 0.9478948 (8)\ttotal: 280ms\tremaining: 12.4s\n",
            "11:\ttest: 0.9456946\tbest: 0.9478948 (8)\ttotal: 297ms\tremaining: 12.1s\n",
            "12:\ttest: 0.9465947\tbest: 0.9478948 (8)\ttotal: 314ms\tremaining: 11.8s\n",
            "13:\ttest: 0.9466947\tbest: 0.9478948 (8)\ttotal: 332ms\tremaining: 11.5s\n",
            "14:\ttest: 0.9470947\tbest: 0.9478948 (8)\ttotal: 352ms\tremaining: 11.4s\n",
            "15:\ttest: 0.9477948\tbest: 0.9478948 (8)\ttotal: 371ms\tremaining: 11.2s\n",
            "16:\ttest: 0.9487949\tbest: 0.9487949 (16)\ttotal: 389ms\tremaining: 11.1s\n",
            "17:\ttest: 0.9508951\tbest: 0.9508951 (17)\ttotal: 407ms\tremaining: 10.9s\n",
            "18:\ttest: 0.9500950\tbest: 0.9508951 (17)\ttotal: 425ms\tremaining: 10.8s\n",
            "19:\ttest: 0.9492949\tbest: 0.9508951 (17)\ttotal: 443ms\tremaining: 10.6s\n",
            "20:\ttest: 0.9506951\tbest: 0.9508951 (17)\ttotal: 463ms\tremaining: 10.6s\n",
            "21:\ttest: 0.9517952\tbest: 0.9517952 (21)\ttotal: 484ms\tremaining: 10.5s\n",
            "22:\ttest: 0.9510951\tbest: 0.9517952 (21)\ttotal: 503ms\tremaining: 10.4s\n",
            "23:\ttest: 0.9511951\tbest: 0.9517952 (21)\ttotal: 520ms\tremaining: 10.3s\n",
            "24:\ttest: 0.9507951\tbest: 0.9517952 (21)\ttotal: 538ms\tremaining: 10.2s\n",
            "25:\ttest: 0.9519952\tbest: 0.9519952 (25)\ttotal: 560ms\tremaining: 10.2s\n",
            "26:\ttest: 0.9522952\tbest: 0.9522952 (26)\ttotal: 577ms\tremaining: 10.1s\n",
            "27:\ttest: 0.9526953\tbest: 0.9526953 (27)\ttotal: 595ms\tremaining: 10s\n",
            "28:\ttest: 0.9534953\tbest: 0.9534953 (28)\ttotal: 613ms\tremaining: 9.95s\n",
            "29:\ttest: 0.9538954\tbest: 0.9538954 (29)\ttotal: 630ms\tremaining: 9.87s\n",
            "30:\ttest: 0.9539954\tbest: 0.9539954 (30)\ttotal: 648ms\tremaining: 9.81s\n",
            "31:\ttest: 0.9536954\tbest: 0.9539954 (30)\ttotal: 666ms\tremaining: 9.74s\n",
            "32:\ttest: 0.9540954\tbest: 0.9540954 (32)\ttotal: 685ms\tremaining: 9.69s\n",
            "33:\ttest: 0.9546955\tbest: 0.9546955 (33)\ttotal: 706ms\tremaining: 9.68s\n",
            "34:\ttest: 0.9550955\tbest: 0.9550955 (34)\ttotal: 723ms\tremaining: 9.61s\n",
            "35:\ttest: 0.9546955\tbest: 0.9550955 (34)\ttotal: 742ms\tremaining: 9.56s\n",
            "36:\ttest: 0.9544954\tbest: 0.9550955 (34)\ttotal: 762ms\tremaining: 9.53s\n",
            "37:\ttest: 0.9548955\tbest: 0.9550955 (34)\ttotal: 783ms\tremaining: 9.52s\n",
            "38:\ttest: 0.9547955\tbest: 0.9550955 (34)\ttotal: 800ms\tremaining: 9.46s\n",
            "39:\ttest: 0.9548955\tbest: 0.9550955 (34)\ttotal: 822ms\tremaining: 9.45s\n",
            "40:\ttest: 0.9547955\tbest: 0.9550955 (34)\ttotal: 840ms\tremaining: 9.4s\n",
            "41:\ttest: 0.9544954\tbest: 0.9550955 (34)\ttotal: 857ms\tremaining: 9.35s\n",
            "42:\ttest: 0.9542954\tbest: 0.9550955 (34)\ttotal: 875ms\tremaining: 9.3s\n",
            "43:\ttest: 0.9547955\tbest: 0.9550955 (34)\ttotal: 897ms\tremaining: 9.3s\n",
            "44:\ttest: 0.9557956\tbest: 0.9557956 (44)\ttotal: 914ms\tremaining: 9.24s\n",
            "45:\ttest: 0.9552955\tbest: 0.9557956 (44)\ttotal: 932ms\tremaining: 9.2s\n",
            "46:\ttest: 0.9555956\tbest: 0.9557956 (44)\ttotal: 949ms\tremaining: 9.15s\n",
            "47:\ttest: 0.9562956\tbest: 0.9562956 (47)\ttotal: 971ms\tremaining: 9.14s\n",
            "48:\ttest: 0.9567957\tbest: 0.9567957 (48)\ttotal: 989ms\tremaining: 9.1s\n",
            "49:\ttest: 0.9573957\tbest: 0.9573957 (49)\ttotal: 1.01s\tremaining: 9.05s\n",
            "50:\ttest: 0.9567957\tbest: 0.9573957 (49)\ttotal: 1.02s\tremaining: 9.01s\n",
            "51:\ttest: 0.9564956\tbest: 0.9573957 (49)\ttotal: 1.04s\tremaining: 8.97s\n",
            "52:\ttest: 0.9566957\tbest: 0.9573957 (49)\ttotal: 1.06s\tremaining: 8.93s\n",
            "53:\ttest: 0.9569957\tbest: 0.9573957 (49)\ttotal: 1.08s\tremaining: 8.89s\n",
            "54:\ttest: 0.9578958\tbest: 0.9578958 (54)\ttotal: 1.1s\tremaining: 8.87s\n",
            "55:\ttest: 0.9580958\tbest: 0.9580958 (55)\ttotal: 1.11s\tremaining: 8.84s\n",
            "56:\ttest: 0.9583958\tbest: 0.9583958 (56)\ttotal: 1.13s\tremaining: 8.8s\n",
            "57:\ttest: 0.9585959\tbest: 0.9585959 (57)\ttotal: 1.15s\tremaining: 8.76s\n",
            "58:\ttest: 0.9584958\tbest: 0.9585959 (57)\ttotal: 1.17s\tremaining: 8.78s\n",
            "59:\ttest: 0.9586959\tbest: 0.9586959 (59)\ttotal: 1.2s\tremaining: 8.79s\n",
            "60:\ttest: 0.9587959\tbest: 0.9587959 (60)\ttotal: 1.22s\tremaining: 8.75s\n",
            "61:\ttest: 0.9583958\tbest: 0.9587959 (60)\ttotal: 1.23s\tremaining: 8.71s\n",
            "62:\ttest: 0.9589959\tbest: 0.9589959 (62)\ttotal: 1.25s\tremaining: 8.67s\n",
            "63:\ttest: 0.9590959\tbest: 0.9590959 (63)\ttotal: 1.27s\tremaining: 8.64s\n",
            "64:\ttest: 0.9588959\tbest: 0.9590959 (63)\ttotal: 1.28s\tremaining: 8.61s\n",
            "65:\ttest: 0.9584958\tbest: 0.9590959 (63)\ttotal: 1.31s\tremaining: 8.6s\n",
            "66:\ttest: 0.9589959\tbest: 0.9590959 (63)\ttotal: 1.33s\tremaining: 8.59s\n",
            "67:\ttest: 0.9584958\tbest: 0.9590959 (63)\ttotal: 1.35s\tremaining: 8.56s\n",
            "68:\ttest: 0.9584958\tbest: 0.9590959 (63)\ttotal: 1.37s\tremaining: 8.56s\n",
            "69:\ttest: 0.9589959\tbest: 0.9590959 (63)\ttotal: 1.39s\tremaining: 8.55s\n",
            "70:\ttest: 0.9585959\tbest: 0.9590959 (63)\ttotal: 1.41s\tremaining: 8.53s\n",
            "71:\ttest: 0.9583958\tbest: 0.9590959 (63)\ttotal: 1.43s\tremaining: 8.5s\n",
            "72:\ttest: 0.9587959\tbest: 0.9590959 (63)\ttotal: 1.46s\tremaining: 8.53s\n",
            "73:\ttest: 0.9587959\tbest: 0.9590959 (63)\ttotal: 1.49s\tremaining: 8.59s\n",
            "74:\ttest: 0.9588959\tbest: 0.9590959 (63)\ttotal: 1.53s\tremaining: 8.68s\n",
            "75:\ttest: 0.9584958\tbest: 0.9590959 (63)\ttotal: 1.57s\tremaining: 8.75s\n",
            "76:\ttest: 0.9588959\tbest: 0.9590959 (63)\ttotal: 1.6s\tremaining: 8.81s\n",
            "77:\ttest: 0.9586959\tbest: 0.9590959 (63)\ttotal: 1.63s\tremaining: 8.8s\n",
            "78:\ttest: 0.9585959\tbest: 0.9590959 (63)\ttotal: 1.65s\tremaining: 8.8s\n",
            "79:\ttest: 0.9586959\tbest: 0.9590959 (63)\ttotal: 1.68s\tremaining: 8.83s\n",
            "80:\ttest: 0.9588959\tbest: 0.9590959 (63)\ttotal: 1.72s\tremaining: 8.88s\n",
            "81:\ttest: 0.9586959\tbest: 0.9590959 (63)\ttotal: 1.75s\tremaining: 8.94s\n",
            "82:\ttest: 0.9585959\tbest: 0.9590959 (63)\ttotal: 1.79s\tremaining: 8.98s\n",
            "83:\ttest: 0.9585959\tbest: 0.9590959 (63)\ttotal: 1.81s\tremaining: 8.96s\n",
            "84:\ttest: 0.9580958\tbest: 0.9590959 (63)\ttotal: 1.83s\tremaining: 8.94s\n",
            "85:\ttest: 0.9578958\tbest: 0.9590959 (63)\ttotal: 1.85s\tremaining: 8.89s\n",
            "86:\ttest: 0.9580958\tbest: 0.9590959 (63)\ttotal: 1.86s\tremaining: 8.85s\n",
            "87:\ttest: 0.9584958\tbest: 0.9590959 (63)\ttotal: 1.88s\tremaining: 8.8s\n",
            "88:\ttest: 0.9588959\tbest: 0.9590959 (63)\ttotal: 1.9s\tremaining: 8.76s\n",
            "89:\ttest: 0.9584958\tbest: 0.9590959 (63)\ttotal: 1.92s\tremaining: 8.74s\n",
            "90:\ttest: 0.9583958\tbest: 0.9590959 (63)\ttotal: 1.94s\tremaining: 8.7s\n",
            "91:\ttest: 0.9585959\tbest: 0.9590959 (63)\ttotal: 1.96s\tremaining: 8.68s\n",
            "92:\ttest: 0.9583958\tbest: 0.9590959 (63)\ttotal: 1.98s\tremaining: 8.64s\n",
            "93:\ttest: 0.9585959\tbest: 0.9590959 (63)\ttotal: 1.99s\tremaining: 8.61s\n",
            "94:\ttest: 0.9589959\tbest: 0.9590959 (63)\ttotal: 2.02s\tremaining: 8.59s\n",
            "95:\ttest: 0.9581958\tbest: 0.9590959 (63)\ttotal: 2.03s\tremaining: 8.56s\n",
            "96:\ttest: 0.9588959\tbest: 0.9590959 (63)\ttotal: 2.05s\tremaining: 8.52s\n",
            "97:\ttest: 0.9586959\tbest: 0.9590959 (63)\ttotal: 2.07s\tremaining: 8.48s\n",
            "98:\ttest: 0.9591959\tbest: 0.9591959 (98)\ttotal: 2.08s\tremaining: 8.45s\n",
            "99:\ttest: 0.9591959\tbest: 0.9591959 (98)\ttotal: 2.1s\tremaining: 8.41s\n",
            "100:\ttest: 0.9592959\tbest: 0.9592959 (100)\ttotal: 2.12s\tremaining: 8.38s\n",
            "101:\ttest: 0.9597960\tbest: 0.9597960 (101)\ttotal: 2.14s\tremaining: 8.34s\n",
            "102:\ttest: 0.9596960\tbest: 0.9597960 (101)\ttotal: 2.16s\tremaining: 8.33s\n",
            "103:\ttest: 0.9592959\tbest: 0.9597960 (101)\ttotal: 2.18s\tremaining: 8.31s\n",
            "104:\ttest: 0.9595960\tbest: 0.9597960 (101)\ttotal: 2.21s\tremaining: 8.3s\n",
            "105:\ttest: 0.9599960\tbest: 0.9599960 (105)\ttotal: 2.23s\tremaining: 8.28s\n",
            "106:\ttest: 0.9598960\tbest: 0.9599960 (105)\ttotal: 2.25s\tremaining: 8.25s\n",
            "107:\ttest: 0.9596960\tbest: 0.9599960 (105)\ttotal: 2.26s\tremaining: 8.22s\n",
            "108:\ttest: 0.9598960\tbest: 0.9599960 (105)\ttotal: 2.28s\tremaining: 8.18s\n",
            "109:\ttest: 0.9597960\tbest: 0.9599960 (105)\ttotal: 2.3s\tremaining: 8.15s\n",
            "110:\ttest: 0.9596960\tbest: 0.9599960 (105)\ttotal: 2.31s\tremaining: 8.12s\n",
            "111:\ttest: 0.9591959\tbest: 0.9599960 (105)\ttotal: 2.33s\tremaining: 8.08s\n",
            "112:\ttest: 0.9591959\tbest: 0.9599960 (105)\ttotal: 2.35s\tremaining: 8.05s\n",
            "113:\ttest: 0.9590959\tbest: 0.9599960 (105)\ttotal: 2.37s\tremaining: 8.04s\n",
            "114:\ttest: 0.9591959\tbest: 0.9599960 (105)\ttotal: 2.39s\tremaining: 8.01s\n",
            "115:\ttest: 0.9596960\tbest: 0.9599960 (105)\ttotal: 2.41s\tremaining: 7.98s\n",
            "116:\ttest: 0.9596960\tbest: 0.9599960 (105)\ttotal: 2.43s\tremaining: 7.97s\n",
            "117:\ttest: 0.9597960\tbest: 0.9599960 (105)\ttotal: 2.45s\tremaining: 7.93s\n",
            "118:\ttest: 0.9597960\tbest: 0.9599960 (105)\ttotal: 2.47s\tremaining: 7.91s\n",
            "119:\ttest: 0.9598960\tbest: 0.9599960 (105)\ttotal: 2.49s\tremaining: 7.88s\n",
            "120:\ttest: 0.9594959\tbest: 0.9599960 (105)\ttotal: 2.5s\tremaining: 7.84s\n",
            "121:\ttest: 0.9594959\tbest: 0.9599960 (105)\ttotal: 2.52s\tremaining: 7.81s\n",
            "122:\ttest: 0.9595960\tbest: 0.9599960 (105)\ttotal: 2.54s\tremaining: 7.79s\n",
            "123:\ttest: 0.9593959\tbest: 0.9599960 (105)\ttotal: 2.56s\tremaining: 7.75s\n",
            "124:\ttest: 0.9591959\tbest: 0.9599960 (105)\ttotal: 2.58s\tremaining: 7.74s\n",
            "125:\ttest: 0.9595960\tbest: 0.9599960 (105)\ttotal: 2.6s\tremaining: 7.71s\n",
            "126:\ttest: 0.9595960\tbest: 0.9599960 (105)\ttotal: 2.61s\tremaining: 7.68s\n",
            "127:\ttest: 0.9593959\tbest: 0.9599960 (105)\ttotal: 2.64s\tremaining: 7.67s\n",
            "128:\ttest: 0.9593959\tbest: 0.9599960 (105)\ttotal: 2.65s\tremaining: 7.63s\n",
            "129:\ttest: 0.9592959\tbest: 0.9599960 (105)\ttotal: 2.67s\tremaining: 7.61s\n",
            "130:\ttest: 0.9598960\tbest: 0.9599960 (105)\ttotal: 2.69s\tremaining: 7.58s\n",
            "131:\ttest: 0.9596960\tbest: 0.9599960 (105)\ttotal: 2.71s\tremaining: 7.55s\n",
            "132:\ttest: 0.9599960\tbest: 0.9599960 (105)\ttotal: 2.72s\tremaining: 7.52s\n",
            "133:\ttest: 0.9601960\tbest: 0.9601960 (133)\ttotal: 2.74s\tremaining: 7.49s\n",
            "134:\ttest: 0.9600960\tbest: 0.9601960 (133)\ttotal: 2.76s\tremaining: 7.46s\n",
            "135:\ttest: 0.9600960\tbest: 0.9601960 (133)\ttotal: 2.77s\tremaining: 7.43s\n",
            "136:\ttest: 0.9602960\tbest: 0.9602960 (136)\ttotal: 2.8s\tremaining: 7.41s\n",
            "137:\ttest: 0.9599960\tbest: 0.9602960 (136)\ttotal: 2.81s\tremaining: 7.38s\n",
            "138:\ttest: 0.9602960\tbest: 0.9602960 (136)\ttotal: 2.83s\tremaining: 7.36s\n",
            "139:\ttest: 0.9599960\tbest: 0.9602960 (136)\ttotal: 2.85s\tremaining: 7.34s\n",
            "140:\ttest: 0.9600960\tbest: 0.9602960 (136)\ttotal: 2.87s\tremaining: 7.31s\n",
            "141:\ttest: 0.9606961\tbest: 0.9606961 (141)\ttotal: 2.89s\tremaining: 7.28s\n",
            "142:\ttest: 0.9605961\tbest: 0.9606961 (141)\ttotal: 2.9s\tremaining: 7.25s\n",
            "143:\ttest: 0.9604960\tbest: 0.9606961 (141)\ttotal: 2.92s\tremaining: 7.23s\n",
            "144:\ttest: 0.9601960\tbest: 0.9606961 (141)\ttotal: 2.94s\tremaining: 7.2s\n",
            "145:\ttest: 0.9597960\tbest: 0.9606961 (141)\ttotal: 2.96s\tremaining: 7.17s\n",
            "146:\ttest: 0.9598960\tbest: 0.9606961 (141)\ttotal: 2.98s\tremaining: 7.15s\n",
            "147:\ttest: 0.9601960\tbest: 0.9606961 (141)\ttotal: 3s\tremaining: 7.13s\n",
            "148:\ttest: 0.9599960\tbest: 0.9606961 (141)\ttotal: 3.01s\tremaining: 7.1s\n",
            "149:\ttest: 0.9600960\tbest: 0.9606961 (141)\ttotal: 3.03s\tremaining: 7.07s\n",
            "150:\ttest: 0.9601960\tbest: 0.9606961 (141)\ttotal: 3.05s\tremaining: 7.05s\n",
            "151:\ttest: 0.9601960\tbest: 0.9606961 (141)\ttotal: 3.07s\tremaining: 7.03s\n",
            "152:\ttest: 0.9603960\tbest: 0.9606961 (141)\ttotal: 3.09s\tremaining: 7.01s\n",
            "153:\ttest: 0.9602960\tbest: 0.9606961 (141)\ttotal: 3.11s\tremaining: 6.98s\n",
            "154:\ttest: 0.9598960\tbest: 0.9606961 (141)\ttotal: 3.13s\tremaining: 6.96s\n",
            "155:\ttest: 0.9600960\tbest: 0.9606961 (141)\ttotal: 3.14s\tremaining: 6.93s\n",
            "156:\ttest: 0.9600960\tbest: 0.9606961 (141)\ttotal: 3.16s\tremaining: 6.9s\n",
            "157:\ttest: 0.9605961\tbest: 0.9606961 (141)\ttotal: 3.19s\tremaining: 6.9s\n",
            "158:\ttest: 0.9601960\tbest: 0.9606961 (141)\ttotal: 3.21s\tremaining: 6.88s\n",
            "159:\ttest: 0.9601960\tbest: 0.9606961 (141)\ttotal: 3.23s\tremaining: 6.86s\n",
            "160:\ttest: 0.9603960\tbest: 0.9606961 (141)\ttotal: 3.24s\tremaining: 6.83s\n",
            "161:\ttest: 0.9605961\tbest: 0.9606961 (141)\ttotal: 3.27s\tremaining: 6.82s\n",
            "162:\ttest: 0.9606961\tbest: 0.9606961 (141)\ttotal: 3.28s\tremaining: 6.79s\n",
            "163:\ttest: 0.9607961\tbest: 0.9607961 (163)\ttotal: 3.3s\tremaining: 6.76s\n",
            "164:\ttest: 0.9606961\tbest: 0.9607961 (163)\ttotal: 3.32s\tremaining: 6.74s\n",
            "165:\ttest: 0.9603960\tbest: 0.9607961 (163)\ttotal: 3.34s\tremaining: 6.71s\n",
            "166:\ttest: 0.9604960\tbest: 0.9607961 (163)\ttotal: 3.35s\tremaining: 6.68s\n",
            "167:\ttest: 0.9601960\tbest: 0.9607961 (163)\ttotal: 3.37s\tremaining: 6.66s\n",
            "168:\ttest: 0.9608961\tbest: 0.9608961 (168)\ttotal: 3.39s\tremaining: 6.63s\n",
            "169:\ttest: 0.9604960\tbest: 0.9608961 (168)\ttotal: 3.41s\tremaining: 6.61s\n",
            "170:\ttest: 0.9607961\tbest: 0.9608961 (168)\ttotal: 3.43s\tremaining: 6.59s\n",
            "171:\ttest: 0.9606961\tbest: 0.9608961 (168)\ttotal: 3.44s\tremaining: 6.57s\n",
            "172:\ttest: 0.9608961\tbest: 0.9608961 (168)\ttotal: 3.46s\tremaining: 6.54s\n",
            "173:\ttest: 0.9609961\tbest: 0.9609961 (173)\ttotal: 3.48s\tremaining: 6.53s\n",
            "174:\ttest: 0.9611961\tbest: 0.9611961 (174)\ttotal: 3.5s\tremaining: 6.5s\n",
            "175:\ttest: 0.9611961\tbest: 0.9611961 (174)\ttotal: 3.52s\tremaining: 6.48s\n",
            "176:\ttest: 0.9615962\tbest: 0.9615962 (176)\ttotal: 3.54s\tremaining: 6.45s\n",
            "177:\ttest: 0.9611961\tbest: 0.9615962 (176)\ttotal: 3.55s\tremaining: 6.43s\n",
            "178:\ttest: 0.9611961\tbest: 0.9615962 (176)\ttotal: 3.57s\tremaining: 6.4s\n",
            "179:\ttest: 0.9609961\tbest: 0.9615962 (176)\ttotal: 3.59s\tremaining: 6.38s\n",
            "180:\ttest: 0.9612961\tbest: 0.9615962 (176)\ttotal: 3.6s\tremaining: 6.35s\n",
            "181:\ttest: 0.9615962\tbest: 0.9615962 (176)\ttotal: 3.63s\tremaining: 6.34s\n",
            "182:\ttest: 0.9613961\tbest: 0.9615962 (176)\ttotal: 3.65s\tremaining: 6.32s\n",
            "183:\ttest: 0.9612961\tbest: 0.9615962 (176)\ttotal: 3.68s\tremaining: 6.32s\n",
            "184:\ttest: 0.9613961\tbest: 0.9615962 (176)\ttotal: 3.7s\tremaining: 6.31s\n",
            "185:\ttest: 0.9613961\tbest: 0.9615962 (176)\ttotal: 3.72s\tremaining: 6.28s\n",
            "186:\ttest: 0.9615962\tbest: 0.9615962 (176)\ttotal: 3.74s\tremaining: 6.26s\n",
            "187:\ttest: 0.9616962\tbest: 0.9616962 (187)\ttotal: 3.76s\tremaining: 6.24s\n",
            "188:\ttest: 0.9616962\tbest: 0.9616962 (187)\ttotal: 3.77s\tremaining: 6.21s\n",
            "189:\ttest: 0.9615962\tbest: 0.9616962 (187)\ttotal: 3.79s\tremaining: 6.19s\n",
            "190:\ttest: 0.9616962\tbest: 0.9616962 (187)\ttotal: 3.81s\tremaining: 6.16s\n",
            "191:\ttest: 0.9616962\tbest: 0.9616962 (187)\ttotal: 3.83s\tremaining: 6.14s\n",
            "192:\ttest: 0.9615962\tbest: 0.9616962 (187)\ttotal: 3.86s\tremaining: 6.14s\n",
            "193:\ttest: 0.9614961\tbest: 0.9616962 (187)\ttotal: 3.89s\tremaining: 6.13s\n",
            "194:\ttest: 0.9614961\tbest: 0.9616962 (187)\ttotal: 3.91s\tremaining: 6.11s\n",
            "195:\ttest: 0.9614961\tbest: 0.9616962 (187)\ttotal: 3.91s\tremaining: 6.06s\n",
            "196:\ttest: 0.9616962\tbest: 0.9616962 (187)\ttotal: 3.93s\tremaining: 6.04s\n",
            "197:\ttest: 0.9617962\tbest: 0.9617962 (197)\ttotal: 3.94s\tremaining: 6.01s\n",
            "198:\ttest: 0.9615962\tbest: 0.9617962 (197)\ttotal: 3.96s\tremaining: 5.99s\n",
            "199:\ttest: 0.9614961\tbest: 0.9617962 (197)\ttotal: 3.98s\tremaining: 5.97s\n",
            "200:\ttest: 0.9618962\tbest: 0.9618962 (200)\ttotal: 4s\tremaining: 5.94s\n",
            "201:\ttest: 0.9618962\tbest: 0.9618962 (200)\ttotal: 4.01s\tremaining: 5.92s\n",
            "202:\ttest: 0.9620962\tbest: 0.9620962 (202)\ttotal: 4.03s\tremaining: 5.9s\n",
            "203:\ttest: 0.9621962\tbest: 0.9621962 (203)\ttotal: 4.05s\tremaining: 5.88s\n",
            "204:\ttest: 0.9623962\tbest: 0.9623962 (204)\ttotal: 4.07s\tremaining: 5.86s\n",
            "205:\ttest: 0.9622962\tbest: 0.9623962 (204)\ttotal: 4.09s\tremaining: 5.84s\n",
            "206:\ttest: 0.9621962\tbest: 0.9623962 (204)\ttotal: 4.11s\tremaining: 5.82s\n",
            "207:\ttest: 0.9624962\tbest: 0.9624962 (207)\ttotal: 4.13s\tremaining: 5.79s\n",
            "208:\ttest: 0.9625963\tbest: 0.9625963 (208)\ttotal: 4.14s\tremaining: 5.77s\n",
            "209:\ttest: 0.9623962\tbest: 0.9625963 (208)\ttotal: 4.16s\tremaining: 5.75s\n",
            "210:\ttest: 0.9622962\tbest: 0.9625963 (208)\ttotal: 4.19s\tremaining: 5.74s\n",
            "211:\ttest: 0.9624962\tbest: 0.9625963 (208)\ttotal: 4.21s\tremaining: 5.72s\n",
            "212:\ttest: 0.9623962\tbest: 0.9625963 (208)\ttotal: 4.22s\tremaining: 5.69s\n",
            "213:\ttest: 0.9623962\tbest: 0.9625963 (208)\ttotal: 4.25s\tremaining: 5.68s\n",
            "214:\ttest: 0.9622962\tbest: 0.9625963 (208)\ttotal: 4.27s\tremaining: 5.66s\n",
            "215:\ttest: 0.9623962\tbest: 0.9625963 (208)\ttotal: 4.29s\tremaining: 5.63s\n",
            "216:\ttest: 0.9624962\tbest: 0.9625963 (208)\ttotal: 4.31s\tremaining: 5.62s\n",
            "217:\ttest: 0.9624962\tbest: 0.9625963 (208)\ttotal: 4.32s\tremaining: 5.59s\n",
            "218:\ttest: 0.9625963\tbest: 0.9625963 (208)\ttotal: 4.34s\tremaining: 5.57s\n",
            "219:\ttest: 0.9625963\tbest: 0.9625963 (208)\ttotal: 4.36s\tremaining: 5.55s\n",
            "220:\ttest: 0.9626963\tbest: 0.9626963 (220)\ttotal: 4.38s\tremaining: 5.53s\n",
            "221:\ttest: 0.9627963\tbest: 0.9627963 (221)\ttotal: 4.4s\tremaining: 5.5s\n",
            "222:\ttest: 0.9626963\tbest: 0.9627963 (221)\ttotal: 4.41s\tremaining: 5.48s\n",
            "223:\ttest: 0.9625963\tbest: 0.9627963 (221)\ttotal: 4.43s\tremaining: 5.46s\n",
            "224:\ttest: 0.9626963\tbest: 0.9627963 (221)\ttotal: 4.45s\tremaining: 5.44s\n",
            "225:\ttest: 0.9624962\tbest: 0.9627963 (221)\ttotal: 4.47s\tremaining: 5.42s\n",
            "226:\ttest: 0.9626963\tbest: 0.9627963 (221)\ttotal: 4.49s\tremaining: 5.4s\n",
            "227:\ttest: 0.9627963\tbest: 0.9627963 (221)\ttotal: 4.51s\tremaining: 5.38s\n",
            "228:\ttest: 0.9625963\tbest: 0.9627963 (221)\ttotal: 4.53s\tremaining: 5.37s\n",
            "229:\ttest: 0.9625963\tbest: 0.9627963 (221)\ttotal: 4.55s\tremaining: 5.34s\n",
            "230:\ttest: 0.9626963\tbest: 0.9627963 (221)\ttotal: 4.57s\tremaining: 5.32s\n",
            "231:\ttest: 0.9624962\tbest: 0.9627963 (221)\ttotal: 4.58s\tremaining: 5.3s\n",
            "232:\ttest: 0.9625963\tbest: 0.9627963 (221)\ttotal: 4.6s\tremaining: 5.27s\n",
            "233:\ttest: 0.9623962\tbest: 0.9627963 (221)\ttotal: 4.62s\tremaining: 5.25s\n",
            "234:\ttest: 0.9625963\tbest: 0.9627963 (221)\ttotal: 4.64s\tremaining: 5.23s\n",
            "235:\ttest: 0.9624962\tbest: 0.9627963 (221)\ttotal: 4.66s\tremaining: 5.21s\n",
            "236:\ttest: 0.9627963\tbest: 0.9627963 (221)\ttotal: 4.68s\tremaining: 5.19s\n",
            "237:\ttest: 0.9626963\tbest: 0.9627963 (221)\ttotal: 4.7s\tremaining: 5.17s\n",
            "238:\ttest: 0.9630963\tbest: 0.9630963 (238)\ttotal: 4.72s\tremaining: 5.15s\n",
            "239:\ttest: 0.9626963\tbest: 0.9630963 (238)\ttotal: 4.74s\tremaining: 5.13s\n",
            "240:\ttest: 0.9628963\tbest: 0.9630963 (238)\ttotal: 4.75s\tremaining: 5.11s\n",
            "241:\ttest: 0.9628963\tbest: 0.9630963 (238)\ttotal: 4.77s\tremaining: 5.09s\n",
            "242:\ttest: 0.9630963\tbest: 0.9630963 (238)\ttotal: 4.79s\tremaining: 5.06s\n",
            "243:\ttest: 0.9631963\tbest: 0.9631963 (243)\ttotal: 4.81s\tremaining: 5.04s\n",
            "244:\ttest: 0.9630963\tbest: 0.9631963 (243)\ttotal: 4.83s\tremaining: 5.03s\n",
            "245:\ttest: 0.9631963\tbest: 0.9631963 (243)\ttotal: 4.85s\tremaining: 5s\n",
            "246:\ttest: 0.9631963\tbest: 0.9631963 (243)\ttotal: 4.87s\tremaining: 4.99s\n",
            "247:\ttest: 0.9633963\tbest: 0.9633963 (247)\ttotal: 4.89s\tremaining: 4.97s\n",
            "248:\ttest: 0.9632963\tbest: 0.9633963 (247)\ttotal: 4.9s\tremaining: 4.94s\n",
            "249:\ttest: 0.9634963\tbest: 0.9634963 (249)\ttotal: 4.92s\tremaining: 4.92s\n",
            "250:\ttest: 0.9635964\tbest: 0.9635964 (250)\ttotal: 4.94s\tremaining: 4.9s\n",
            "251:\ttest: 0.9630963\tbest: 0.9635964 (250)\ttotal: 4.96s\tremaining: 4.88s\n",
            "252:\ttest: 0.9633963\tbest: 0.9635964 (250)\ttotal: 4.98s\tremaining: 4.86s\n",
            "253:\ttest: 0.9634963\tbest: 0.9635964 (250)\ttotal: 5s\tremaining: 4.84s\n",
            "254:\ttest: 0.9635964\tbest: 0.9635964 (250)\ttotal: 5.01s\tremaining: 4.82s\n",
            "255:\ttest: 0.9634963\tbest: 0.9635964 (250)\ttotal: 5.03s\tremaining: 4.79s\n",
            "256:\ttest: 0.9633963\tbest: 0.9635964 (250)\ttotal: 5.05s\tremaining: 4.77s\n",
            "257:\ttest: 0.9633963\tbest: 0.9635964 (250)\ttotal: 5.07s\tremaining: 4.75s\n",
            "258:\ttest: 0.9634963\tbest: 0.9635964 (250)\ttotal: 5.09s\tremaining: 4.74s\n",
            "259:\ttest: 0.9632963\tbest: 0.9635964 (250)\ttotal: 5.11s\tremaining: 4.71s\n",
            "260:\ttest: 0.9634963\tbest: 0.9635964 (250)\ttotal: 5.13s\tremaining: 4.7s\n",
            "261:\ttest: 0.9636964\tbest: 0.9636964 (261)\ttotal: 5.15s\tremaining: 4.68s\n",
            "262:\ttest: 0.9636964\tbest: 0.9636964 (261)\ttotal: 5.17s\tremaining: 4.66s\n",
            "263:\ttest: 0.9636964\tbest: 0.9636964 (261)\ttotal: 5.2s\tremaining: 4.64s\n",
            "264:\ttest: 0.9632963\tbest: 0.9636964 (261)\ttotal: 5.21s\tremaining: 4.62s\n",
            "265:\ttest: 0.9634963\tbest: 0.9636964 (261)\ttotal: 5.23s\tremaining: 4.6s\n",
            "266:\ttest: 0.9637964\tbest: 0.9637964 (266)\ttotal: 5.25s\tremaining: 4.58s\n",
            "267:\ttest: 0.9636964\tbest: 0.9637964 (266)\ttotal: 5.26s\tremaining: 4.56s\n",
            "268:\ttest: 0.9634963\tbest: 0.9637964 (266)\ttotal: 5.29s\tremaining: 4.54s\n",
            "269:\ttest: 0.9629963\tbest: 0.9637964 (266)\ttotal: 5.31s\tremaining: 4.52s\n",
            "270:\ttest: 0.9631963\tbest: 0.9637964 (266)\ttotal: 5.33s\tremaining: 4.5s\n",
            "271:\ttest: 0.9633963\tbest: 0.9637964 (266)\ttotal: 5.35s\tremaining: 4.49s\n",
            "272:\ttest: 0.9634963\tbest: 0.9637964 (266)\ttotal: 5.37s\tremaining: 4.46s\n",
            "273:\ttest: 0.9634963\tbest: 0.9637964 (266)\ttotal: 5.39s\tremaining: 4.44s\n",
            "274:\ttest: 0.9633963\tbest: 0.9637964 (266)\ttotal: 5.4s\tremaining: 4.42s\n",
            "275:\ttest: 0.9636964\tbest: 0.9637964 (266)\ttotal: 5.42s\tremaining: 4.4s\n",
            "276:\ttest: 0.9635964\tbest: 0.9637964 (266)\ttotal: 5.44s\tremaining: 4.38s\n",
            "277:\ttest: 0.9636964\tbest: 0.9637964 (266)\ttotal: 5.46s\tremaining: 4.36s\n",
            "278:\ttest: 0.9634963\tbest: 0.9637964 (266)\ttotal: 5.47s\tremaining: 4.33s\n",
            "279:\ttest: 0.9636964\tbest: 0.9637964 (266)\ttotal: 5.49s\tremaining: 4.31s\n",
            "280:\ttest: 0.9637964\tbest: 0.9637964 (266)\ttotal: 5.51s\tremaining: 4.29s\n",
            "281:\ttest: 0.9636964\tbest: 0.9637964 (266)\ttotal: 5.54s\tremaining: 4.28s\n",
            "282:\ttest: 0.9633963\tbest: 0.9637964 (266)\ttotal: 5.56s\tremaining: 4.26s\n",
            "283:\ttest: 0.9634963\tbest: 0.9637964 (266)\ttotal: 5.57s\tremaining: 4.24s\n",
            "284:\ttest: 0.9633963\tbest: 0.9637964 (266)\ttotal: 5.59s\tremaining: 4.22s\n",
            "285:\ttest: 0.9633963\tbest: 0.9637964 (266)\ttotal: 5.61s\tremaining: 4.2s\n",
            "286:\ttest: 0.9633963\tbest: 0.9637964 (266)\ttotal: 5.62s\tremaining: 4.17s\n",
            "287:\ttest: 0.9633963\tbest: 0.9637964 (266)\ttotal: 5.64s\tremaining: 4.15s\n",
            "288:\ttest: 0.9634963\tbest: 0.9637964 (266)\ttotal: 5.68s\tremaining: 4.15s\n",
            "289:\ttest: 0.9635964\tbest: 0.9637964 (266)\ttotal: 5.71s\tremaining: 4.13s\n",
            "290:\ttest: 0.9634963\tbest: 0.9637964 (266)\ttotal: 5.72s\tremaining: 4.11s\n",
            "291:\ttest: 0.9632963\tbest: 0.9637964 (266)\ttotal: 5.75s\tremaining: 4.09s\n",
            "292:\ttest: 0.9635964\tbest: 0.9637964 (266)\ttotal: 5.76s\tremaining: 4.07s\n",
            "293:\ttest: 0.9637964\tbest: 0.9637964 (266)\ttotal: 5.78s\tremaining: 4.05s\n",
            "294:\ttest: 0.9637964\tbest: 0.9637964 (266)\ttotal: 5.8s\tremaining: 4.03s\n",
            "295:\ttest: 0.9639964\tbest: 0.9639964 (295)\ttotal: 5.81s\tremaining: 4.01s\n",
            "296:\ttest: 0.9638964\tbest: 0.9639964 (295)\ttotal: 5.83s\tremaining: 3.98s\n",
            "297:\ttest: 0.9637964\tbest: 0.9639964 (295)\ttotal: 5.83s\tremaining: 3.95s\n",
            "298:\ttest: 0.9636964\tbest: 0.9639964 (295)\ttotal: 5.85s\tremaining: 3.93s\n",
            "299:\ttest: 0.9635964\tbest: 0.9639964 (295)\ttotal: 5.87s\tremaining: 3.91s\n",
            "300:\ttest: 0.9636964\tbest: 0.9639964 (295)\ttotal: 5.89s\tremaining: 3.9s\n",
            "301:\ttest: 0.9635964\tbest: 0.9639964 (295)\ttotal: 5.92s\tremaining: 3.88s\n",
            "302:\ttest: 0.9637964\tbest: 0.9639964 (295)\ttotal: 5.93s\tremaining: 3.86s\n",
            "303:\ttest: 0.9637964\tbest: 0.9639964 (295)\ttotal: 5.96s\tremaining: 3.84s\n",
            "304:\ttest: 0.9637964\tbest: 0.9639964 (295)\ttotal: 5.97s\tremaining: 3.82s\n",
            "305:\ttest: 0.9635964\tbest: 0.9639964 (295)\ttotal: 5.99s\tremaining: 3.8s\n",
            "306:\ttest: 0.9635964\tbest: 0.9639964 (295)\ttotal: 6.02s\tremaining: 3.79s\n",
            "307:\ttest: 0.9636964\tbest: 0.9639964 (295)\ttotal: 6.04s\tremaining: 3.77s\n",
            "308:\ttest: 0.9636964\tbest: 0.9639964 (295)\ttotal: 6.06s\tremaining: 3.75s\n",
            "309:\ttest: 0.9634963\tbest: 0.9639964 (295)\ttotal: 6.08s\tremaining: 3.72s\n",
            "310:\ttest: 0.9635964\tbest: 0.9639964 (295)\ttotal: 6.09s\tremaining: 3.7s\n",
            "311:\ttest: 0.9634963\tbest: 0.9639964 (295)\ttotal: 6.11s\tremaining: 3.68s\n",
            "312:\ttest: 0.9636964\tbest: 0.9639964 (295)\ttotal: 6.13s\tremaining: 3.66s\n",
            "313:\ttest: 0.9637964\tbest: 0.9639964 (295)\ttotal: 6.15s\tremaining: 3.64s\n",
            "314:\ttest: 0.9639964\tbest: 0.9639964 (295)\ttotal: 6.18s\tremaining: 3.63s\n",
            "315:\ttest: 0.9640964\tbest: 0.9640964 (315)\ttotal: 6.2s\tremaining: 3.61s\n",
            "316:\ttest: 0.9642964\tbest: 0.9642964 (316)\ttotal: 6.22s\tremaining: 3.59s\n",
            "317:\ttest: 0.9644964\tbest: 0.9644964 (317)\ttotal: 6.22s\tremaining: 3.56s\n",
            "318:\ttest: 0.9642964\tbest: 0.9644964 (317)\ttotal: 6.24s\tremaining: 3.54s\n",
            "319:\ttest: 0.9643964\tbest: 0.9644964 (317)\ttotal: 6.26s\tremaining: 3.52s\n",
            "320:\ttest: 0.9642964\tbest: 0.9644964 (317)\ttotal: 6.27s\tremaining: 3.5s\n",
            "321:\ttest: 0.9640964\tbest: 0.9644964 (317)\ttotal: 6.29s\tremaining: 3.48s\n",
            "322:\ttest: 0.9640964\tbest: 0.9644964 (317)\ttotal: 6.31s\tremaining: 3.46s\n",
            "323:\ttest: 0.9642964\tbest: 0.9644964 (317)\ttotal: 6.33s\tremaining: 3.44s\n",
            "324:\ttest: 0.9643964\tbest: 0.9644964 (317)\ttotal: 6.35s\tremaining: 3.42s\n",
            "325:\ttest: 0.9647965\tbest: 0.9647965 (325)\ttotal: 6.37s\tremaining: 3.4s\n",
            "326:\ttest: 0.9644964\tbest: 0.9647965 (325)\ttotal: 6.39s\tremaining: 3.38s\n",
            "327:\ttest: 0.9646965\tbest: 0.9647965 (325)\ttotal: 6.4s\tremaining: 3.36s\n",
            "328:\ttest: 0.9643964\tbest: 0.9647965 (325)\ttotal: 6.42s\tremaining: 3.34s\n",
            "329:\ttest: 0.9643964\tbest: 0.9647965 (325)\ttotal: 6.44s\tremaining: 3.32s\n",
            "330:\ttest: 0.9646965\tbest: 0.9647965 (325)\ttotal: 6.46s\tremaining: 3.3s\n",
            "331:\ttest: 0.9646965\tbest: 0.9647965 (325)\ttotal: 6.47s\tremaining: 3.28s\n",
            "332:\ttest: 0.9644964\tbest: 0.9647965 (325)\ttotal: 6.49s\tremaining: 3.25s\n",
            "333:\ttest: 0.9646965\tbest: 0.9647965 (325)\ttotal: 6.51s\tremaining: 3.24s\n",
            "334:\ttest: 0.9645965\tbest: 0.9647965 (325)\ttotal: 6.53s\tremaining: 3.22s\n",
            "335:\ttest: 0.9645965\tbest: 0.9647965 (325)\ttotal: 6.55s\tremaining: 3.2s\n",
            "336:\ttest: 0.9642964\tbest: 0.9647965 (325)\ttotal: 6.57s\tremaining: 3.18s\n",
            "337:\ttest: 0.9643964\tbest: 0.9647965 (325)\ttotal: 6.59s\tremaining: 3.16s\n",
            "338:\ttest: 0.9642964\tbest: 0.9647965 (325)\ttotal: 6.61s\tremaining: 3.14s\n",
            "339:\ttest: 0.9643964\tbest: 0.9647965 (325)\ttotal: 6.62s\tremaining: 3.12s\n",
            "340:\ttest: 0.9640964\tbest: 0.9647965 (325)\ttotal: 6.64s\tremaining: 3.1s\n",
            "341:\ttest: 0.9643964\tbest: 0.9647965 (325)\ttotal: 6.67s\tremaining: 3.08s\n",
            "342:\ttest: 0.9644964\tbest: 0.9647965 (325)\ttotal: 6.7s\tremaining: 3.07s\n",
            "343:\ttest: 0.9644964\tbest: 0.9647965 (325)\ttotal: 6.74s\tremaining: 3.06s\n",
            "344:\ttest: 0.9645965\tbest: 0.9647965 (325)\ttotal: 6.78s\tremaining: 3.04s\n",
            "345:\ttest: 0.9645965\tbest: 0.9647965 (325)\ttotal: 6.81s\tremaining: 3.03s\n",
            "346:\ttest: 0.9643964\tbest: 0.9647965 (325)\ttotal: 6.84s\tremaining: 3.02s\n",
            "347:\ttest: 0.9643964\tbest: 0.9647965 (325)\ttotal: 6.88s\tremaining: 3s\n",
            "348:\ttest: 0.9641964\tbest: 0.9647965 (325)\ttotal: 6.92s\tremaining: 2.99s\n",
            "349:\ttest: 0.9640964\tbest: 0.9647965 (325)\ttotal: 6.95s\tremaining: 2.98s\n",
            "350:\ttest: 0.9640964\tbest: 0.9647965 (325)\ttotal: 6.98s\tremaining: 2.96s\n",
            "351:\ttest: 0.9640964\tbest: 0.9647965 (325)\ttotal: 7.02s\tremaining: 2.95s\n",
            "352:\ttest: 0.9639964\tbest: 0.9647965 (325)\ttotal: 7.04s\tremaining: 2.93s\n",
            "353:\ttest: 0.9640964\tbest: 0.9647965 (325)\ttotal: 7.07s\tremaining: 2.92s\n",
            "354:\ttest: 0.9639964\tbest: 0.9647965 (325)\ttotal: 7.09s\tremaining: 2.9s\n",
            "355:\ttest: 0.9640964\tbest: 0.9647965 (325)\ttotal: 7.13s\tremaining: 2.88s\n",
            "356:\ttest: 0.9641964\tbest: 0.9647965 (325)\ttotal: 7.18s\tremaining: 2.87s\n",
            "357:\ttest: 0.9641964\tbest: 0.9647965 (325)\ttotal: 7.21s\tremaining: 2.86s\n",
            "358:\ttest: 0.9641964\tbest: 0.9647965 (325)\ttotal: 7.25s\tremaining: 2.85s\n",
            "359:\ttest: 0.9642964\tbest: 0.9647965 (325)\ttotal: 7.28s\tremaining: 2.83s\n",
            "360:\ttest: 0.9643964\tbest: 0.9647965 (325)\ttotal: 7.31s\tremaining: 2.81s\n",
            "361:\ttest: 0.9639964\tbest: 0.9647965 (325)\ttotal: 7.33s\tremaining: 2.8s\n",
            "362:\ttest: 0.9641964\tbest: 0.9647965 (325)\ttotal: 7.36s\tremaining: 2.78s\n",
            "363:\ttest: 0.9643964\tbest: 0.9647965 (325)\ttotal: 7.4s\tremaining: 2.77s\n",
            "364:\ttest: 0.9643964\tbest: 0.9647965 (325)\ttotal: 7.44s\tremaining: 2.75s\n",
            "365:\ttest: 0.9642964\tbest: 0.9647965 (325)\ttotal: 7.47s\tremaining: 2.73s\n",
            "366:\ttest: 0.9642964\tbest: 0.9647965 (325)\ttotal: 7.5s\tremaining: 2.72s\n",
            "367:\ttest: 0.9646965\tbest: 0.9647965 (325)\ttotal: 7.53s\tremaining: 2.7s\n",
            "368:\ttest: 0.9645965\tbest: 0.9647965 (325)\ttotal: 7.56s\tremaining: 2.69s\n",
            "369:\ttest: 0.9645965\tbest: 0.9647965 (325)\ttotal: 7.59s\tremaining: 2.67s\n",
            "370:\ttest: 0.9643964\tbest: 0.9647965 (325)\ttotal: 7.63s\tremaining: 2.65s\n",
            "371:\ttest: 0.9642964\tbest: 0.9647965 (325)\ttotal: 7.66s\tremaining: 2.64s\n",
            "372:\ttest: 0.9641964\tbest: 0.9647965 (325)\ttotal: 7.69s\tremaining: 2.62s\n",
            "373:\ttest: 0.9642964\tbest: 0.9647965 (325)\ttotal: 7.73s\tremaining: 2.6s\n",
            "374:\ttest: 0.9643964\tbest: 0.9647965 (325)\ttotal: 7.75s\tremaining: 2.58s\n",
            "375:\ttest: 0.9640964\tbest: 0.9647965 (325)\ttotal: 7.78s\tremaining: 2.57s\n",
            "376:\ttest: 0.9642964\tbest: 0.9647965 (325)\ttotal: 7.82s\tremaining: 2.55s\n",
            "377:\ttest: 0.9641964\tbest: 0.9647965 (325)\ttotal: 7.85s\tremaining: 2.53s\n",
            "378:\ttest: 0.9641964\tbest: 0.9647965 (325)\ttotal: 7.9s\tremaining: 2.52s\n",
            "379:\ttest: 0.9640964\tbest: 0.9647965 (325)\ttotal: 7.94s\tremaining: 2.51s\n",
            "380:\ttest: 0.9641964\tbest: 0.9647965 (325)\ttotal: 7.98s\tremaining: 2.49s\n",
            "381:\ttest: 0.9641964\tbest: 0.9647965 (325)\ttotal: 8.02s\tremaining: 2.48s\n",
            "382:\ttest: 0.9640964\tbest: 0.9647965 (325)\ttotal: 8.06s\tremaining: 2.46s\n",
            "383:\ttest: 0.9640964\tbest: 0.9647965 (325)\ttotal: 8.11s\tremaining: 2.45s\n",
            "384:\ttest: 0.9638964\tbest: 0.9647965 (325)\ttotal: 8.14s\tremaining: 2.43s\n",
            "385:\ttest: 0.9638964\tbest: 0.9647965 (325)\ttotal: 8.2s\tremaining: 2.42s\n",
            "386:\ttest: 0.9640964\tbest: 0.9647965 (325)\ttotal: 8.24s\tremaining: 2.4s\n",
            "387:\ttest: 0.9641964\tbest: 0.9647965 (325)\ttotal: 8.3s\tremaining: 2.4s\n",
            "388:\ttest: 0.9643964\tbest: 0.9647965 (325)\ttotal: 8.34s\tremaining: 2.38s\n",
            "389:\ttest: 0.9643964\tbest: 0.9647965 (325)\ttotal: 8.37s\tremaining: 2.36s\n",
            "390:\ttest: 0.9644964\tbest: 0.9647965 (325)\ttotal: 8.41s\tremaining: 2.34s\n",
            "391:\ttest: 0.9645965\tbest: 0.9647965 (325)\ttotal: 8.44s\tremaining: 2.33s\n",
            "392:\ttest: 0.9645965\tbest: 0.9647965 (325)\ttotal: 8.48s\tremaining: 2.31s\n",
            "393:\ttest: 0.9647965\tbest: 0.9647965 (325)\ttotal: 8.52s\tremaining: 2.29s\n",
            "394:\ttest: 0.9646965\tbest: 0.9647965 (325)\ttotal: 8.56s\tremaining: 2.27s\n",
            "395:\ttest: 0.9646965\tbest: 0.9647965 (325)\ttotal: 8.59s\tremaining: 2.25s\n",
            "396:\ttest: 0.9646965\tbest: 0.9647965 (325)\ttotal: 8.62s\tremaining: 2.24s\n",
            "397:\ttest: 0.9646965\tbest: 0.9647965 (325)\ttotal: 8.66s\tremaining: 2.22s\n",
            "398:\ttest: 0.9643964\tbest: 0.9647965 (325)\ttotal: 8.69s\tremaining: 2.2s\n",
            "399:\ttest: 0.9643964\tbest: 0.9647965 (325)\ttotal: 8.73s\tremaining: 2.18s\n",
            "400:\ttest: 0.9645965\tbest: 0.9647965 (325)\ttotal: 8.76s\tremaining: 2.16s\n",
            "401:\ttest: 0.9642964\tbest: 0.9647965 (325)\ttotal: 8.8s\tremaining: 2.14s\n",
            "402:\ttest: 0.9643964\tbest: 0.9647965 (325)\ttotal: 8.83s\tremaining: 2.13s\n",
            "403:\ttest: 0.9644964\tbest: 0.9647965 (325)\ttotal: 8.86s\tremaining: 2.11s\n",
            "404:\ttest: 0.9645965\tbest: 0.9647965 (325)\ttotal: 8.91s\tremaining: 2.09s\n",
            "405:\ttest: 0.9645965\tbest: 0.9647965 (325)\ttotal: 8.96s\tremaining: 2.07s\n",
            "406:\ttest: 0.9643964\tbest: 0.9647965 (325)\ttotal: 8.99s\tremaining: 2.05s\n",
            "407:\ttest: 0.9642964\tbest: 0.9647965 (325)\ttotal: 9.01s\tremaining: 2.03s\n",
            "408:\ttest: 0.9642964\tbest: 0.9647965 (325)\ttotal: 9.03s\tremaining: 2.01s\n",
            "409:\ttest: 0.9642964\tbest: 0.9647965 (325)\ttotal: 9.05s\tremaining: 1.99s\n",
            "410:\ttest: 0.9641964\tbest: 0.9647965 (325)\ttotal: 9.07s\tremaining: 1.97s\n",
            "411:\ttest: 0.9641964\tbest: 0.9647965 (325)\ttotal: 9.1s\tremaining: 1.94s\n",
            "412:\ttest: 0.9642964\tbest: 0.9647965 (325)\ttotal: 9.15s\tremaining: 1.93s\n",
            "413:\ttest: 0.9642964\tbest: 0.9647965 (325)\ttotal: 9.19s\tremaining: 1.91s\n",
            "414:\ttest: 0.9643964\tbest: 0.9647965 (325)\ttotal: 9.26s\tremaining: 1.9s\n",
            "415:\ttest: 0.9642964\tbest: 0.9647965 (325)\ttotal: 9.33s\tremaining: 1.88s\n",
            "416:\ttest: 0.9643964\tbest: 0.9647965 (325)\ttotal: 9.39s\tremaining: 1.87s\n",
            "417:\ttest: 0.9643964\tbest: 0.9647965 (325)\ttotal: 9.43s\tremaining: 1.85s\n",
            "418:\ttest: 0.9643964\tbest: 0.9647965 (325)\ttotal: 9.45s\tremaining: 1.83s\n",
            "419:\ttest: 0.9642964\tbest: 0.9647965 (325)\ttotal: 9.48s\tremaining: 1.8s\n",
            "420:\ttest: 0.9643964\tbest: 0.9647965 (325)\ttotal: 9.51s\tremaining: 1.78s\n",
            "421:\ttest: 0.9643964\tbest: 0.9647965 (325)\ttotal: 9.56s\tremaining: 1.77s\n",
            "422:\ttest: 0.9643964\tbest: 0.9647965 (325)\ttotal: 9.59s\tremaining: 1.75s\n",
            "423:\ttest: 0.9640964\tbest: 0.9647965 (325)\ttotal: 9.65s\tremaining: 1.73s\n",
            "424:\ttest: 0.9641964\tbest: 0.9647965 (325)\ttotal: 9.71s\tremaining: 1.71s\n",
            "425:\ttest: 0.9641964\tbest: 0.9647965 (325)\ttotal: 9.76s\tremaining: 1.69s\n",
            "426:\ttest: 0.9643964\tbest: 0.9647965 (325)\ttotal: 9.8s\tremaining: 1.68s\n",
            "427:\ttest: 0.9641964\tbest: 0.9647965 (325)\ttotal: 9.85s\tremaining: 1.66s\n",
            "428:\ttest: 0.9641964\tbest: 0.9647965 (325)\ttotal: 9.88s\tremaining: 1.64s\n",
            "429:\ttest: 0.9642964\tbest: 0.9647965 (325)\ttotal: 9.93s\tremaining: 1.62s\n",
            "430:\ttest: 0.9641964\tbest: 0.9647965 (325)\ttotal: 9.97s\tremaining: 1.6s\n",
            "431:\ttest: 0.9641964\tbest: 0.9647965 (325)\ttotal: 10s\tremaining: 1.58s\n",
            "432:\ttest: 0.9638964\tbest: 0.9647965 (325)\ttotal: 10.1s\tremaining: 1.56s\n",
            "433:\ttest: 0.9638964\tbest: 0.9647965 (325)\ttotal: 10.1s\tremaining: 1.54s\n",
            "434:\ttest: 0.9638964\tbest: 0.9647965 (325)\ttotal: 10.1s\tremaining: 1.51s\n",
            "435:\ttest: 0.9638964\tbest: 0.9647965 (325)\ttotal: 10.2s\tremaining: 1.5s\n",
            "436:\ttest: 0.9639964\tbest: 0.9647965 (325)\ttotal: 10.2s\tremaining: 1.48s\n",
            "437:\ttest: 0.9638964\tbest: 0.9647965 (325)\ttotal: 10.3s\tremaining: 1.45s\n",
            "438:\ttest: 0.9638964\tbest: 0.9647965 (325)\ttotal: 10.3s\tremaining: 1.43s\n",
            "439:\ttest: 0.9639964\tbest: 0.9647965 (325)\ttotal: 10.3s\tremaining: 1.41s\n",
            "440:\ttest: 0.9639964\tbest: 0.9647965 (325)\ttotal: 10.4s\tremaining: 1.39s\n",
            "441:\ttest: 0.9639964\tbest: 0.9647965 (325)\ttotal: 10.4s\tremaining: 1.36s\n",
            "442:\ttest: 0.9639964\tbest: 0.9647965 (325)\ttotal: 10.5s\tremaining: 1.34s\n",
            "443:\ttest: 0.9639964\tbest: 0.9647965 (325)\ttotal: 10.5s\tremaining: 1.33s\n",
            "444:\ttest: 0.9639964\tbest: 0.9647965 (325)\ttotal: 10.6s\tremaining: 1.3s\n",
            "445:\ttest: 0.9638964\tbest: 0.9647965 (325)\ttotal: 10.6s\tremaining: 1.29s\n",
            "446:\ttest: 0.9638964\tbest: 0.9647965 (325)\ttotal: 10.7s\tremaining: 1.27s\n",
            "447:\ttest: 0.9640964\tbest: 0.9647965 (325)\ttotal: 10.7s\tremaining: 1.25s\n",
            "448:\ttest: 0.9637964\tbest: 0.9647965 (325)\ttotal: 10.8s\tremaining: 1.23s\n",
            "449:\ttest: 0.9637964\tbest: 0.9647965 (325)\ttotal: 10.9s\tremaining: 1.21s\n",
            "450:\ttest: 0.9637964\tbest: 0.9647965 (325)\ttotal: 10.9s\tremaining: 1.19s\n",
            "451:\ttest: 0.9638964\tbest: 0.9647965 (325)\ttotal: 11s\tremaining: 1.16s\n",
            "452:\ttest: 0.9636964\tbest: 0.9647965 (325)\ttotal: 11s\tremaining: 1.14s\n",
            "453:\ttest: 0.9637964\tbest: 0.9647965 (325)\ttotal: 11s\tremaining: 1.12s\n",
            "454:\ttest: 0.9638964\tbest: 0.9647965 (325)\ttotal: 11.1s\tremaining: 1.09s\n",
            "455:\ttest: 0.9637964\tbest: 0.9647965 (325)\ttotal: 11.1s\tremaining: 1.07s\n",
            "456:\ttest: 0.9639964\tbest: 0.9647965 (325)\ttotal: 11.1s\tremaining: 1.05s\n",
            "457:\ttest: 0.9638964\tbest: 0.9647965 (325)\ttotal: 11.2s\tremaining: 1.02s\n",
            "458:\ttest: 0.9637964\tbest: 0.9647965 (325)\ttotal: 11.2s\tremaining: 1s\n",
            "459:\ttest: 0.9637964\tbest: 0.9647965 (325)\ttotal: 11.3s\tremaining: 983ms\n",
            "460:\ttest: 0.9638964\tbest: 0.9647965 (325)\ttotal: 11.3s\tremaining: 960ms\n",
            "461:\ttest: 0.9639964\tbest: 0.9647965 (325)\ttotal: 11.4s\tremaining: 936ms\n",
            "462:\ttest: 0.9637964\tbest: 0.9647965 (325)\ttotal: 11.4s\tremaining: 913ms\n",
            "463:\ttest: 0.9636964\tbest: 0.9647965 (325)\ttotal: 11.5s\tremaining: 889ms\n",
            "464:\ttest: 0.9637964\tbest: 0.9647965 (325)\ttotal: 11.5s\tremaining: 864ms\n",
            "465:\ttest: 0.9637964\tbest: 0.9647965 (325)\ttotal: 11.5s\tremaining: 840ms\n",
            "466:\ttest: 0.9636964\tbest: 0.9647965 (325)\ttotal: 11.5s\tremaining: 816ms\n",
            "467:\ttest: 0.9635964\tbest: 0.9647965 (325)\ttotal: 11.6s\tremaining: 793ms\n",
            "468:\ttest: 0.9635964\tbest: 0.9647965 (325)\ttotal: 11.7s\tremaining: 771ms\n",
            "469:\ttest: 0.9636964\tbest: 0.9647965 (325)\ttotal: 11.7s\tremaining: 747ms\n",
            "470:\ttest: 0.9636964\tbest: 0.9647965 (325)\ttotal: 11.7s\tremaining: 723ms\n",
            "471:\ttest: 0.9637964\tbest: 0.9647965 (325)\ttotal: 11.8s\tremaining: 698ms\n",
            "472:\ttest: 0.9637964\tbest: 0.9647965 (325)\ttotal: 11.8s\tremaining: 673ms\n",
            "473:\ttest: 0.9635964\tbest: 0.9647965 (325)\ttotal: 11.8s\tremaining: 649ms\n",
            "474:\ttest: 0.9636964\tbest: 0.9647965 (325)\ttotal: 11.9s\tremaining: 625ms\n",
            "475:\ttest: 0.9637964\tbest: 0.9647965 (325)\ttotal: 11.9s\tremaining: 600ms\n",
            "476:\ttest: 0.9637964\tbest: 0.9647965 (325)\ttotal: 12s\tremaining: 576ms\n",
            "477:\ttest: 0.9638964\tbest: 0.9647965 (325)\ttotal: 12s\tremaining: 552ms\n",
            "478:\ttest: 0.9638964\tbest: 0.9647965 (325)\ttotal: 12.1s\tremaining: 528ms\n",
            "479:\ttest: 0.9640964\tbest: 0.9647965 (325)\ttotal: 12.1s\tremaining: 506ms\n",
            "480:\ttest: 0.9639964\tbest: 0.9647965 (325)\ttotal: 12.2s\tremaining: 482ms\n",
            "481:\ttest: 0.9640964\tbest: 0.9647965 (325)\ttotal: 12.2s\tremaining: 457ms\n",
            "482:\ttest: 0.9641964\tbest: 0.9647965 (325)\ttotal: 12.3s\tremaining: 432ms\n",
            "483:\ttest: 0.9641964\tbest: 0.9647965 (325)\ttotal: 12.3s\tremaining: 407ms\n",
            "484:\ttest: 0.9640964\tbest: 0.9647965 (325)\ttotal: 12.3s\tremaining: 382ms\n",
            "485:\ttest: 0.9643964\tbest: 0.9647965 (325)\ttotal: 12.4s\tremaining: 357ms\n",
            "486:\ttest: 0.9642964\tbest: 0.9647965 (325)\ttotal: 12.4s\tremaining: 331ms\n",
            "487:\ttest: 0.9641964\tbest: 0.9647965 (325)\ttotal: 12.5s\tremaining: 306ms\n",
            "488:\ttest: 0.9639964\tbest: 0.9647965 (325)\ttotal: 12.5s\tremaining: 281ms\n",
            "489:\ttest: 0.9638964\tbest: 0.9647965 (325)\ttotal: 12.5s\tremaining: 256ms\n",
            "490:\ttest: 0.9640964\tbest: 0.9647965 (325)\ttotal: 12.6s\tremaining: 231ms\n",
            "491:\ttest: 0.9642964\tbest: 0.9647965 (325)\ttotal: 12.6s\tremaining: 205ms\n",
            "492:\ttest: 0.9641964\tbest: 0.9647965 (325)\ttotal: 12.7s\tremaining: 180ms\n",
            "493:\ttest: 0.9641964\tbest: 0.9647965 (325)\ttotal: 12.7s\tremaining: 154ms\n",
            "494:\ttest: 0.9639964\tbest: 0.9647965 (325)\ttotal: 12.7s\tremaining: 129ms\n",
            "495:\ttest: 0.9639964\tbest: 0.9647965 (325)\ttotal: 12.7s\tremaining: 103ms\n",
            "496:\ttest: 0.9637964\tbest: 0.9647965 (325)\ttotal: 12.8s\tremaining: 77.1ms\n",
            "497:\ttest: 0.9637964\tbest: 0.9647965 (325)\ttotal: 12.8s\tremaining: 51.5ms\n",
            "498:\ttest: 0.9638964\tbest: 0.9647965 (325)\ttotal: 12.8s\tremaining: 25.7ms\n",
            "499:\ttest: 0.9637964\tbest: 0.9647965 (325)\ttotal: 12.9s\tremaining: 0us\n",
            "\n",
            "bestTest = 0.9647964796\n",
            "bestIteration = 325\n",
            "\n",
            "Shrink model to first 326 iterations.\n"
          ]
        },
        {
          "output_type": "execute_result",
          "data": {
            "text/plain": [
              "<catboost.core.CatBoostClassifier at 0x7ff402a5f310>"
            ]
          },
          "metadata": {},
          "execution_count": 40
        }
      ],
      "source": [
        "eval_dataset = Pool(x_test,y_test)\n",
        "model = CatBoostClassifier(eval_metric='AUC',depth=10, iterations= 500, learning_rate= 0.03)\n",
        "model.fit(x_train,y_train,eval_set=eval_dataset)"
      ],
      "id": "7cac25b6-25a6-4a4a-9334-2d9c430a7b88"
    },
    {
      "cell_type": "code",
      "execution_count": 41,
      "metadata": {
        "colab": {
          "base_uri": "https://localhost:8080/"
        },
        "id": "ab498050-099d-451a-9394-cb735154770b",
        "outputId": "bee44492-26c9-454e-c8db-088be5b71426"
      },
      "outputs": [
        {
          "output_type": "execute_result",
          "data": {
            "text/plain": [
              "{'learn': {'Logloss': 0.01335829496383667},\n",
              " 'validation': {'AUC': 0.9647964796479648, 'Logloss': 0.2530593884055298}}"
            ]
          },
          "metadata": {},
          "execution_count": 41
        }
      ],
      "source": [
        "model.get_best_score()"
      ],
      "id": "ab498050-099d-451a-9394-cb735154770b"
    },
    {
      "cell_type": "code",
      "execution_count": 42,
      "metadata": {
        "colab": {
          "base_uri": "https://localhost:8080/"
        },
        "id": "4f1431b3-2250-4579-8ea2-590917ead327",
        "outputId": "369eef97-2ace-41f7-9d61-8e6baef8710b"
      },
      "outputs": [
        {
          "output_type": "stream",
          "name": "stdout",
          "text": [
            "[[85 14]\n",
            " [ 8 93]]\n"
          ]
        }
      ],
      "source": [
        "predicted_y = model.predict(x_test)\n",
        "mat = metrics.confusion_matrix(y_test,predicted_y)\n",
        "print(mat)"
      ],
      "id": "4f1431b3-2250-4579-8ea2-590917ead327"
    },
    {
      "cell_type": "code",
      "execution_count": 43,
      "metadata": {
        "colab": {
          "base_uri": "https://localhost:8080/"
        },
        "id": "8c87a7fb-8ec8-4a1b-a7ae-f1d6743318ed",
        "outputId": "ed08dd9e-8551-4079-bd56-c26d4e15b3e4"
      },
      "outputs": [
        {
          "output_type": "stream",
          "name": "stdout",
          "text": [
            "89.0\n"
          ]
        }
      ],
      "source": [
        "accuracy = (mat[0][0]+mat[1][1]) / (mat[0][0]+mat[0][1]+mat[1][0]+mat[1][1])\n",
        "print(accuracy*100)"
      ],
      "id": "8c87a7fb-8ec8-4a1b-a7ae-f1d6743318ed"
    },
    {
      "cell_type": "code",
      "execution_count": 44,
      "metadata": {
        "colab": {
          "base_uri": "https://localhost:8080/"
        },
        "id": "5ff36354-22a8-4b6e-8080-fd8187902372",
        "outputId": "ee89b238-2ace-4939-cb54-30ee24ebcc27"
      },
      "outputs": [
        {
          "output_type": "execute_result",
          "data": {
            "text/plain": [
              "<catboost.core.CatBoostClassifier at 0x7ff402afa0d0>"
            ]
          },
          "metadata": {},
          "execution_count": 44
        }
      ],
      "source": [
        "#prediction with all features excluding smote analysis\n",
        "x = std_diabetes_data.drop(columns=['Outcome'],axis=1)\n",
        "y = std_diabetes_data['Outcome']\n",
        "x_train,x_test,y_train,y_test = train_test_split(x,y,test_size=0.2,random_state=42)\n",
        "eval_dataset = Pool(x_test,y_test)\n",
        "model = CatBoostClassifier(eval_metric='AUC',depth=12, iterations= 500, learning_rate= 0.02)\n",
        "model.fit(x_train,y_train,eval_set=eval_dataset,verbose=False)"
      ],
      "id": "5ff36354-22a8-4b6e-8080-fd8187902372"
    },
    {
      "cell_type": "code",
      "execution_count": 45,
      "metadata": {
        "colab": {
          "base_uri": "https://localhost:8080/"
        },
        "id": "867bbcc2-a586-4619-bddd-4f7f537e9639",
        "outputId": "39cdcc4a-b36e-455a-cf3c-bcbe362e5466"
      },
      "outputs": [
        {
          "output_type": "execute_result",
          "data": {
            "text/plain": [
              "{'learn': {'Logloss': 0.019190324983462473},\n",
              " 'validation': {'AUC': 0.9406795224977044, 'Logloss': 0.29745058168784444}}"
            ]
          },
          "metadata": {},
          "execution_count": 45
        }
      ],
      "source": [
        "model.best_score_"
      ],
      "id": "867bbcc2-a586-4619-bddd-4f7f537e9639"
    },
    {
      "cell_type": "code",
      "execution_count": 46,
      "metadata": {
        "colab": {
          "base_uri": "https://localhost:8080/"
        },
        "id": "56cb6b11-a819-4fd8-967c-2f83a6593629",
        "outputId": "b19f80a2-079b-43db-d43a-c176d4cb9803"
      },
      "outputs": [
        {
          "output_type": "stream",
          "name": "stdout",
          "text": [
            "[[87 12]\n",
            " [ 8 47]]\n"
          ]
        }
      ],
      "source": [
        "predicted_y = model.predict(x_test)\n",
        "mat = metrics.confusion_matrix(y_test,predicted_y)\n",
        "print(mat)"
      ],
      "id": "56cb6b11-a819-4fd8-967c-2f83a6593629"
    },
    {
      "cell_type": "code",
      "execution_count": 47,
      "metadata": {
        "colab": {
          "base_uri": "https://localhost:8080/"
        },
        "id": "b162d889-1f4d-4e92-b0d2-6640fecbfcf3",
        "outputId": "1ea87210-b2e8-4811-dd53-b02ef2c2e2a4"
      },
      "outputs": [
        {
          "output_type": "stream",
          "name": "stdout",
          "text": [
            "87.01298701298701\n"
          ]
        }
      ],
      "source": [
        "accuracy = (mat[0][0]+mat[1][1]) / (mat[0][0]+mat[0][1]+mat[1][0]+mat[1][1])\n",
        "print(accuracy*100)"
      ],
      "id": "b162d889-1f4d-4e92-b0d2-6640fecbfcf3"
    },
    {
      "cell_type": "markdown",
      "metadata": {
        "id": "67e9c3e2-7e6e-4e08-8bec-e29165b6175a"
      },
      "source": [
        "CATBOOST\n",
        "1. With smote analysis\n",
        "    AUC =      96.40,\n",
        "    Accuracy = 89\n",
        "2. without smote analysis\n",
        "    AUC =      93.81,\n",
        "    Accuracy = 87.01"
      ],
      "id": "67e9c3e2-7e6e-4e08-8bec-e29165b6175a"
    },
    {
      "cell_type": "markdown",
      "metadata": {
        "id": "d2011512-375a-4ae0-b120-c2d4eab45ebd"
      },
      "source": [
        "### 2. LIGHTGBM"
      ],
      "id": "d2011512-375a-4ae0-b120-c2d4eab45ebd"
    },
    {
      "cell_type": "code",
      "execution_count": 48,
      "metadata": {
        "colab": {
          "base_uri": "https://localhost:8080/"
        },
        "id": "1cd6464e-7850-4bb5-adf5-0934e5bd0dbc",
        "outputId": "55b699b0-48c1-4418-a74f-792cf366ccfd"
      },
      "outputs": [
        {
          "output_type": "execute_result",
          "data": {
            "text/plain": [
              "LGBMClassifier(learning_rate=0.05, max_depth=5, min_child_samples=5,\n",
              "               n_estimators=1000, num_leaves=40, reg_alpha=0.02)"
            ]
          },
          "metadata": {},
          "execution_count": 48
        }
      ],
      "source": [
        "# prediction with selected features including smote analysis\n",
        "x = data_after_smote.drop(columns=['Age','DiabetesPedigreeFunction','Outcome'],axis=1)\n",
        "y = data_after_smote['Outcome']\n",
        "x_train,x_test,y_train,y_test = train_test_split(x,y,test_size=0.2,random_state=42)\n",
        "gbmmodel = lgb.LGBMClassifier(learning_rate=0.05, max_depth=5, min_child_samples=5,n_estimators=1000, num_leaves=40, reg_alpha=0.02)\n",
        "gbmmodel.fit(x_train,y_train,eval_set=[(x_test,y_test)],eval_metric='AUC',verbose=False)"
      ],
      "id": "1cd6464e-7850-4bb5-adf5-0934e5bd0dbc"
    },
    {
      "cell_type": "code",
      "execution_count": 49,
      "metadata": {
        "colab": {
          "base_uri": "https://localhost:8080/"
        },
        "id": "240e6a84-09d5-48db-b8e2-29e45cc23a05",
        "outputId": "376098b2-e263-438f-d189-ee845608f65e"
      },
      "outputs": [
        {
          "output_type": "execute_result",
          "data": {
            "text/plain": [
              "defaultdict(dict,\n",
              "            {'valid_0': {'auc': 0.9512951295129513,\n",
              "              'binary_logloss': 0.49451505929211204}})"
            ]
          },
          "metadata": {},
          "execution_count": 49
        }
      ],
      "source": [
        "gbmmodel.best_score_"
      ],
      "id": "240e6a84-09d5-48db-b8e2-29e45cc23a05"
    },
    {
      "cell_type": "code",
      "execution_count": 50,
      "metadata": {
        "colab": {
          "base_uri": "https://localhost:8080/"
        },
        "id": "c93396bc-b1e5-4120-add1-8d7202e1cbb2",
        "outputId": "eb7678cf-3f9f-4cd4-a1d7-657d74ec7747"
      },
      "outputs": [
        {
          "output_type": "stream",
          "name": "stdout",
          "text": [
            "[[88 11]\n",
            " [12 89]]\n"
          ]
        }
      ],
      "source": [
        "predicted_y = gbmmodel.predict(x_test)\n",
        "mat = metrics.confusion_matrix(y_test,predicted_y)\n",
        "print(mat)"
      ],
      "id": "c93396bc-b1e5-4120-add1-8d7202e1cbb2"
    },
    {
      "cell_type": "code",
      "execution_count": 51,
      "metadata": {
        "colab": {
          "base_uri": "https://localhost:8080/"
        },
        "id": "b0931e28-b959-4556-8179-7a6ee15f2f97",
        "outputId": "5e465f2f-3aae-49a8-ab4c-482cdae07a57"
      },
      "outputs": [
        {
          "output_type": "stream",
          "name": "stdout",
          "text": [
            "88.5\n"
          ]
        }
      ],
      "source": [
        "accuracy = (mat[0][0]+mat[1][1]) / (mat[0][0]+mat[0][1]+mat[1][0]+mat[1][1])\n",
        "print(accuracy*100)"
      ],
      "id": "b0931e28-b959-4556-8179-7a6ee15f2f97"
    },
    {
      "cell_type": "code",
      "execution_count": 52,
      "metadata": {
        "colab": {
          "base_uri": "https://localhost:8080/"
        },
        "id": "0ed332e0-a0d8-4489-a7b9-3709213956d9",
        "outputId": "8f91eab6-8e31-485d-c51a-7e4e46e56652"
      },
      "outputs": [
        {
          "output_type": "execute_result",
          "data": {
            "text/plain": [
              "LGBMClassifier(learning_rate=0.05, max_depth=5, min_child_samples=5,\n",
              "               n_estimators=1000, num_leaves=40, reg_alpha=0.02)"
            ]
          },
          "metadata": {},
          "execution_count": 52
        }
      ],
      "source": [
        "#prediction with all features excluding smote analysis\n",
        "x = diabetes_data_copy.drop(columns=['Outcome'],axis=1)\n",
        "y = diabetes_data_copy['Outcome']\n",
        "x_train,x_test,y_train,y_test = train_test_split(x,y,test_size=0.2,random_state=42)\n",
        "gbmmodel = lgb.LGBMClassifier(learning_rate=0.05, max_depth=5, min_child_samples=5, n_estimators=1000, num_leaves=40, reg_alpha=0.02)\n",
        "gbmmodel.fit(x_train,y_train,eval_set=[(x_test,y_test)],eval_metric='AUC',verbose=False)"
      ],
      "id": "0ed332e0-a0d8-4489-a7b9-3709213956d9"
    },
    {
      "cell_type": "code",
      "execution_count": 53,
      "metadata": {
        "colab": {
          "base_uri": "https://localhost:8080/"
        },
        "id": "7b41aeca-7a70-45fd-9b02-d489934418e0",
        "outputId": "fccbb4bf-ed9b-4c31-b10e-80da1c30633a"
      },
      "outputs": [
        {
          "output_type": "execute_result",
          "data": {
            "text/plain": [
              "defaultdict(dict,\n",
              "            {'valid_0': {'auc': 0.9338842975206612,\n",
              "              'binary_logloss': 0.6023725185785883}})"
            ]
          },
          "metadata": {},
          "execution_count": 53
        }
      ],
      "source": [
        "gbmmodel.best_score_"
      ],
      "id": "7b41aeca-7a70-45fd-9b02-d489934418e0"
    },
    {
      "cell_type": "code",
      "execution_count": 54,
      "metadata": {
        "colab": {
          "base_uri": "https://localhost:8080/"
        },
        "id": "66240f2c-d4bf-4bc1-898a-31121454a66c",
        "outputId": "32171b77-d03c-4884-dce3-312fdb000a0b"
      },
      "outputs": [
        {
          "output_type": "stream",
          "name": "stdout",
          "text": [
            "[[88 11]\n",
            " [ 9 46]]\n"
          ]
        }
      ],
      "source": [
        "predicted_y = gbmmodel.predict(x_test)\n",
        "mat = metrics.confusion_matrix(y_test,predicted_y)\n",
        "print(mat)"
      ],
      "id": "66240f2c-d4bf-4bc1-898a-31121454a66c"
    },
    {
      "cell_type": "code",
      "execution_count": 55,
      "metadata": {
        "colab": {
          "base_uri": "https://localhost:8080/"
        },
        "id": "7d4a7789-29e1-4729-adc6-fd64f249e280",
        "outputId": "7356387b-5f0a-48c7-be29-df6550c20385"
      },
      "outputs": [
        {
          "output_type": "stream",
          "name": "stdout",
          "text": [
            "87.01298701298701\n"
          ]
        }
      ],
      "source": [
        "accuracy = (mat[0][0]+mat[1][1]) / (mat[0][0]+mat[0][1]+mat[1][0]+mat[1][1])\n",
        "print(accuracy*100)"
      ],
      "id": "7d4a7789-29e1-4729-adc6-fd64f249e280"
    },
    {
      "cell_type": "markdown",
      "metadata": {
        "id": "7be72e7f-f844-411a-a55a-22c62f74d786"
      },
      "source": [
        "LIGHTGBM\n",
        "1. With smote analysis\n",
        "    AUC =      93.92,\n",
        "    Accuracy = 89\n",
        "2. without smote analysis\n",
        "    AUC =      93.38,\n",
        "    Accuracy = 87.01"
      ],
      "id": "7be72e7f-f844-411a-a55a-22c62f74d786"
    },
    {
      "cell_type": "markdown",
      "metadata": {
        "id": "7fa6679c-cac9-489c-b67b-904f9650afac"
      },
      "source": [
        "### HYPERPARAMETER TUNING"
      ],
      "id": "7fa6679c-cac9-489c-b67b-904f9650afac"
    },
    {
      "cell_type": "code",
      "execution_count": 56,
      "metadata": {
        "colab": {
          "base_uri": "https://localhost:8080/",
          "height": 87
        },
        "id": "03d55037-4278-4dfc-8cad-94c60663a5d9",
        "outputId": "57ce1eaa-a6e4-421f-e947-5da59d29d4c8"
      },
      "outputs": [
        {
          "output_type": "execute_result",
          "data": {
            "text/plain": [
              "\"\\n#Grid search for LightGBM\\n parameters = {'num_leaves':[20,40,80,100],\\n             'min_child_samples':[5,10,15],\\n             'max_depth':[-1,5,10,20],\\n             'learning_rate':[0.05,0.03,0.02,0.01],\\n             'reg_alpha':[0.1,0.02,0.03,0.5]}\\nhalving_srch = HalvingGridSearchCV(estimator=gbmmodel,param_grid=parameters,scoring='accuracy')\\nhalving_srch.fit(x_train,y_train)\\n\""
            ],
            "application/vnd.google.colaboratory.intrinsic+json": {
              "type": "string"
            }
          },
          "metadata": {},
          "execution_count": 56
        }
      ],
      "source": [
        "\"\"\"\n",
        "#Grid search for LightGBM\n",
        " parameters = {'num_leaves':[20,40,80,100],\n",
        "             'min_child_samples':[5,10,15],\n",
        "             'max_depth':[-1,5,10,20],\n",
        "             'learning_rate':[0.05,0.03,0.02,0.01],\n",
        "             'reg_alpha':[0.1,0.02,0.03,0.5]}\n",
        "halving_srch = HalvingGridSearchCV(estimator=gbmmodel,param_grid=parameters,scoring='accuracy')\n",
        "halving_srch.fit(x_train,y_train)\n",
        "\"\"\""
      ],
      "id": "03d55037-4278-4dfc-8cad-94c60663a5d9"
    },
    {
      "cell_type": "code",
      "execution_count": 57,
      "metadata": {
        "id": "e0493ecd-c75f-421e-8afb-2cb5616bbecf"
      },
      "outputs": [],
      "source": [
        "#halving_srch.best_estimator_"
      ],
      "id": "e0493ecd-c75f-421e-8afb-2cb5616bbecf"
    },
    {
      "cell_type": "code",
      "execution_count": 58,
      "metadata": {
        "colab": {
          "base_uri": "https://localhost:8080/",
          "height": 70
        },
        "id": "05ff0594-4a12-4b20-a5f3-200de16279b1",
        "outputId": "5d5860a4-848f-4f59-f8b7-e81b61fce296"
      },
      "outputs": [
        {
          "output_type": "execute_result",
          "data": {
            "text/plain": [
              "\"\\n#Grid search for Catboost\\nparameters = {'depth':[9,10,12,13],\\n          'iterations':[250,500,1000],\\n          'learning_rate':[0.03,0.01,0.02,0.04]}\\nsrch_model = HalvingGridSearchCV(estimator=model,param_grid=parameters,scoring='accuracy')\\nsrch_model.fit(x_train,y_train)\\n\""
            ],
            "application/vnd.google.colaboratory.intrinsic+json": {
              "type": "string"
            }
          },
          "metadata": {},
          "execution_count": 58
        }
      ],
      "source": [
        "\"\"\"\n",
        "#Grid search for Catboost\n",
        "parameters = {'depth':[9,10,12,13],\n",
        "          'iterations':[250,500,1000],\n",
        "          'learning_rate':[0.03,0.01,0.02,0.04]}\n",
        "srch_model = HalvingGridSearchCV(estimator=model,param_grid=parameters,scoring='accuracy')\n",
        "srch_model.fit(x_train,y_train)\n",
        "\"\"\""
      ],
      "id": "05ff0594-4a12-4b20-a5f3-200de16279b1"
    },
    {
      "cell_type": "code",
      "execution_count": 59,
      "metadata": {
        "id": "NQCUcU2pkI1a"
      },
      "outputs": [],
      "source": [
        "#srch_model.best_params_"
      ],
      "id": "NQCUcU2pkI1a"
    },
    {
      "cell_type": "code",
      "source": [
        "\"\"\"\n",
        "xg_model = xgb.XGBClassifier()\n",
        "parameters_xb = {                                          \n",
        "        'min_child_weight': [1, 5, 10],\n",
        "        'gamma': [0.5, 1, 1.5, 2, 5],\n",
        "        'subsample': [0.5, 1.0],\n",
        "        'colsample_bytree': [0.6, 0.8, 1.0],\n",
        "        'max_depth': [3, 4, 5]\n",
        "        }\n",
        "srch_model = HalvingGridSearchCV(estimator=xg_model,param_grid=parameters_xb,scoring='accuracy')\n",
        "srch_model.fit(x_train,y_train)\n",
        "srch_model.best_params_\n",
        "\"\"\""
      ],
      "metadata": {
        "colab": {
          "base_uri": "https://localhost:8080/",
          "height": 105
        },
        "id": "-ExbRoV_Dfjg",
        "outputId": "1702f6b0-ca79-4132-86e2-23367ef13982"
      },
      "id": "-ExbRoV_Dfjg",
      "execution_count": 60,
      "outputs": [
        {
          "output_type": "execute_result",
          "data": {
            "text/plain": [
              "\"\\nxg_model = xgb.XGBClassifier()\\nparameters_xb = {                                          \\n        'min_child_weight': [1, 5, 10],\\n        'gamma': [0.5, 1, 1.5, 2, 5],\\n        'subsample': [0.5, 1.0],\\n        'colsample_bytree': [0.6, 0.8, 1.0],\\n        'max_depth': [3, 4, 5]\\n        }\\nsrch_model = HalvingGridSearchCV(estimator=xg_model,param_grid=parameters_xb,scoring='accuracy')\\nsrch_model.fit(x_train,y_train)\\nsrch_model.best_params_\\n\""
            ],
            "application/vnd.google.colaboratory.intrinsic+json": {
              "type": "string"
            }
          },
          "metadata": {},
          "execution_count": 60
        }
      ]
    },
    {
      "cell_type": "code",
      "source": [
        "\"\"\"\n",
        "ad_clf = AdaBoostClassifier()\n",
        "parameters_ab = { 'learning_rate':[0.01,0.05,0.04,0.03,0.02],\n",
        "                   'n_estimators': [10,50,100,200,500]}\n",
        "srch_model = HalvingGridSearchCV(estimator=ad_clf,param_grid=parameters_ab,scoring='accuracy')\n",
        "srch_model.fit(x_train,y_train)\n",
        "srch_model.best_params_\n",
        "\"\"\""
      ],
      "metadata": {
        "colab": {
          "base_uri": "https://localhost:8080/",
          "height": 70
        },
        "id": "5q2PeOzdETrg",
        "outputId": "43218262-2802-423f-9250-41c88c4f3cb7"
      },
      "id": "5q2PeOzdETrg",
      "execution_count": 61,
      "outputs": [
        {
          "output_type": "execute_result",
          "data": {
            "text/plain": [
              "\"\\nad_clf = AdaBoostClassifier()\\nparameters_ab = { 'learning_rate':[0.01,0.05,0.04,0.03,0.02],\\n                   'n_estimators': [10,50,100,200,500]}\\nsrch_model = HalvingGridSearchCV(estimator=ad_clf,param_grid=parameters_ab,scoring='accuracy')\\nsrch_model.fit(x_train,y_train)\\nsrch_model.best_params_\\n\""
            ],
            "application/vnd.google.colaboratory.intrinsic+json": {
              "type": "string"
            }
          },
          "metadata": {},
          "execution_count": 61
        }
      ]
    },
    {
      "cell_type": "markdown",
      "source": [
        "## ENSEMBLED MODELS"
      ],
      "metadata": {
        "id": "nQc8qfLarkJG"
      },
      "id": "nQc8qfLarkJG"
    },
    {
      "cell_type": "code",
      "source": [
        "#catboost + lightgbm\n",
        "x = data_after_smote.drop(columns=['Age','DiabetesPedigreeFunction','Outcome'],axis=1)\n",
        "y = data_after_smote['Outcome']\n",
        "x_train,x_test,y_train,y_test = train_test_split(x,y,test_size=0.2,random_state=42)\n",
        "model = CatBoostClassifier(depth=10, iterations= 500, learning_rate= 0.03)\n",
        "gbmmodel = lgb.LGBMClassifier(learning_rate=0.05, max_depth=5, min_child_samples=5,n_estimators=1000, num_leaves=40, reg_alpha=0.02)\n",
        "voting_clf = VotingClassifier(estimators=[('cb',model),('lgb',gbmmodel)],voting='soft')\n",
        "voting_clf.fit(x_train,y_train)"
      ],
      "metadata": {
        "colab": {
          "base_uri": "https://localhost:8080/"
        },
        "id": "G_JaKzGGv2PI",
        "outputId": "d9672c4a-46e8-4b0a-e714-f9a25f315060"
      },
      "id": "G_JaKzGGv2PI",
      "execution_count": 68,
      "outputs": [
        {
          "output_type": "stream",
          "name": "stdout",
          "text": [
            "0:\tlearn: 0.6586980\ttotal: 17ms\tremaining: 8.48s\n",
            "1:\tlearn: 0.6280189\ttotal: 34ms\tremaining: 8.47s\n",
            "2:\tlearn: 0.5991632\ttotal: 50.5ms\tremaining: 8.36s\n",
            "3:\tlearn: 0.5793357\ttotal: 67ms\tremaining: 8.31s\n",
            "4:\tlearn: 0.5557043\ttotal: 83.9ms\tremaining: 8.31s\n",
            "5:\tlearn: 0.5323336\ttotal: 101ms\tremaining: 8.29s\n",
            "6:\tlearn: 0.5134152\ttotal: 120ms\tremaining: 8.44s\n",
            "7:\tlearn: 0.4948203\ttotal: 138ms\tremaining: 8.46s\n",
            "8:\tlearn: 0.4744553\ttotal: 155ms\tremaining: 8.48s\n",
            "9:\tlearn: 0.4576153\ttotal: 173ms\tremaining: 8.47s\n",
            "10:\tlearn: 0.4407438\ttotal: 191ms\tremaining: 8.47s\n",
            "11:\tlearn: 0.4269743\ttotal: 210ms\tremaining: 8.55s\n",
            "12:\tlearn: 0.4121006\ttotal: 233ms\tremaining: 8.72s\n",
            "13:\tlearn: 0.3983624\ttotal: 254ms\tremaining: 8.81s\n",
            "14:\tlearn: 0.3870240\ttotal: 271ms\tremaining: 8.77s\n",
            "15:\tlearn: 0.3760421\ttotal: 288ms\tremaining: 8.72s\n",
            "16:\tlearn: 0.3634643\ttotal: 306ms\tremaining: 8.69s\n",
            "17:\tlearn: 0.3534721\ttotal: 324ms\tremaining: 8.66s\n",
            "18:\tlearn: 0.3433935\ttotal: 341ms\tremaining: 8.64s\n",
            "19:\tlearn: 0.3344564\ttotal: 370ms\tremaining: 8.88s\n",
            "20:\tlearn: 0.3252160\ttotal: 388ms\tremaining: 8.85s\n",
            "21:\tlearn: 0.3169215\ttotal: 405ms\tremaining: 8.81s\n",
            "22:\tlearn: 0.3086293\ttotal: 423ms\tremaining: 8.77s\n",
            "23:\tlearn: 0.3017557\ttotal: 444ms\tremaining: 8.81s\n",
            "24:\tlearn: 0.2953350\ttotal: 462ms\tremaining: 8.78s\n",
            "25:\tlearn: 0.2874729\ttotal: 480ms\tremaining: 8.75s\n",
            "26:\tlearn: 0.2809491\ttotal: 498ms\tremaining: 8.72s\n",
            "27:\tlearn: 0.2741448\ttotal: 515ms\tremaining: 8.69s\n",
            "28:\tlearn: 0.2691636\ttotal: 533ms\tremaining: 8.65s\n",
            "29:\tlearn: 0.2637280\ttotal: 550ms\tremaining: 8.62s\n",
            "30:\tlearn: 0.2584829\ttotal: 568ms\tremaining: 8.6s\n",
            "31:\tlearn: 0.2537334\ttotal: 588ms\tremaining: 8.6s\n",
            "32:\tlearn: 0.2483788\ttotal: 608ms\tremaining: 8.6s\n",
            "33:\tlearn: 0.2434184\ttotal: 625ms\tremaining: 8.57s\n",
            "34:\tlearn: 0.2390541\ttotal: 647ms\tremaining: 8.59s\n",
            "35:\tlearn: 0.2338922\ttotal: 664ms\tremaining: 8.56s\n",
            "36:\tlearn: 0.2296917\ttotal: 681ms\tremaining: 8.52s\n",
            "37:\tlearn: 0.2260527\ttotal: 698ms\tremaining: 8.49s\n",
            "38:\tlearn: 0.2224112\ttotal: 715ms\tremaining: 8.45s\n",
            "39:\tlearn: 0.2183756\ttotal: 733ms\tremaining: 8.42s\n",
            "40:\tlearn: 0.2145854\ttotal: 750ms\tremaining: 8.39s\n",
            "41:\tlearn: 0.2108383\ttotal: 767ms\tremaining: 8.37s\n",
            "42:\tlearn: 0.2075851\ttotal: 785ms\tremaining: 8.34s\n",
            "43:\tlearn: 0.2037461\ttotal: 803ms\tremaining: 8.32s\n",
            "44:\tlearn: 0.2001714\ttotal: 820ms\tremaining: 8.29s\n",
            "45:\tlearn: 0.1972716\ttotal: 838ms\tremaining: 8.27s\n",
            "46:\tlearn: 0.1941586\ttotal: 861ms\tremaining: 8.29s\n",
            "47:\tlearn: 0.1908176\ttotal: 877ms\tremaining: 8.26s\n",
            "48:\tlearn: 0.1879307\ttotal: 894ms\tremaining: 8.23s\n",
            "49:\tlearn: 0.1848794\ttotal: 911ms\tremaining: 8.2s\n",
            "50:\tlearn: 0.1825906\ttotal: 928ms\tremaining: 8.17s\n",
            "51:\tlearn: 0.1805107\ttotal: 944ms\tremaining: 8.13s\n",
            "52:\tlearn: 0.1774477\ttotal: 961ms\tremaining: 8.11s\n",
            "53:\tlearn: 0.1750409\ttotal: 978ms\tremaining: 8.07s\n",
            "54:\tlearn: 0.1723508\ttotal: 994ms\tremaining: 8.04s\n",
            "55:\tlearn: 0.1702987\ttotal: 1.01s\tremaining: 8.01s\n",
            "56:\tlearn: 0.1677726\ttotal: 1.03s\tremaining: 7.98s\n",
            "57:\tlearn: 0.1655417\ttotal: 1.04s\tremaining: 7.95s\n",
            "58:\tlearn: 0.1636752\ttotal: 1.06s\tremaining: 7.96s\n",
            "59:\tlearn: 0.1611705\ttotal: 1.08s\tremaining: 7.93s\n",
            "60:\tlearn: 0.1594352\ttotal: 1.1s\tremaining: 7.93s\n",
            "61:\tlearn: 0.1578500\ttotal: 1.12s\tremaining: 7.9s\n",
            "62:\tlearn: 0.1563362\ttotal: 1.13s\tremaining: 7.87s\n",
            "63:\tlearn: 0.1545704\ttotal: 1.15s\tremaining: 7.84s\n",
            "64:\tlearn: 0.1524926\ttotal: 1.17s\tremaining: 7.82s\n",
            "65:\tlearn: 0.1505690\ttotal: 1.19s\tremaining: 7.8s\n",
            "66:\tlearn: 0.1491444\ttotal: 1.2s\tremaining: 7.78s\n",
            "67:\tlearn: 0.1469270\ttotal: 1.22s\tremaining: 7.76s\n",
            "68:\tlearn: 0.1453543\ttotal: 1.24s\tremaining: 7.74s\n",
            "69:\tlearn: 0.1439125\ttotal: 1.26s\tremaining: 7.72s\n",
            "70:\tlearn: 0.1422028\ttotal: 1.28s\tremaining: 7.76s\n",
            "71:\tlearn: 0.1406635\ttotal: 1.3s\tremaining: 7.74s\n",
            "72:\tlearn: 0.1389882\ttotal: 1.32s\tremaining: 7.72s\n",
            "73:\tlearn: 0.1376128\ttotal: 1.34s\tremaining: 7.73s\n",
            "74:\tlearn: 0.1366152\ttotal: 1.37s\tremaining: 7.75s\n",
            "75:\tlearn: 0.1348923\ttotal: 1.39s\tremaining: 7.73s\n",
            "76:\tlearn: 0.1336593\ttotal: 1.4s\tremaining: 7.71s\n",
            "77:\tlearn: 0.1319745\ttotal: 1.42s\tremaining: 7.69s\n",
            "78:\tlearn: 0.1304667\ttotal: 1.44s\tremaining: 7.67s\n",
            "79:\tlearn: 0.1292606\ttotal: 1.46s\tremaining: 7.64s\n",
            "80:\tlearn: 0.1282980\ttotal: 1.47s\tremaining: 7.62s\n",
            "81:\tlearn: 0.1269457\ttotal: 1.5s\tremaining: 7.66s\n",
            "82:\tlearn: 0.1260961\ttotal: 1.54s\tremaining: 7.73s\n",
            "83:\tlearn: 0.1248393\ttotal: 1.57s\tremaining: 7.76s\n",
            "84:\tlearn: 0.1238045\ttotal: 1.58s\tremaining: 7.74s\n",
            "85:\tlearn: 0.1229078\ttotal: 1.6s\tremaining: 7.71s\n",
            "86:\tlearn: 0.1215066\ttotal: 1.62s\tremaining: 7.69s\n",
            "87:\tlearn: 0.1202730\ttotal: 1.64s\tremaining: 7.66s\n",
            "88:\tlearn: 0.1190566\ttotal: 1.65s\tremaining: 7.64s\n",
            "89:\tlearn: 0.1178778\ttotal: 1.67s\tremaining: 7.61s\n",
            "90:\tlearn: 0.1169037\ttotal: 1.69s\tremaining: 7.59s\n",
            "91:\tlearn: 0.1154863\ttotal: 1.71s\tremaining: 7.59s\n",
            "92:\tlearn: 0.1143345\ttotal: 1.73s\tremaining: 7.56s\n",
            "93:\tlearn: 0.1131128\ttotal: 1.75s\tremaining: 7.54s\n",
            "94:\tlearn: 0.1118028\ttotal: 1.76s\tremaining: 7.52s\n",
            "95:\tlearn: 0.1108598\ttotal: 1.78s\tremaining: 7.49s\n",
            "96:\tlearn: 0.1095398\ttotal: 1.8s\tremaining: 7.47s\n",
            "97:\tlearn: 0.1084687\ttotal: 1.81s\tremaining: 7.45s\n",
            "98:\tlearn: 0.1076293\ttotal: 1.83s\tremaining: 7.42s\n",
            "99:\tlearn: 0.1067791\ttotal: 1.85s\tremaining: 7.4s\n",
            "100:\tlearn: 0.1058144\ttotal: 1.87s\tremaining: 7.38s\n",
            "101:\tlearn: 0.1051450\ttotal: 1.89s\tremaining: 7.36s\n",
            "102:\tlearn: 0.1040070\ttotal: 1.9s\tremaining: 7.34s\n",
            "103:\tlearn: 0.1030508\ttotal: 1.93s\tremaining: 7.33s\n",
            "104:\tlearn: 0.1019531\ttotal: 1.94s\tremaining: 7.31s\n",
            "105:\tlearn: 0.1012493\ttotal: 1.96s\tremaining: 7.3s\n",
            "106:\tlearn: 0.1004132\ttotal: 1.98s\tremaining: 7.27s\n",
            "107:\tlearn: 0.0997262\ttotal: 2s\tremaining: 7.25s\n",
            "108:\tlearn: 0.0988248\ttotal: 2.02s\tremaining: 7.23s\n",
            "109:\tlearn: 0.0980664\ttotal: 2.03s\tremaining: 7.21s\n",
            "110:\tlearn: 0.0972263\ttotal: 2.05s\tremaining: 7.18s\n",
            "111:\tlearn: 0.0964464\ttotal: 2.07s\tremaining: 7.16s\n",
            "112:\tlearn: 0.0958277\ttotal: 2.08s\tremaining: 7.14s\n",
            "113:\tlearn: 0.0951200\ttotal: 2.1s\tremaining: 7.12s\n",
            "114:\tlearn: 0.0945378\ttotal: 2.12s\tremaining: 7.1s\n",
            "115:\tlearn: 0.0938659\ttotal: 2.14s\tremaining: 7.09s\n",
            "116:\tlearn: 0.0932590\ttotal: 2.16s\tremaining: 7.07s\n",
            "117:\tlearn: 0.0925615\ttotal: 2.18s\tremaining: 7.05s\n",
            "118:\tlearn: 0.0918169\ttotal: 2.19s\tremaining: 7.03s\n",
            "119:\tlearn: 0.0910884\ttotal: 2.21s\tremaining: 7.01s\n",
            "120:\tlearn: 0.0904787\ttotal: 2.23s\tremaining: 6.99s\n",
            "121:\tlearn: 0.0899492\ttotal: 2.25s\tremaining: 6.96s\n",
            "122:\tlearn: 0.0890017\ttotal: 2.27s\tremaining: 6.95s\n",
            "123:\tlearn: 0.0881121\ttotal: 2.28s\tremaining: 6.93s\n",
            "124:\tlearn: 0.0876010\ttotal: 2.3s\tremaining: 6.91s\n",
            "125:\tlearn: 0.0867375\ttotal: 2.32s\tremaining: 6.88s\n",
            "126:\tlearn: 0.0862129\ttotal: 2.34s\tremaining: 6.88s\n",
            "127:\tlearn: 0.0857848\ttotal: 2.37s\tremaining: 6.89s\n",
            "128:\tlearn: 0.0851731\ttotal: 2.39s\tremaining: 6.87s\n",
            "129:\tlearn: 0.0846045\ttotal: 2.4s\tremaining: 6.84s\n",
            "130:\tlearn: 0.0838710\ttotal: 2.42s\tremaining: 6.82s\n",
            "131:\tlearn: 0.0831408\ttotal: 2.44s\tremaining: 6.8s\n",
            "132:\tlearn: 0.0827475\ttotal: 2.46s\tremaining: 6.78s\n",
            "133:\tlearn: 0.0820053\ttotal: 2.47s\tremaining: 6.75s\n",
            "134:\tlearn: 0.0814151\ttotal: 2.49s\tremaining: 6.73s\n",
            "135:\tlearn: 0.0808463\ttotal: 2.5s\tremaining: 6.71s\n",
            "136:\tlearn: 0.0802690\ttotal: 2.52s\tremaining: 6.69s\n",
            "137:\tlearn: 0.0798754\ttotal: 2.55s\tremaining: 6.68s\n",
            "138:\tlearn: 0.0790630\ttotal: 2.57s\tremaining: 6.67s\n",
            "139:\tlearn: 0.0785955\ttotal: 2.58s\tremaining: 6.64s\n",
            "140:\tlearn: 0.0778289\ttotal: 2.6s\tremaining: 6.63s\n",
            "141:\tlearn: 0.0770750\ttotal: 2.62s\tremaining: 6.61s\n",
            "142:\tlearn: 0.0761983\ttotal: 2.64s\tremaining: 6.58s\n",
            "143:\tlearn: 0.0755702\ttotal: 2.65s\tremaining: 6.56s\n",
            "144:\tlearn: 0.0752066\ttotal: 2.67s\tremaining: 6.54s\n",
            "145:\tlearn: 0.0747223\ttotal: 2.69s\tremaining: 6.52s\n",
            "146:\tlearn: 0.0741965\ttotal: 2.71s\tremaining: 6.5s\n",
            "147:\tlearn: 0.0735161\ttotal: 2.73s\tremaining: 6.49s\n",
            "148:\tlearn: 0.0730088\ttotal: 2.74s\tremaining: 6.46s\n",
            "149:\tlearn: 0.0724391\ttotal: 2.77s\tremaining: 6.46s\n",
            "150:\tlearn: 0.0717892\ttotal: 2.79s\tremaining: 6.44s\n",
            "151:\tlearn: 0.0712407\ttotal: 2.8s\tremaining: 6.42s\n",
            "152:\tlearn: 0.0708357\ttotal: 2.82s\tremaining: 6.39s\n",
            "153:\tlearn: 0.0704214\ttotal: 2.84s\tremaining: 6.38s\n",
            "154:\tlearn: 0.0699045\ttotal: 2.85s\tremaining: 6.36s\n",
            "155:\tlearn: 0.0693738\ttotal: 2.87s\tremaining: 6.34s\n",
            "156:\tlearn: 0.0686950\ttotal: 2.89s\tremaining: 6.32s\n",
            "157:\tlearn: 0.0681774\ttotal: 2.91s\tremaining: 6.3s\n",
            "158:\tlearn: 0.0677631\ttotal: 2.93s\tremaining: 6.28s\n",
            "159:\tlearn: 0.0673328\ttotal: 2.94s\tremaining: 6.26s\n",
            "160:\tlearn: 0.0667928\ttotal: 2.96s\tremaining: 6.24s\n",
            "161:\tlearn: 0.0664614\ttotal: 2.99s\tremaining: 6.23s\n",
            "162:\tlearn: 0.0660647\ttotal: 3s\tremaining: 6.21s\n",
            "163:\tlearn: 0.0654427\ttotal: 3.02s\tremaining: 6.19s\n",
            "164:\tlearn: 0.0649532\ttotal: 3.04s\tremaining: 6.17s\n",
            "165:\tlearn: 0.0644108\ttotal: 3.06s\tremaining: 6.15s\n",
            "166:\tlearn: 0.0639077\ttotal: 3.08s\tremaining: 6.13s\n",
            "167:\tlearn: 0.0633344\ttotal: 3.09s\tremaining: 6.11s\n",
            "168:\tlearn: 0.0629893\ttotal: 3.11s\tremaining: 6.09s\n",
            "169:\tlearn: 0.0623669\ttotal: 3.13s\tremaining: 6.07s\n",
            "170:\tlearn: 0.0618913\ttotal: 3.15s\tremaining: 6.06s\n",
            "171:\tlearn: 0.0617011\ttotal: 3.17s\tremaining: 6.04s\n",
            "172:\tlearn: 0.0611711\ttotal: 3.19s\tremaining: 6.03s\n",
            "173:\tlearn: 0.0606403\ttotal: 3.21s\tremaining: 6.01s\n",
            "174:\tlearn: 0.0602858\ttotal: 3.23s\tremaining: 5.99s\n",
            "175:\tlearn: 0.0599150\ttotal: 3.24s\tremaining: 5.97s\n",
            "176:\tlearn: 0.0594489\ttotal: 3.26s\tremaining: 5.95s\n",
            "177:\tlearn: 0.0590014\ttotal: 3.28s\tremaining: 5.93s\n",
            "178:\tlearn: 0.0586274\ttotal: 3.3s\tremaining: 5.91s\n",
            "179:\tlearn: 0.0582287\ttotal: 3.32s\tremaining: 5.89s\n",
            "180:\tlearn: 0.0578023\ttotal: 3.33s\tremaining: 5.88s\n",
            "181:\tlearn: 0.0575427\ttotal: 3.36s\tremaining: 5.88s\n",
            "182:\tlearn: 0.0572001\ttotal: 3.38s\tremaining: 5.86s\n",
            "183:\tlearn: 0.0570099\ttotal: 3.4s\tremaining: 5.85s\n",
            "184:\tlearn: 0.0565378\ttotal: 3.42s\tremaining: 5.83s\n",
            "185:\tlearn: 0.0561669\ttotal: 3.44s\tremaining: 5.81s\n",
            "186:\tlearn: 0.0557126\ttotal: 3.46s\tremaining: 5.79s\n",
            "187:\tlearn: 0.0553568\ttotal: 3.48s\tremaining: 5.77s\n",
            "188:\tlearn: 0.0550700\ttotal: 3.49s\tremaining: 5.75s\n",
            "189:\tlearn: 0.0548202\ttotal: 3.51s\tremaining: 5.73s\n",
            "190:\tlearn: 0.0544474\ttotal: 3.53s\tremaining: 5.71s\n",
            "191:\tlearn: 0.0541334\ttotal: 3.55s\tremaining: 5.69s\n",
            "192:\tlearn: 0.0536020\ttotal: 3.56s\tremaining: 5.67s\n",
            "193:\tlearn: 0.0533217\ttotal: 3.58s\tremaining: 5.65s\n",
            "194:\tlearn: 0.0529321\ttotal: 3.6s\tremaining: 5.63s\n",
            "195:\tlearn: 0.0527662\ttotal: 3.61s\tremaining: 5.6s\n",
            "196:\tlearn: 0.0524733\ttotal: 3.63s\tremaining: 5.58s\n",
            "197:\tlearn: 0.0520898\ttotal: 3.64s\tremaining: 5.56s\n",
            "198:\tlearn: 0.0518260\ttotal: 3.66s\tremaining: 5.54s\n",
            "199:\tlearn: 0.0514783\ttotal: 3.68s\tremaining: 5.52s\n",
            "200:\tlearn: 0.0510739\ttotal: 3.7s\tremaining: 5.5s\n",
            "201:\tlearn: 0.0507166\ttotal: 3.72s\tremaining: 5.48s\n",
            "202:\tlearn: 0.0504138\ttotal: 3.73s\tremaining: 5.46s\n",
            "203:\tlearn: 0.0501007\ttotal: 3.75s\tremaining: 5.45s\n",
            "204:\tlearn: 0.0496904\ttotal: 3.77s\tremaining: 5.43s\n",
            "205:\tlearn: 0.0493732\ttotal: 3.79s\tremaining: 5.41s\n",
            "206:\tlearn: 0.0490776\ttotal: 3.81s\tremaining: 5.39s\n",
            "207:\tlearn: 0.0488950\ttotal: 3.83s\tremaining: 5.37s\n",
            "208:\tlearn: 0.0486044\ttotal: 3.85s\tremaining: 5.35s\n",
            "209:\tlearn: 0.0482840\ttotal: 3.86s\tremaining: 5.33s\n",
            "210:\tlearn: 0.0480686\ttotal: 3.88s\tremaining: 5.31s\n",
            "211:\tlearn: 0.0477043\ttotal: 3.9s\tremaining: 5.3s\n",
            "212:\tlearn: 0.0473789\ttotal: 3.92s\tremaining: 5.28s\n",
            "213:\tlearn: 0.0470419\ttotal: 3.94s\tremaining: 5.26s\n",
            "214:\tlearn: 0.0467718\ttotal: 3.95s\tremaining: 5.24s\n",
            "215:\tlearn: 0.0465380\ttotal: 3.97s\tremaining: 5.22s\n",
            "216:\tlearn: 0.0463206\ttotal: 3.99s\tremaining: 5.2s\n",
            "217:\tlearn: 0.0460496\ttotal: 4s\tremaining: 5.18s\n",
            "218:\tlearn: 0.0457585\ttotal: 4.03s\tremaining: 5.17s\n",
            "219:\tlearn: 0.0455720\ttotal: 4.04s\tremaining: 5.15s\n",
            "220:\tlearn: 0.0453038\ttotal: 4.06s\tremaining: 5.13s\n",
            "221:\tlearn: 0.0450864\ttotal: 4.08s\tremaining: 5.11s\n",
            "222:\tlearn: 0.0449046\ttotal: 4.1s\tremaining: 5.09s\n",
            "223:\tlearn: 0.0447141\ttotal: 4.12s\tremaining: 5.07s\n",
            "224:\tlearn: 0.0444694\ttotal: 4.13s\tremaining: 5.05s\n",
            "225:\tlearn: 0.0442042\ttotal: 4.15s\tremaining: 5.03s\n",
            "226:\tlearn: 0.0438893\ttotal: 4.17s\tremaining: 5.01s\n",
            "227:\tlearn: 0.0437392\ttotal: 4.18s\tremaining: 4.99s\n",
            "228:\tlearn: 0.0434313\ttotal: 4.2s\tremaining: 4.97s\n",
            "229:\tlearn: 0.0431859\ttotal: 4.22s\tremaining: 4.95s\n",
            "230:\tlearn: 0.0430436\ttotal: 4.24s\tremaining: 4.94s\n",
            "231:\tlearn: 0.0427797\ttotal: 4.26s\tremaining: 4.92s\n",
            "232:\tlearn: 0.0425857\ttotal: 4.28s\tremaining: 4.9s\n",
            "233:\tlearn: 0.0423028\ttotal: 4.29s\tremaining: 4.88s\n",
            "234:\tlearn: 0.0420276\ttotal: 4.31s\tremaining: 4.86s\n",
            "235:\tlearn: 0.0416993\ttotal: 4.33s\tremaining: 4.84s\n",
            "236:\tlearn: 0.0414870\ttotal: 4.36s\tremaining: 4.83s\n",
            "237:\tlearn: 0.0412836\ttotal: 4.37s\tremaining: 4.81s\n",
            "238:\tlearn: 0.0410971\ttotal: 4.39s\tremaining: 4.79s\n",
            "239:\tlearn: 0.0408696\ttotal: 4.41s\tremaining: 4.78s\n",
            "240:\tlearn: 0.0405821\ttotal: 4.43s\tremaining: 4.76s\n",
            "241:\tlearn: 0.0403441\ttotal: 4.45s\tremaining: 4.74s\n",
            "242:\tlearn: 0.0400889\ttotal: 4.47s\tremaining: 4.72s\n",
            "243:\tlearn: 0.0397991\ttotal: 4.49s\tremaining: 4.71s\n",
            "244:\tlearn: 0.0395618\ttotal: 4.5s\tremaining: 4.69s\n",
            "245:\tlearn: 0.0392659\ttotal: 4.52s\tremaining: 4.67s\n",
            "246:\tlearn: 0.0391361\ttotal: 4.54s\tremaining: 4.65s\n",
            "247:\tlearn: 0.0388564\ttotal: 4.56s\tremaining: 4.63s\n",
            "248:\tlearn: 0.0385728\ttotal: 4.58s\tremaining: 4.61s\n",
            "249:\tlearn: 0.0382975\ttotal: 4.59s\tremaining: 4.59s\n",
            "250:\tlearn: 0.0380387\ttotal: 4.61s\tremaining: 4.57s\n",
            "251:\tlearn: 0.0378215\ttotal: 4.63s\tremaining: 4.55s\n",
            "252:\tlearn: 0.0375773\ttotal: 4.65s\tremaining: 4.54s\n",
            "253:\tlearn: 0.0373675\ttotal: 4.67s\tremaining: 4.52s\n",
            "254:\tlearn: 0.0371257\ttotal: 4.69s\tremaining: 4.5s\n",
            "255:\tlearn: 0.0368836\ttotal: 4.7s\tremaining: 4.48s\n",
            "256:\tlearn: 0.0366913\ttotal: 4.72s\tremaining: 4.46s\n",
            "257:\tlearn: 0.0364510\ttotal: 4.74s\tremaining: 4.45s\n",
            "258:\tlearn: 0.0362630\ttotal: 4.76s\tremaining: 4.43s\n",
            "259:\tlearn: 0.0359729\ttotal: 4.78s\tremaining: 4.41s\n",
            "260:\tlearn: 0.0356983\ttotal: 4.79s\tremaining: 4.39s\n",
            "261:\tlearn: 0.0355372\ttotal: 4.81s\tremaining: 4.37s\n",
            "262:\tlearn: 0.0353535\ttotal: 4.83s\tremaining: 4.35s\n",
            "263:\tlearn: 0.0351897\ttotal: 4.85s\tremaining: 4.33s\n",
            "264:\tlearn: 0.0349903\ttotal: 4.87s\tremaining: 4.32s\n",
            "265:\tlearn: 0.0348380\ttotal: 4.89s\tremaining: 4.3s\n",
            "266:\tlearn: 0.0346526\ttotal: 4.91s\tremaining: 4.28s\n",
            "267:\tlearn: 0.0344174\ttotal: 4.92s\tremaining: 4.26s\n",
            "268:\tlearn: 0.0342755\ttotal: 4.94s\tremaining: 4.24s\n",
            "269:\tlearn: 0.0339754\ttotal: 4.96s\tremaining: 4.22s\n",
            "270:\tlearn: 0.0337846\ttotal: 4.98s\tremaining: 4.21s\n",
            "271:\tlearn: 0.0335770\ttotal: 4.99s\tremaining: 4.19s\n",
            "272:\tlearn: 0.0334159\ttotal: 5.01s\tremaining: 4.17s\n",
            "273:\tlearn: 0.0332639\ttotal: 5.03s\tremaining: 4.15s\n",
            "274:\tlearn: 0.0330347\ttotal: 5.05s\tremaining: 4.13s\n",
            "275:\tlearn: 0.0328111\ttotal: 5.06s\tremaining: 4.11s\n",
            "276:\tlearn: 0.0326595\ttotal: 5.09s\tremaining: 4.09s\n",
            "277:\tlearn: 0.0325239\ttotal: 5.11s\tremaining: 4.08s\n",
            "278:\tlearn: 0.0323975\ttotal: 5.11s\tremaining: 4.05s\n",
            "279:\tlearn: 0.0322505\ttotal: 5.13s\tremaining: 4.03s\n",
            "280:\tlearn: 0.0321221\ttotal: 5.15s\tremaining: 4.01s\n",
            "281:\tlearn: 0.0320524\ttotal: 5.17s\tremaining: 3.99s\n",
            "282:\tlearn: 0.0319104\ttotal: 5.19s\tremaining: 3.98s\n",
            "283:\tlearn: 0.0317157\ttotal: 5.21s\tremaining: 3.96s\n",
            "284:\tlearn: 0.0315722\ttotal: 5.22s\tremaining: 3.94s\n",
            "285:\tlearn: 0.0314690\ttotal: 5.24s\tremaining: 3.92s\n",
            "286:\tlearn: 0.0312707\ttotal: 5.26s\tremaining: 3.9s\n",
            "287:\tlearn: 0.0310556\ttotal: 5.28s\tremaining: 3.88s\n",
            "288:\tlearn: 0.0308802\ttotal: 5.3s\tremaining: 3.87s\n",
            "289:\tlearn: 0.0306966\ttotal: 5.32s\tremaining: 3.85s\n",
            "290:\tlearn: 0.0305406\ttotal: 5.34s\tremaining: 3.83s\n",
            "291:\tlearn: 0.0303842\ttotal: 5.37s\tremaining: 3.82s\n",
            "292:\tlearn: 0.0302223\ttotal: 5.38s\tremaining: 3.8s\n",
            "293:\tlearn: 0.0300453\ttotal: 5.4s\tremaining: 3.79s\n",
            "294:\tlearn: 0.0298360\ttotal: 5.42s\tremaining: 3.77s\n",
            "295:\tlearn: 0.0296764\ttotal: 5.43s\tremaining: 3.75s\n",
            "296:\tlearn: 0.0295148\ttotal: 5.46s\tremaining: 3.73s\n",
            "297:\tlearn: 0.0294728\ttotal: 5.46s\tremaining: 3.7s\n",
            "298:\tlearn: 0.0293569\ttotal: 5.48s\tremaining: 3.68s\n",
            "299:\tlearn: 0.0292123\ttotal: 5.49s\tremaining: 3.66s\n",
            "300:\tlearn: 0.0290744\ttotal: 5.52s\tremaining: 3.65s\n",
            "301:\tlearn: 0.0288986\ttotal: 5.53s\tremaining: 3.63s\n",
            "302:\tlearn: 0.0287148\ttotal: 5.55s\tremaining: 3.61s\n",
            "303:\tlearn: 0.0285426\ttotal: 5.57s\tremaining: 3.59s\n",
            "304:\tlearn: 0.0283681\ttotal: 5.58s\tremaining: 3.57s\n",
            "305:\tlearn: 0.0282060\ttotal: 5.6s\tremaining: 3.55s\n",
            "306:\tlearn: 0.0280207\ttotal: 5.62s\tremaining: 3.53s\n",
            "307:\tlearn: 0.0278348\ttotal: 5.63s\tremaining: 3.51s\n",
            "308:\tlearn: 0.0276521\ttotal: 5.65s\tremaining: 3.49s\n",
            "309:\tlearn: 0.0274910\ttotal: 5.67s\tremaining: 3.47s\n",
            "310:\tlearn: 0.0273361\ttotal: 5.68s\tremaining: 3.46s\n",
            "311:\tlearn: 0.0271819\ttotal: 5.7s\tremaining: 3.44s\n",
            "312:\tlearn: 0.0270122\ttotal: 5.72s\tremaining: 3.42s\n",
            "313:\tlearn: 0.0268594\ttotal: 5.74s\tremaining: 3.4s\n",
            "314:\tlearn: 0.0267440\ttotal: 5.76s\tremaining: 3.38s\n",
            "315:\tlearn: 0.0265961\ttotal: 5.77s\tremaining: 3.36s\n",
            "316:\tlearn: 0.0264734\ttotal: 5.79s\tremaining: 3.34s\n",
            "317:\tlearn: 0.0264409\ttotal: 5.79s\tremaining: 3.31s\n",
            "318:\tlearn: 0.0262752\ttotal: 5.81s\tremaining: 3.3s\n",
            "319:\tlearn: 0.0261701\ttotal: 5.83s\tremaining: 3.28s\n",
            "320:\tlearn: 0.0260388\ttotal: 5.84s\tremaining: 3.26s\n",
            "321:\tlearn: 0.0258593\ttotal: 5.86s\tremaining: 3.24s\n",
            "322:\tlearn: 0.0258014\ttotal: 5.88s\tremaining: 3.22s\n",
            "323:\tlearn: 0.0257066\ttotal: 5.89s\tremaining: 3.2s\n",
            "324:\tlearn: 0.0255678\ttotal: 5.91s\tremaining: 3.18s\n",
            "325:\tlearn: 0.0254269\ttotal: 5.93s\tremaining: 3.17s\n",
            "326:\tlearn: 0.0252968\ttotal: 5.95s\tremaining: 3.15s\n",
            "327:\tlearn: 0.0251915\ttotal: 5.97s\tremaining: 3.13s\n",
            "328:\tlearn: 0.0250543\ttotal: 5.98s\tremaining: 3.11s\n",
            "329:\tlearn: 0.0249171\ttotal: 6s\tremaining: 3.09s\n",
            "330:\tlearn: 0.0248279\ttotal: 6.02s\tremaining: 3.07s\n",
            "331:\tlearn: 0.0247316\ttotal: 6.04s\tremaining: 3.05s\n",
            "332:\tlearn: 0.0246146\ttotal: 6.05s\tremaining: 3.04s\n",
            "333:\tlearn: 0.0244906\ttotal: 6.07s\tremaining: 3.02s\n",
            "334:\tlearn: 0.0243583\ttotal: 6.09s\tremaining: 3s\n",
            "335:\tlearn: 0.0242275\ttotal: 6.12s\tremaining: 2.99s\n",
            "336:\tlearn: 0.0240990\ttotal: 6.15s\tremaining: 2.98s\n",
            "337:\tlearn: 0.0239715\ttotal: 6.17s\tremaining: 2.96s\n",
            "338:\tlearn: 0.0238444\ttotal: 6.19s\tremaining: 2.94s\n",
            "339:\tlearn: 0.0237728\ttotal: 6.21s\tremaining: 2.92s\n",
            "340:\tlearn: 0.0236559\ttotal: 6.23s\tremaining: 2.9s\n",
            "341:\tlearn: 0.0235752\ttotal: 6.25s\tremaining: 2.89s\n",
            "342:\tlearn: 0.0234105\ttotal: 6.26s\tremaining: 2.87s\n",
            "343:\tlearn: 0.0233291\ttotal: 6.28s\tremaining: 2.85s\n",
            "344:\tlearn: 0.0232356\ttotal: 6.3s\tremaining: 2.83s\n",
            "345:\tlearn: 0.0231398\ttotal: 6.33s\tremaining: 2.82s\n",
            "346:\tlearn: 0.0230211\ttotal: 6.36s\tremaining: 2.8s\n",
            "347:\tlearn: 0.0228974\ttotal: 6.38s\tremaining: 2.79s\n",
            "348:\tlearn: 0.0227827\ttotal: 6.4s\tremaining: 2.77s\n",
            "349:\tlearn: 0.0226731\ttotal: 6.42s\tremaining: 2.75s\n",
            "350:\tlearn: 0.0225945\ttotal: 6.44s\tremaining: 2.73s\n",
            "351:\tlearn: 0.0224857\ttotal: 6.45s\tremaining: 2.71s\n",
            "352:\tlearn: 0.0223784\ttotal: 6.47s\tremaining: 2.69s\n",
            "353:\tlearn: 0.0222844\ttotal: 6.49s\tremaining: 2.68s\n",
            "354:\tlearn: 0.0221867\ttotal: 6.51s\tremaining: 2.66s\n",
            "355:\tlearn: 0.0220826\ttotal: 6.53s\tremaining: 2.64s\n",
            "356:\tlearn: 0.0219725\ttotal: 6.55s\tremaining: 2.62s\n",
            "357:\tlearn: 0.0218704\ttotal: 6.57s\tremaining: 2.61s\n",
            "358:\tlearn: 0.0217644\ttotal: 6.59s\tremaining: 2.59s\n",
            "359:\tlearn: 0.0216876\ttotal: 6.61s\tremaining: 2.57s\n",
            "360:\tlearn: 0.0215933\ttotal: 6.63s\tremaining: 2.55s\n",
            "361:\tlearn: 0.0214950\ttotal: 6.65s\tremaining: 2.53s\n",
            "362:\tlearn: 0.0213703\ttotal: 6.67s\tremaining: 2.52s\n",
            "363:\tlearn: 0.0212598\ttotal: 6.68s\tremaining: 2.5s\n",
            "364:\tlearn: 0.0211956\ttotal: 6.7s\tremaining: 2.48s\n",
            "365:\tlearn: 0.0210960\ttotal: 6.72s\tremaining: 2.46s\n",
            "366:\tlearn: 0.0210091\ttotal: 6.74s\tremaining: 2.44s\n",
            "367:\tlearn: 0.0209145\ttotal: 6.76s\tremaining: 2.42s\n",
            "368:\tlearn: 0.0208148\ttotal: 6.78s\tremaining: 2.41s\n",
            "369:\tlearn: 0.0207045\ttotal: 6.8s\tremaining: 2.39s\n",
            "370:\tlearn: 0.0206073\ttotal: 6.82s\tremaining: 2.37s\n",
            "371:\tlearn: 0.0205114\ttotal: 6.84s\tremaining: 2.35s\n",
            "372:\tlearn: 0.0204504\ttotal: 6.86s\tremaining: 2.33s\n",
            "373:\tlearn: 0.0203695\ttotal: 6.88s\tremaining: 2.32s\n",
            "374:\tlearn: 0.0202545\ttotal: 6.89s\tremaining: 2.3s\n",
            "375:\tlearn: 0.0201683\ttotal: 6.91s\tremaining: 2.28s\n",
            "376:\tlearn: 0.0201152\ttotal: 6.93s\tremaining: 2.26s\n",
            "377:\tlearn: 0.0200056\ttotal: 6.96s\tremaining: 2.24s\n",
            "378:\tlearn: 0.0199199\ttotal: 6.97s\tremaining: 2.23s\n",
            "379:\tlearn: 0.0198247\ttotal: 7s\tremaining: 2.21s\n",
            "380:\tlearn: 0.0197392\ttotal: 7.01s\tremaining: 2.19s\n",
            "381:\tlearn: 0.0196485\ttotal: 7.03s\tremaining: 2.17s\n",
            "382:\tlearn: 0.0195765\ttotal: 7.05s\tremaining: 2.15s\n",
            "383:\tlearn: 0.0195113\ttotal: 7.07s\tremaining: 2.13s\n",
            "384:\tlearn: 0.0194211\ttotal: 7.08s\tremaining: 2.12s\n",
            "385:\tlearn: 0.0193365\ttotal: 7.11s\tremaining: 2.1s\n",
            "386:\tlearn: 0.0192500\ttotal: 7.13s\tremaining: 2.08s\n",
            "387:\tlearn: 0.0191668\ttotal: 7.14s\tremaining: 2.06s\n",
            "388:\tlearn: 0.0190838\ttotal: 7.16s\tremaining: 2.04s\n",
            "389:\tlearn: 0.0190041\ttotal: 7.18s\tremaining: 2.02s\n",
            "390:\tlearn: 0.0189341\ttotal: 7.2s\tremaining: 2.01s\n",
            "391:\tlearn: 0.0188838\ttotal: 7.22s\tremaining: 1.99s\n",
            "392:\tlearn: 0.0188050\ttotal: 7.24s\tremaining: 1.97s\n",
            "393:\tlearn: 0.0187279\ttotal: 7.26s\tremaining: 1.95s\n",
            "394:\tlearn: 0.0186475\ttotal: 7.28s\tremaining: 1.93s\n",
            "395:\tlearn: 0.0186066\ttotal: 7.29s\tremaining: 1.92s\n",
            "396:\tlearn: 0.0185265\ttotal: 7.31s\tremaining: 1.9s\n",
            "397:\tlearn: 0.0184586\ttotal: 7.33s\tremaining: 1.88s\n",
            "398:\tlearn: 0.0183809\ttotal: 7.35s\tremaining: 1.86s\n",
            "399:\tlearn: 0.0182977\ttotal: 7.37s\tremaining: 1.84s\n",
            "400:\tlearn: 0.0182229\ttotal: 7.4s\tremaining: 1.83s\n",
            "401:\tlearn: 0.0181460\ttotal: 7.42s\tremaining: 1.81s\n",
            "402:\tlearn: 0.0180912\ttotal: 7.43s\tremaining: 1.79s\n",
            "403:\tlearn: 0.0180206\ttotal: 7.45s\tremaining: 1.77s\n",
            "404:\tlearn: 0.0179939\ttotal: 7.47s\tremaining: 1.75s\n",
            "405:\tlearn: 0.0179156\ttotal: 7.49s\tremaining: 1.73s\n",
            "406:\tlearn: 0.0178503\ttotal: 7.5s\tremaining: 1.71s\n",
            "407:\tlearn: 0.0178010\ttotal: 7.52s\tremaining: 1.7s\n",
            "408:\tlearn: 0.0177247\ttotal: 7.54s\tremaining: 1.68s\n",
            "409:\tlearn: 0.0176514\ttotal: 7.56s\tremaining: 1.66s\n",
            "410:\tlearn: 0.0175684\ttotal: 7.57s\tremaining: 1.64s\n",
            "411:\tlearn: 0.0175448\ttotal: 7.59s\tremaining: 1.62s\n",
            "412:\tlearn: 0.0175202\ttotal: 7.61s\tremaining: 1.6s\n",
            "413:\tlearn: 0.0174482\ttotal: 7.63s\tremaining: 1.58s\n",
            "414:\tlearn: 0.0173986\ttotal: 7.65s\tremaining: 1.57s\n",
            "415:\tlearn: 0.0173277\ttotal: 7.67s\tremaining: 1.55s\n",
            "416:\tlearn: 0.0173059\ttotal: 7.68s\tremaining: 1.53s\n",
            "417:\tlearn: 0.0172282\ttotal: 7.7s\tremaining: 1.51s\n",
            "418:\tlearn: 0.0171600\ttotal: 7.73s\tremaining: 1.49s\n",
            "419:\tlearn: 0.0170717\ttotal: 7.74s\tremaining: 1.48s\n",
            "420:\tlearn: 0.0170034\ttotal: 7.76s\tremaining: 1.46s\n",
            "421:\tlearn: 0.0169806\ttotal: 7.78s\tremaining: 1.44s\n",
            "422:\tlearn: 0.0169600\ttotal: 7.8s\tremaining: 1.42s\n",
            "423:\tlearn: 0.0168805\ttotal: 7.82s\tremaining: 1.4s\n",
            "424:\tlearn: 0.0168119\ttotal: 7.84s\tremaining: 1.38s\n",
            "425:\tlearn: 0.0167658\ttotal: 7.86s\tremaining: 1.36s\n",
            "426:\tlearn: 0.0167011\ttotal: 7.88s\tremaining: 1.35s\n",
            "427:\tlearn: 0.0166378\ttotal: 7.89s\tremaining: 1.33s\n",
            "428:\tlearn: 0.0165612\ttotal: 7.91s\tremaining: 1.31s\n",
            "429:\tlearn: 0.0164982\ttotal: 7.93s\tremaining: 1.29s\n",
            "430:\tlearn: 0.0164315\ttotal: 7.95s\tremaining: 1.27s\n",
            "431:\tlearn: 0.0163671\ttotal: 7.96s\tremaining: 1.25s\n",
            "432:\tlearn: 0.0163054\ttotal: 7.98s\tremaining: 1.24s\n",
            "433:\tlearn: 0.0162494\ttotal: 8s\tremaining: 1.22s\n",
            "434:\tlearn: 0.0161943\ttotal: 8.02s\tremaining: 1.2s\n",
            "435:\tlearn: 0.0161323\ttotal: 8.04s\tremaining: 1.18s\n",
            "436:\tlearn: 0.0160563\ttotal: 8.06s\tremaining: 1.16s\n",
            "437:\tlearn: 0.0159983\ttotal: 8.08s\tremaining: 1.14s\n",
            "438:\tlearn: 0.0159483\ttotal: 8.1s\tremaining: 1.13s\n",
            "439:\tlearn: 0.0159200\ttotal: 8.12s\tremaining: 1.11s\n",
            "440:\tlearn: 0.0158654\ttotal: 8.14s\tremaining: 1.09s\n",
            "441:\tlearn: 0.0158278\ttotal: 8.16s\tremaining: 1.07s\n",
            "442:\tlearn: 0.0158213\ttotal: 8.18s\tremaining: 1.05s\n",
            "443:\tlearn: 0.0158035\ttotal: 8.19s\tremaining: 1.03s\n",
            "444:\tlearn: 0.0157726\ttotal: 8.21s\tremaining: 1.01s\n",
            "445:\tlearn: 0.0157155\ttotal: 8.23s\tremaining: 996ms\n",
            "446:\tlearn: 0.0156976\ttotal: 8.24s\tremaining: 978ms\n",
            "447:\tlearn: 0.0156423\ttotal: 8.26s\tremaining: 959ms\n",
            "448:\tlearn: 0.0155950\ttotal: 8.28s\tremaining: 941ms\n",
            "449:\tlearn: 0.0155895\ttotal: 8.3s\tremaining: 922ms\n",
            "450:\tlearn: 0.0155502\ttotal: 8.32s\tremaining: 904ms\n",
            "451:\tlearn: 0.0155319\ttotal: 8.34s\tremaining: 885ms\n",
            "452:\tlearn: 0.0154750\ttotal: 8.35s\tremaining: 867ms\n",
            "453:\tlearn: 0.0154316\ttotal: 8.38s\tremaining: 850ms\n",
            "454:\tlearn: 0.0153849\ttotal: 8.4s\tremaining: 831ms\n",
            "455:\tlearn: 0.0153292\ttotal: 8.42s\tremaining: 812ms\n",
            "456:\tlearn: 0.0152750\ttotal: 8.44s\tremaining: 794ms\n",
            "457:\tlearn: 0.0152407\ttotal: 8.45s\tremaining: 775ms\n",
            "458:\tlearn: 0.0151853\ttotal: 8.47s\tremaining: 757ms\n",
            "459:\tlearn: 0.0151479\ttotal: 8.49s\tremaining: 739ms\n",
            "460:\tlearn: 0.0151149\ttotal: 8.51s\tremaining: 720ms\n",
            "461:\tlearn: 0.0151004\ttotal: 8.53s\tremaining: 701ms\n",
            "462:\tlearn: 0.0150486\ttotal: 8.54s\tremaining: 683ms\n",
            "463:\tlearn: 0.0150003\ttotal: 8.56s\tremaining: 664ms\n",
            "464:\tlearn: 0.0149557\ttotal: 8.58s\tremaining: 646ms\n",
            "465:\tlearn: 0.0149115\ttotal: 8.6s\tremaining: 627ms\n",
            "466:\tlearn: 0.0148629\ttotal: 8.61s\tremaining: 609ms\n",
            "467:\tlearn: 0.0147930\ttotal: 8.63s\tremaining: 590ms\n",
            "468:\tlearn: 0.0147412\ttotal: 8.65s\tremaining: 571ms\n",
            "469:\tlearn: 0.0146988\ttotal: 8.66s\tremaining: 553ms\n",
            "470:\tlearn: 0.0146463\ttotal: 8.69s\tremaining: 535ms\n",
            "471:\tlearn: 0.0146329\ttotal: 8.71s\tremaining: 517ms\n",
            "472:\tlearn: 0.0145839\ttotal: 8.73s\tremaining: 498ms\n",
            "473:\tlearn: 0.0145225\ttotal: 8.74s\tremaining: 480ms\n",
            "474:\tlearn: 0.0144723\ttotal: 8.76s\tremaining: 461ms\n",
            "475:\tlearn: 0.0144404\ttotal: 8.78s\tremaining: 443ms\n",
            "476:\tlearn: 0.0143893\ttotal: 8.8s\tremaining: 424ms\n",
            "477:\tlearn: 0.0143247\ttotal: 8.81s\tremaining: 406ms\n",
            "478:\tlearn: 0.0142615\ttotal: 8.83s\tremaining: 387ms\n",
            "479:\tlearn: 0.0142114\ttotal: 8.85s\tremaining: 369ms\n",
            "480:\tlearn: 0.0141595\ttotal: 8.86s\tremaining: 350ms\n",
            "481:\tlearn: 0.0141120\ttotal: 8.88s\tremaining: 332ms\n",
            "482:\tlearn: 0.0140608\ttotal: 8.9s\tremaining: 313ms\n",
            "483:\tlearn: 0.0140277\ttotal: 8.92s\tremaining: 295ms\n",
            "484:\tlearn: 0.0139884\ttotal: 8.94s\tremaining: 276ms\n",
            "485:\tlearn: 0.0139380\ttotal: 8.95s\tremaining: 258ms\n",
            "486:\tlearn: 0.0139240\ttotal: 8.97s\tremaining: 239ms\n",
            "487:\tlearn: 0.0138812\ttotal: 8.98s\tremaining: 221ms\n",
            "488:\tlearn: 0.0138221\ttotal: 9s\tremaining: 203ms\n",
            "489:\tlearn: 0.0137642\ttotal: 9.02s\tremaining: 184ms\n",
            "490:\tlearn: 0.0137190\ttotal: 9.04s\tremaining: 166ms\n",
            "491:\tlearn: 0.0136822\ttotal: 9.05s\tremaining: 147ms\n",
            "492:\tlearn: 0.0136503\ttotal: 9.07s\tremaining: 129ms\n",
            "493:\tlearn: 0.0136195\ttotal: 9.09s\tremaining: 110ms\n",
            "494:\tlearn: 0.0135661\ttotal: 9.11s\tremaining: 92ms\n",
            "495:\tlearn: 0.0135359\ttotal: 9.13s\tremaining: 73.6ms\n",
            "496:\tlearn: 0.0134811\ttotal: 9.15s\tremaining: 55.2ms\n",
            "497:\tlearn: 0.0134289\ttotal: 9.16s\tremaining: 36.8ms\n",
            "498:\tlearn: 0.0133945\ttotal: 9.18s\tremaining: 18.4ms\n",
            "499:\tlearn: 0.0133583\ttotal: 9.2s\tremaining: 0us\n"
          ]
        },
        {
          "output_type": "execute_result",
          "data": {
            "text/plain": [
              "VotingClassifier(estimators=[('cb',\n",
              "                              <catboost.core.CatBoostClassifier object at 0x7ff402a60510>),\n",
              "                             ('lgb',\n",
              "                              LGBMClassifier(learning_rate=0.05, max_depth=5,\n",
              "                                             min_child_samples=5,\n",
              "                                             n_estimators=1000, num_leaves=40,\n",
              "                                             reg_alpha=0.02))],\n",
              "                 voting='soft')"
            ]
          },
          "metadata": {},
          "execution_count": 68
        }
      ]
    },
    {
      "cell_type": "code",
      "source": [
        "y_pred = voting_clf.predict(x_test)\n",
        "mat = metrics.confusion_matrix(y_test,y_pred)\n",
        "print(mat)"
      ],
      "metadata": {
        "colab": {
          "base_uri": "https://localhost:8080/"
        },
        "id": "vGm0By1m5otr",
        "outputId": "6a8669a6-d664-4f8f-a73f-a5c3068b2405"
      },
      "id": "vGm0By1m5otr",
      "execution_count": 69,
      "outputs": [
        {
          "output_type": "stream",
          "name": "stdout",
          "text": [
            "[[88 11]\n",
            " [ 8 93]]\n"
          ]
        }
      ]
    },
    {
      "cell_type": "code",
      "source": [
        "accuracy = (mat[0][0]+mat[1][1]) / (mat[0][0]+mat[0][1]+mat[1][0]+mat[1][1])\n",
        "print(accuracy*100)"
      ],
      "metadata": {
        "colab": {
          "base_uri": "https://localhost:8080/"
        },
        "id": "0SUJUHtN6IlO",
        "outputId": "0cb45f92-dc6a-4c53-8f1b-0d635f47bce4"
      },
      "id": "0SUJUHtN6IlO",
      "execution_count": 70,
      "outputs": [
        {
          "output_type": "stream",
          "name": "stdout",
          "text": [
            "90.5\n"
          ]
        }
      ]
    },
    {
      "cell_type": "code",
      "source": [
        "#LightGbm + xgboost\n",
        "xgb_clf = xgb.XGBClassifier(colsample_bytree= 0.8,gamma = 2,max_depth= 5,min_child_weight=1,subsample=1.0)\n",
        "voting_clf = VotingClassifier(estimators=[('cb',model),('xgb',xgb_clf)],voting='soft')\n",
        "voting_clf.fit(x_train,y_train)\n",
        "y_pred = voting_clf.predict(x_test)\n",
        "mat = metrics.confusion_matrix(y_test,y_pred)\n",
        "print(mat)\n",
        "accuracy = (mat[0][0]+mat[1][1]) / (mat[0][0]+mat[0][1]+mat[1][0]+mat[1][1])\n",
        "print(accuracy*100)"
      ],
      "metadata": {
        "colab": {
          "base_uri": "https://localhost:8080/"
        },
        "id": "HWKGtlmX6Nsc",
        "outputId": "e164aba1-1600-4b70-a738-3d4834fa9dbb"
      },
      "id": "HWKGtlmX6Nsc",
      "execution_count": 71,
      "outputs": [
        {
          "output_type": "stream",
          "name": "stdout",
          "text": [
            "0:\tlearn: 0.6586980\ttotal: 74.6ms\tremaining: 37.2s\n",
            "1:\tlearn: 0.6280189\ttotal: 140ms\tremaining: 34.7s\n",
            "2:\tlearn: 0.5991632\ttotal: 203ms\tremaining: 33.7s\n",
            "3:\tlearn: 0.5793357\ttotal: 249ms\tremaining: 30.9s\n",
            "4:\tlearn: 0.5557043\ttotal: 322ms\tremaining: 31.8s\n",
            "5:\tlearn: 0.5323336\ttotal: 377ms\tremaining: 31.1s\n",
            "6:\tlearn: 0.5134152\ttotal: 444ms\tremaining: 31.2s\n",
            "7:\tlearn: 0.4948203\ttotal: 510ms\tremaining: 31.3s\n",
            "8:\tlearn: 0.4744553\ttotal: 563ms\tremaining: 30.7s\n",
            "9:\tlearn: 0.4576153\ttotal: 625ms\tremaining: 30.6s\n",
            "10:\tlearn: 0.4407438\ttotal: 692ms\tremaining: 30.7s\n",
            "11:\tlearn: 0.4269743\ttotal: 755ms\tremaining: 30.7s\n",
            "12:\tlearn: 0.4121006\ttotal: 820ms\tremaining: 30.7s\n",
            "13:\tlearn: 0.3983624\ttotal: 886ms\tremaining: 30.7s\n",
            "14:\tlearn: 0.3870240\ttotal: 925ms\tremaining: 29.9s\n",
            "15:\tlearn: 0.3760421\ttotal: 960ms\tremaining: 29s\n",
            "16:\tlearn: 0.3634643\ttotal: 987ms\tremaining: 28.1s\n",
            "17:\tlearn: 0.3534721\ttotal: 1.02s\tremaining: 27.2s\n",
            "18:\tlearn: 0.3433935\ttotal: 1.05s\tremaining: 26.7s\n",
            "19:\tlearn: 0.3344564\ttotal: 1.09s\tremaining: 26.2s\n",
            "20:\tlearn: 0.3252160\ttotal: 1.13s\tremaining: 25.8s\n",
            "21:\tlearn: 0.3169215\ttotal: 1.17s\tremaining: 25.4s\n",
            "22:\tlearn: 0.3086293\ttotal: 1.2s\tremaining: 24.9s\n",
            "23:\tlearn: 0.3017557\ttotal: 1.24s\tremaining: 24.6s\n",
            "24:\tlearn: 0.2953350\ttotal: 1.27s\tremaining: 24.2s\n",
            "25:\tlearn: 0.2874729\ttotal: 1.31s\tremaining: 23.9s\n",
            "26:\tlearn: 0.2809491\ttotal: 1.34s\tremaining: 23.5s\n",
            "27:\tlearn: 0.2741448\ttotal: 1.38s\tremaining: 23.3s\n",
            "28:\tlearn: 0.2691636\ttotal: 1.41s\tremaining: 22.8s\n",
            "29:\tlearn: 0.2637280\ttotal: 1.45s\tremaining: 22.7s\n",
            "30:\tlearn: 0.2584829\ttotal: 1.49s\tremaining: 22.6s\n",
            "31:\tlearn: 0.2537334\ttotal: 1.54s\tremaining: 22.5s\n",
            "32:\tlearn: 0.2483788\ttotal: 1.57s\tremaining: 22.2s\n",
            "33:\tlearn: 0.2434184\ttotal: 1.63s\tremaining: 22.3s\n",
            "34:\tlearn: 0.2390541\ttotal: 1.67s\tremaining: 22.2s\n",
            "35:\tlearn: 0.2338922\ttotal: 1.71s\tremaining: 22.1s\n",
            "36:\tlearn: 0.2296917\ttotal: 1.75s\tremaining: 21.9s\n",
            "37:\tlearn: 0.2260527\ttotal: 1.78s\tremaining: 21.7s\n",
            "38:\tlearn: 0.2224112\ttotal: 1.81s\tremaining: 21.5s\n",
            "39:\tlearn: 0.2183756\ttotal: 1.85s\tremaining: 21.3s\n",
            "40:\tlearn: 0.2145854\ttotal: 1.88s\tremaining: 21.1s\n",
            "41:\tlearn: 0.2108383\ttotal: 1.92s\tremaining: 20.9s\n",
            "42:\tlearn: 0.2075851\ttotal: 1.95s\tremaining: 20.7s\n",
            "43:\tlearn: 0.2037461\ttotal: 1.99s\tremaining: 20.6s\n",
            "44:\tlearn: 0.2001714\ttotal: 2.01s\tremaining: 20.3s\n",
            "45:\tlearn: 0.1972716\ttotal: 2.05s\tremaining: 20.2s\n",
            "46:\tlearn: 0.1941586\ttotal: 2.08s\tremaining: 20.1s\n",
            "47:\tlearn: 0.1908176\ttotal: 2.12s\tremaining: 20s\n",
            "48:\tlearn: 0.1879307\ttotal: 2.15s\tremaining: 19.8s\n",
            "49:\tlearn: 0.1848794\ttotal: 2.19s\tremaining: 19.7s\n",
            "50:\tlearn: 0.1825906\ttotal: 2.24s\tremaining: 19.7s\n",
            "51:\tlearn: 0.1805107\ttotal: 2.29s\tremaining: 19.8s\n",
            "52:\tlearn: 0.1774477\ttotal: 2.33s\tremaining: 19.7s\n",
            "53:\tlearn: 0.1750409\ttotal: 2.35s\tremaining: 19.4s\n",
            "54:\tlearn: 0.1723508\ttotal: 2.39s\tremaining: 19.3s\n",
            "55:\tlearn: 0.1702987\ttotal: 2.42s\tremaining: 19.2s\n",
            "56:\tlearn: 0.1677726\ttotal: 2.45s\tremaining: 19s\n",
            "57:\tlearn: 0.1655417\ttotal: 2.48s\tremaining: 18.9s\n",
            "58:\tlearn: 0.1636752\ttotal: 2.52s\tremaining: 18.8s\n",
            "59:\tlearn: 0.1611705\ttotal: 2.54s\tremaining: 18.6s\n",
            "60:\tlearn: 0.1594352\ttotal: 2.57s\tremaining: 18.5s\n",
            "61:\tlearn: 0.1578500\ttotal: 2.6s\tremaining: 18.4s\n",
            "62:\tlearn: 0.1563362\ttotal: 2.63s\tremaining: 18.3s\n",
            "63:\tlearn: 0.1545704\ttotal: 2.66s\tremaining: 18.1s\n",
            "64:\tlearn: 0.1524926\ttotal: 2.69s\tremaining: 18s\n",
            "65:\tlearn: 0.1505690\ttotal: 2.72s\tremaining: 17.9s\n",
            "66:\tlearn: 0.1491444\ttotal: 2.74s\tremaining: 17.7s\n",
            "67:\tlearn: 0.1469270\ttotal: 2.78s\tremaining: 17.6s\n",
            "68:\tlearn: 0.1453543\ttotal: 2.81s\tremaining: 17.5s\n",
            "69:\tlearn: 0.1439125\ttotal: 2.85s\tremaining: 17.5s\n",
            "70:\tlearn: 0.1422028\ttotal: 2.88s\tremaining: 17.4s\n",
            "71:\tlearn: 0.1406635\ttotal: 2.91s\tremaining: 17.3s\n",
            "72:\tlearn: 0.1389882\ttotal: 2.96s\tremaining: 17.3s\n",
            "73:\tlearn: 0.1376128\ttotal: 2.99s\tremaining: 17.2s\n",
            "74:\tlearn: 0.1366152\ttotal: 3.02s\tremaining: 17.1s\n",
            "75:\tlearn: 0.1348923\ttotal: 3.06s\tremaining: 17.1s\n",
            "76:\tlearn: 0.1336593\ttotal: 3.1s\tremaining: 17s\n",
            "77:\tlearn: 0.1319745\ttotal: 3.13s\tremaining: 16.9s\n",
            "78:\tlearn: 0.1304667\ttotal: 3.19s\tremaining: 17s\n",
            "79:\tlearn: 0.1292606\ttotal: 3.23s\tremaining: 16.9s\n",
            "80:\tlearn: 0.1282980\ttotal: 3.26s\tremaining: 16.9s\n",
            "81:\tlearn: 0.1269457\ttotal: 3.3s\tremaining: 16.8s\n",
            "82:\tlearn: 0.1260961\ttotal: 3.33s\tremaining: 16.7s\n",
            "83:\tlearn: 0.1248393\ttotal: 3.35s\tremaining: 16.6s\n",
            "84:\tlearn: 0.1238045\ttotal: 3.38s\tremaining: 16.5s\n",
            "85:\tlearn: 0.1229078\ttotal: 3.42s\tremaining: 16.5s\n",
            "86:\tlearn: 0.1215066\ttotal: 3.46s\tremaining: 16.4s\n",
            "87:\tlearn: 0.1202730\ttotal: 3.5s\tremaining: 16.4s\n",
            "88:\tlearn: 0.1190566\ttotal: 3.54s\tremaining: 16.3s\n",
            "89:\tlearn: 0.1178778\ttotal: 3.58s\tremaining: 16.3s\n",
            "90:\tlearn: 0.1169037\ttotal: 3.63s\tremaining: 16.3s\n",
            "91:\tlearn: 0.1154863\ttotal: 3.65s\tremaining: 16.2s\n",
            "92:\tlearn: 0.1143345\ttotal: 3.68s\tremaining: 16.1s\n",
            "93:\tlearn: 0.1131128\ttotal: 3.71s\tremaining: 16s\n",
            "94:\tlearn: 0.1118028\ttotal: 3.75s\tremaining: 16s\n",
            "95:\tlearn: 0.1108598\ttotal: 3.79s\tremaining: 15.9s\n",
            "96:\tlearn: 0.1095398\ttotal: 3.82s\tremaining: 15.9s\n",
            "97:\tlearn: 0.1084687\ttotal: 3.86s\tremaining: 15.8s\n",
            "98:\tlearn: 0.1076293\ttotal: 3.89s\tremaining: 15.8s\n",
            "99:\tlearn: 0.1067791\ttotal: 3.92s\tremaining: 15.7s\n",
            "100:\tlearn: 0.1058144\ttotal: 3.96s\tremaining: 15.6s\n",
            "101:\tlearn: 0.1051450\ttotal: 3.99s\tremaining: 15.6s\n",
            "102:\tlearn: 0.1040070\ttotal: 4.03s\tremaining: 15.5s\n",
            "103:\tlearn: 0.1030508\ttotal: 4.06s\tremaining: 15.5s\n",
            "104:\tlearn: 0.1019531\ttotal: 4.09s\tremaining: 15.4s\n",
            "105:\tlearn: 0.1012493\ttotal: 4.13s\tremaining: 15.3s\n",
            "106:\tlearn: 0.1004132\ttotal: 4.16s\tremaining: 15.3s\n",
            "107:\tlearn: 0.0997262\ttotal: 4.19s\tremaining: 15.2s\n",
            "108:\tlearn: 0.0988248\ttotal: 4.21s\tremaining: 15.1s\n",
            "109:\tlearn: 0.0980664\ttotal: 4.24s\tremaining: 15s\n",
            "110:\tlearn: 0.0972263\ttotal: 4.28s\tremaining: 15s\n",
            "111:\tlearn: 0.0964464\ttotal: 4.31s\tremaining: 14.9s\n",
            "112:\tlearn: 0.0958277\ttotal: 4.35s\tremaining: 14.9s\n",
            "113:\tlearn: 0.0951200\ttotal: 4.38s\tremaining: 14.8s\n",
            "114:\tlearn: 0.0945378\ttotal: 4.41s\tremaining: 14.8s\n",
            "115:\tlearn: 0.0938659\ttotal: 4.46s\tremaining: 14.8s\n",
            "116:\tlearn: 0.0932590\ttotal: 4.5s\tremaining: 14.7s\n",
            "117:\tlearn: 0.0925615\ttotal: 4.53s\tremaining: 14.7s\n",
            "118:\tlearn: 0.0918169\ttotal: 4.56s\tremaining: 14.6s\n",
            "119:\tlearn: 0.0910884\ttotal: 4.59s\tremaining: 14.6s\n",
            "120:\tlearn: 0.0904787\ttotal: 4.63s\tremaining: 14.5s\n",
            "121:\tlearn: 0.0899492\ttotal: 4.65s\tremaining: 14.4s\n",
            "122:\tlearn: 0.0890017\ttotal: 4.69s\tremaining: 14.4s\n",
            "123:\tlearn: 0.0881121\ttotal: 4.72s\tremaining: 14.3s\n",
            "124:\tlearn: 0.0876010\ttotal: 4.75s\tremaining: 14.3s\n",
            "125:\tlearn: 0.0867375\ttotal: 4.78s\tremaining: 14.2s\n",
            "126:\tlearn: 0.0862129\ttotal: 4.81s\tremaining: 14.1s\n",
            "127:\tlearn: 0.0857848\ttotal: 4.85s\tremaining: 14.1s\n",
            "128:\tlearn: 0.0851731\ttotal: 4.88s\tremaining: 14s\n",
            "129:\tlearn: 0.0846045\ttotal: 4.93s\tremaining: 14s\n",
            "130:\tlearn: 0.0838710\ttotal: 4.96s\tremaining: 14s\n",
            "131:\tlearn: 0.0831408\ttotal: 4.99s\tremaining: 13.9s\n",
            "132:\tlearn: 0.0827475\ttotal: 5.03s\tremaining: 13.9s\n",
            "133:\tlearn: 0.0820053\ttotal: 5.07s\tremaining: 13.8s\n",
            "134:\tlearn: 0.0814151\ttotal: 5.1s\tremaining: 13.8s\n",
            "135:\tlearn: 0.0808463\ttotal: 5.12s\tremaining: 13.7s\n",
            "136:\tlearn: 0.0802690\ttotal: 5.16s\tremaining: 13.7s\n",
            "137:\tlearn: 0.0798754\ttotal: 5.18s\tremaining: 13.6s\n",
            "138:\tlearn: 0.0790630\ttotal: 5.22s\tremaining: 13.6s\n",
            "139:\tlearn: 0.0785955\ttotal: 5.25s\tremaining: 13.5s\n",
            "140:\tlearn: 0.0778289\ttotal: 5.28s\tremaining: 13.5s\n",
            "141:\tlearn: 0.0770750\ttotal: 5.31s\tremaining: 13.4s\n",
            "142:\tlearn: 0.0761983\ttotal: 5.34s\tremaining: 13.3s\n",
            "143:\tlearn: 0.0755702\ttotal: 5.37s\tremaining: 13.3s\n",
            "144:\tlearn: 0.0752066\ttotal: 5.4s\tremaining: 13.2s\n",
            "145:\tlearn: 0.0747223\ttotal: 5.43s\tremaining: 13.2s\n",
            "146:\tlearn: 0.0741965\ttotal: 5.46s\tremaining: 13.1s\n",
            "147:\tlearn: 0.0735161\ttotal: 5.48s\tremaining: 13s\n",
            "148:\tlearn: 0.0730088\ttotal: 5.52s\tremaining: 13s\n",
            "149:\tlearn: 0.0724391\ttotal: 5.55s\tremaining: 12.9s\n",
            "150:\tlearn: 0.0717892\ttotal: 5.59s\tremaining: 12.9s\n",
            "151:\tlearn: 0.0712407\ttotal: 5.62s\tremaining: 12.9s\n",
            "152:\tlearn: 0.0708357\ttotal: 5.65s\tremaining: 12.8s\n",
            "153:\tlearn: 0.0704214\ttotal: 5.68s\tremaining: 12.8s\n",
            "154:\tlearn: 0.0699045\ttotal: 5.72s\tremaining: 12.7s\n",
            "155:\tlearn: 0.0693738\ttotal: 5.74s\tremaining: 12.7s\n",
            "156:\tlearn: 0.0686950\ttotal: 5.76s\tremaining: 12.6s\n",
            "157:\tlearn: 0.0681774\ttotal: 5.81s\tremaining: 12.6s\n",
            "158:\tlearn: 0.0677631\ttotal: 5.84s\tremaining: 12.5s\n",
            "159:\tlearn: 0.0673328\ttotal: 5.87s\tremaining: 12.5s\n",
            "160:\tlearn: 0.0667928\ttotal: 5.92s\tremaining: 12.5s\n",
            "161:\tlearn: 0.0664614\ttotal: 5.94s\tremaining: 12.4s\n",
            "162:\tlearn: 0.0660647\ttotal: 5.96s\tremaining: 12.3s\n",
            "163:\tlearn: 0.0654427\ttotal: 5.99s\tremaining: 12.3s\n",
            "164:\tlearn: 0.0649532\ttotal: 6.03s\tremaining: 12.2s\n",
            "165:\tlearn: 0.0644108\ttotal: 6.06s\tremaining: 12.2s\n",
            "166:\tlearn: 0.0639077\ttotal: 6.1s\tremaining: 12.2s\n",
            "167:\tlearn: 0.0633344\ttotal: 6.13s\tremaining: 12.1s\n",
            "168:\tlearn: 0.0629893\ttotal: 6.16s\tremaining: 12.1s\n",
            "169:\tlearn: 0.0623669\ttotal: 6.19s\tremaining: 12s\n",
            "170:\tlearn: 0.0618913\ttotal: 6.22s\tremaining: 12s\n",
            "171:\tlearn: 0.0617011\ttotal: 6.26s\tremaining: 11.9s\n",
            "172:\tlearn: 0.0611711\ttotal: 6.28s\tremaining: 11.9s\n",
            "173:\tlearn: 0.0606403\ttotal: 6.31s\tremaining: 11.8s\n",
            "174:\tlearn: 0.0602858\ttotal: 6.35s\tremaining: 11.8s\n",
            "175:\tlearn: 0.0599150\ttotal: 6.38s\tremaining: 11.7s\n",
            "176:\tlearn: 0.0594489\ttotal: 6.42s\tremaining: 11.7s\n",
            "177:\tlearn: 0.0590014\ttotal: 6.45s\tremaining: 11.7s\n",
            "178:\tlearn: 0.0586274\ttotal: 6.48s\tremaining: 11.6s\n",
            "179:\tlearn: 0.0582287\ttotal: 6.51s\tremaining: 11.6s\n",
            "180:\tlearn: 0.0578023\ttotal: 6.55s\tremaining: 11.5s\n",
            "181:\tlearn: 0.0575427\ttotal: 6.58s\tremaining: 11.5s\n",
            "182:\tlearn: 0.0572001\ttotal: 6.62s\tremaining: 11.5s\n",
            "183:\tlearn: 0.0570099\ttotal: 6.65s\tremaining: 11.4s\n",
            "184:\tlearn: 0.0565378\ttotal: 6.68s\tremaining: 11.4s\n",
            "185:\tlearn: 0.0561669\ttotal: 6.72s\tremaining: 11.3s\n",
            "186:\tlearn: 0.0557126\ttotal: 6.76s\tremaining: 11.3s\n",
            "187:\tlearn: 0.0553568\ttotal: 6.8s\tremaining: 11.3s\n",
            "188:\tlearn: 0.0550700\ttotal: 6.83s\tremaining: 11.2s\n",
            "189:\tlearn: 0.0548202\ttotal: 6.87s\tremaining: 11.2s\n",
            "190:\tlearn: 0.0544474\ttotal: 6.91s\tremaining: 11.2s\n",
            "191:\tlearn: 0.0541334\ttotal: 6.94s\tremaining: 11.1s\n",
            "192:\tlearn: 0.0536020\ttotal: 6.96s\tremaining: 11.1s\n",
            "193:\tlearn: 0.0533217\ttotal: 7s\tremaining: 11.1s\n",
            "194:\tlearn: 0.0529321\ttotal: 7.03s\tremaining: 11s\n",
            "195:\tlearn: 0.0527662\ttotal: 7.04s\tremaining: 10.9s\n",
            "196:\tlearn: 0.0524733\ttotal: 7.08s\tremaining: 10.9s\n",
            "197:\tlearn: 0.0520898\ttotal: 7.11s\tremaining: 10.9s\n",
            "198:\tlearn: 0.0518260\ttotal: 7.14s\tremaining: 10.8s\n",
            "199:\tlearn: 0.0514783\ttotal: 7.18s\tremaining: 10.8s\n",
            "200:\tlearn: 0.0510739\ttotal: 7.2s\tremaining: 10.7s\n",
            "201:\tlearn: 0.0507166\ttotal: 7.23s\tremaining: 10.7s\n",
            "202:\tlearn: 0.0504138\ttotal: 7.25s\tremaining: 10.6s\n",
            "203:\tlearn: 0.0501007\ttotal: 7.29s\tremaining: 10.6s\n",
            "204:\tlearn: 0.0496904\ttotal: 7.32s\tremaining: 10.5s\n",
            "205:\tlearn: 0.0493732\ttotal: 7.35s\tremaining: 10.5s\n",
            "206:\tlearn: 0.0490776\ttotal: 7.36s\tremaining: 10.4s\n",
            "207:\tlearn: 0.0488950\ttotal: 7.38s\tremaining: 10.4s\n",
            "208:\tlearn: 0.0486044\ttotal: 7.4s\tremaining: 10.3s\n",
            "209:\tlearn: 0.0482840\ttotal: 7.42s\tremaining: 10.2s\n",
            "210:\tlearn: 0.0480686\ttotal: 7.43s\tremaining: 10.2s\n",
            "211:\tlearn: 0.0477043\ttotal: 7.45s\tremaining: 10.1s\n",
            "212:\tlearn: 0.0473789\ttotal: 7.47s\tremaining: 10.1s\n",
            "213:\tlearn: 0.0470419\ttotal: 7.49s\tremaining: 10s\n",
            "214:\tlearn: 0.0467718\ttotal: 7.51s\tremaining: 9.95s\n",
            "215:\tlearn: 0.0465380\ttotal: 7.53s\tremaining: 9.9s\n",
            "216:\tlearn: 0.0463206\ttotal: 7.55s\tremaining: 9.84s\n",
            "217:\tlearn: 0.0460496\ttotal: 7.56s\tremaining: 9.78s\n",
            "218:\tlearn: 0.0457585\ttotal: 7.58s\tremaining: 9.73s\n",
            "219:\tlearn: 0.0455720\ttotal: 7.6s\tremaining: 9.67s\n",
            "220:\tlearn: 0.0453038\ttotal: 7.62s\tremaining: 9.62s\n",
            "221:\tlearn: 0.0450864\ttotal: 7.63s\tremaining: 9.56s\n",
            "222:\tlearn: 0.0449046\ttotal: 7.65s\tremaining: 9.5s\n",
            "223:\tlearn: 0.0447141\ttotal: 7.67s\tremaining: 9.45s\n",
            "224:\tlearn: 0.0444694\ttotal: 7.69s\tremaining: 9.4s\n",
            "225:\tlearn: 0.0442042\ttotal: 7.71s\tremaining: 9.35s\n",
            "226:\tlearn: 0.0438893\ttotal: 7.74s\tremaining: 9.3s\n",
            "227:\tlearn: 0.0437392\ttotal: 7.76s\tremaining: 9.26s\n",
            "228:\tlearn: 0.0434313\ttotal: 7.78s\tremaining: 9.21s\n",
            "229:\tlearn: 0.0431859\ttotal: 7.81s\tremaining: 9.17s\n",
            "230:\tlearn: 0.0430436\ttotal: 7.83s\tremaining: 9.12s\n",
            "231:\tlearn: 0.0427797\ttotal: 7.85s\tremaining: 9.07s\n",
            "232:\tlearn: 0.0425857\ttotal: 7.87s\tremaining: 9.01s\n",
            "233:\tlearn: 0.0423028\ttotal: 7.89s\tremaining: 8.96s\n",
            "234:\tlearn: 0.0420276\ttotal: 7.9s\tremaining: 8.91s\n",
            "235:\tlearn: 0.0416993\ttotal: 7.92s\tremaining: 8.86s\n",
            "236:\tlearn: 0.0414870\ttotal: 7.94s\tremaining: 8.82s\n",
            "237:\tlearn: 0.0412836\ttotal: 7.96s\tremaining: 8.77s\n",
            "238:\tlearn: 0.0410971\ttotal: 7.98s\tremaining: 8.71s\n",
            "239:\tlearn: 0.0408696\ttotal: 8s\tremaining: 8.66s\n",
            "240:\tlearn: 0.0405821\ttotal: 8.02s\tremaining: 8.61s\n",
            "241:\tlearn: 0.0403441\ttotal: 8.03s\tremaining: 8.56s\n",
            "242:\tlearn: 0.0400889\ttotal: 8.05s\tremaining: 8.51s\n",
            "243:\tlearn: 0.0397991\ttotal: 8.07s\tremaining: 8.46s\n",
            "244:\tlearn: 0.0395618\ttotal: 8.09s\tremaining: 8.42s\n",
            "245:\tlearn: 0.0392659\ttotal: 8.11s\tremaining: 8.37s\n",
            "246:\tlearn: 0.0391361\ttotal: 8.12s\tremaining: 8.32s\n",
            "247:\tlearn: 0.0388564\ttotal: 8.14s\tremaining: 8.27s\n",
            "248:\tlearn: 0.0385728\ttotal: 8.16s\tremaining: 8.23s\n",
            "249:\tlearn: 0.0382975\ttotal: 8.18s\tremaining: 8.18s\n",
            "250:\tlearn: 0.0380387\ttotal: 8.2s\tremaining: 8.14s\n",
            "251:\tlearn: 0.0378215\ttotal: 8.22s\tremaining: 8.09s\n",
            "252:\tlearn: 0.0375773\ttotal: 8.24s\tremaining: 8.04s\n",
            "253:\tlearn: 0.0373675\ttotal: 8.26s\tremaining: 8s\n",
            "254:\tlearn: 0.0371257\ttotal: 8.27s\tremaining: 7.95s\n",
            "255:\tlearn: 0.0368836\ttotal: 8.29s\tremaining: 7.9s\n",
            "256:\tlearn: 0.0366913\ttotal: 8.31s\tremaining: 7.86s\n",
            "257:\tlearn: 0.0364510\ttotal: 8.32s\tremaining: 7.81s\n",
            "258:\tlearn: 0.0362630\ttotal: 8.34s\tremaining: 7.76s\n",
            "259:\tlearn: 0.0359729\ttotal: 8.36s\tremaining: 7.72s\n",
            "260:\tlearn: 0.0356983\ttotal: 8.38s\tremaining: 7.67s\n",
            "261:\tlearn: 0.0355372\ttotal: 8.4s\tremaining: 7.63s\n",
            "262:\tlearn: 0.0353535\ttotal: 8.41s\tremaining: 7.58s\n",
            "263:\tlearn: 0.0351897\ttotal: 8.43s\tremaining: 7.54s\n",
            "264:\tlearn: 0.0349903\ttotal: 8.45s\tremaining: 7.49s\n",
            "265:\tlearn: 0.0348380\ttotal: 8.47s\tremaining: 7.45s\n",
            "266:\tlearn: 0.0346526\ttotal: 8.48s\tremaining: 7.4s\n",
            "267:\tlearn: 0.0344174\ttotal: 8.5s\tremaining: 7.36s\n",
            "268:\tlearn: 0.0342755\ttotal: 8.52s\tremaining: 7.31s\n",
            "269:\tlearn: 0.0339754\ttotal: 8.53s\tremaining: 7.27s\n",
            "270:\tlearn: 0.0337846\ttotal: 8.55s\tremaining: 7.22s\n",
            "271:\tlearn: 0.0335770\ttotal: 8.57s\tremaining: 7.18s\n",
            "272:\tlearn: 0.0334159\ttotal: 8.59s\tremaining: 7.14s\n",
            "273:\tlearn: 0.0332639\ttotal: 8.6s\tremaining: 7.1s\n",
            "274:\tlearn: 0.0330347\ttotal: 8.62s\tremaining: 7.05s\n",
            "275:\tlearn: 0.0328111\ttotal: 8.64s\tremaining: 7.01s\n",
            "276:\tlearn: 0.0326595\ttotal: 8.65s\tremaining: 6.97s\n",
            "277:\tlearn: 0.0325239\ttotal: 8.67s\tremaining: 6.92s\n",
            "278:\tlearn: 0.0323975\ttotal: 8.68s\tremaining: 6.87s\n",
            "279:\tlearn: 0.0322505\ttotal: 8.69s\tremaining: 6.83s\n",
            "280:\tlearn: 0.0321221\ttotal: 8.71s\tremaining: 6.79s\n",
            "281:\tlearn: 0.0320524\ttotal: 8.73s\tremaining: 6.75s\n",
            "282:\tlearn: 0.0319104\ttotal: 8.74s\tremaining: 6.7s\n",
            "283:\tlearn: 0.0317157\ttotal: 8.76s\tremaining: 6.66s\n",
            "284:\tlearn: 0.0315722\ttotal: 8.8s\tremaining: 6.64s\n",
            "285:\tlearn: 0.0314690\ttotal: 8.82s\tremaining: 6.6s\n",
            "286:\tlearn: 0.0312707\ttotal: 8.84s\tremaining: 6.56s\n",
            "287:\tlearn: 0.0310556\ttotal: 8.85s\tremaining: 6.52s\n",
            "288:\tlearn: 0.0308802\ttotal: 8.87s\tremaining: 6.47s\n",
            "289:\tlearn: 0.0306966\ttotal: 8.89s\tremaining: 6.43s\n",
            "290:\tlearn: 0.0305406\ttotal: 8.9s\tremaining: 6.39s\n",
            "291:\tlearn: 0.0303842\ttotal: 8.92s\tremaining: 6.35s\n",
            "292:\tlearn: 0.0302223\ttotal: 8.94s\tremaining: 6.31s\n",
            "293:\tlearn: 0.0300453\ttotal: 8.95s\tremaining: 6.27s\n",
            "294:\tlearn: 0.0298360\ttotal: 8.97s\tremaining: 6.23s\n",
            "295:\tlearn: 0.0296764\ttotal: 8.99s\tremaining: 6.19s\n",
            "296:\tlearn: 0.0295148\ttotal: 9.01s\tremaining: 6.16s\n",
            "297:\tlearn: 0.0294728\ttotal: 9.01s\tremaining: 6.11s\n",
            "298:\tlearn: 0.0293569\ttotal: 9.03s\tremaining: 6.07s\n",
            "299:\tlearn: 0.0292123\ttotal: 9.05s\tremaining: 6.03s\n",
            "300:\tlearn: 0.0290744\ttotal: 9.07s\tremaining: 5.99s\n",
            "301:\tlearn: 0.0288986\ttotal: 9.08s\tremaining: 5.96s\n",
            "302:\tlearn: 0.0287148\ttotal: 9.1s\tremaining: 5.92s\n",
            "303:\tlearn: 0.0285426\ttotal: 9.12s\tremaining: 5.88s\n",
            "304:\tlearn: 0.0283681\ttotal: 9.14s\tremaining: 5.84s\n",
            "305:\tlearn: 0.0282060\ttotal: 9.16s\tremaining: 5.8s\n",
            "306:\tlearn: 0.0280207\ttotal: 9.17s\tremaining: 5.77s\n",
            "307:\tlearn: 0.0278348\ttotal: 9.19s\tremaining: 5.73s\n",
            "308:\tlearn: 0.0276521\ttotal: 9.21s\tremaining: 5.7s\n",
            "309:\tlearn: 0.0274910\ttotal: 9.23s\tremaining: 5.66s\n",
            "310:\tlearn: 0.0273361\ttotal: 9.25s\tremaining: 5.62s\n",
            "311:\tlearn: 0.0271819\ttotal: 9.27s\tremaining: 5.58s\n",
            "312:\tlearn: 0.0270122\ttotal: 9.28s\tremaining: 5.55s\n",
            "313:\tlearn: 0.0268594\ttotal: 9.3s\tremaining: 5.51s\n",
            "314:\tlearn: 0.0267440\ttotal: 9.32s\tremaining: 5.47s\n",
            "315:\tlearn: 0.0265961\ttotal: 9.34s\tremaining: 5.44s\n",
            "316:\tlearn: 0.0264734\ttotal: 9.36s\tremaining: 5.4s\n",
            "317:\tlearn: 0.0264409\ttotal: 9.36s\tremaining: 5.36s\n",
            "318:\tlearn: 0.0262752\ttotal: 9.38s\tremaining: 5.32s\n",
            "319:\tlearn: 0.0261701\ttotal: 9.4s\tremaining: 5.29s\n",
            "320:\tlearn: 0.0260388\ttotal: 9.42s\tremaining: 5.25s\n",
            "321:\tlearn: 0.0258593\ttotal: 9.44s\tremaining: 5.22s\n",
            "322:\tlearn: 0.0258014\ttotal: 9.46s\tremaining: 5.18s\n",
            "323:\tlearn: 0.0257066\ttotal: 9.47s\tremaining: 5.15s\n",
            "324:\tlearn: 0.0255678\ttotal: 9.49s\tremaining: 5.11s\n",
            "325:\tlearn: 0.0254269\ttotal: 9.51s\tremaining: 5.07s\n",
            "326:\tlearn: 0.0252968\ttotal: 9.53s\tremaining: 5.04s\n",
            "327:\tlearn: 0.0251915\ttotal: 9.54s\tremaining: 5s\n",
            "328:\tlearn: 0.0250543\ttotal: 9.56s\tremaining: 4.97s\n",
            "329:\tlearn: 0.0249171\ttotal: 9.58s\tremaining: 4.93s\n",
            "330:\tlearn: 0.0248279\ttotal: 9.6s\tremaining: 4.9s\n",
            "331:\tlearn: 0.0247316\ttotal: 9.61s\tremaining: 4.86s\n",
            "332:\tlearn: 0.0246146\ttotal: 9.64s\tremaining: 4.83s\n",
            "333:\tlearn: 0.0244906\ttotal: 9.66s\tremaining: 4.8s\n",
            "334:\tlearn: 0.0243583\ttotal: 9.67s\tremaining: 4.76s\n",
            "335:\tlearn: 0.0242275\ttotal: 9.69s\tremaining: 4.73s\n",
            "336:\tlearn: 0.0240990\ttotal: 9.71s\tremaining: 4.7s\n",
            "337:\tlearn: 0.0239715\ttotal: 9.73s\tremaining: 4.66s\n",
            "338:\tlearn: 0.0238444\ttotal: 9.74s\tremaining: 4.63s\n",
            "339:\tlearn: 0.0237728\ttotal: 9.77s\tremaining: 4.6s\n",
            "340:\tlearn: 0.0236559\ttotal: 9.78s\tremaining: 4.56s\n",
            "341:\tlearn: 0.0235752\ttotal: 9.81s\tremaining: 4.53s\n",
            "342:\tlearn: 0.0234105\ttotal: 9.83s\tremaining: 4.5s\n",
            "343:\tlearn: 0.0233291\ttotal: 9.86s\tremaining: 4.47s\n",
            "344:\tlearn: 0.0232356\ttotal: 9.87s\tremaining: 4.43s\n",
            "345:\tlearn: 0.0231398\ttotal: 9.89s\tremaining: 4.4s\n",
            "346:\tlearn: 0.0230211\ttotal: 9.91s\tremaining: 4.37s\n",
            "347:\tlearn: 0.0228974\ttotal: 9.92s\tremaining: 4.33s\n",
            "348:\tlearn: 0.0227827\ttotal: 9.94s\tremaining: 4.3s\n",
            "349:\tlearn: 0.0226731\ttotal: 9.96s\tremaining: 4.27s\n",
            "350:\tlearn: 0.0225945\ttotal: 9.98s\tremaining: 4.23s\n",
            "351:\tlearn: 0.0224857\ttotal: 9.99s\tremaining: 4.2s\n",
            "352:\tlearn: 0.0223784\ttotal: 10s\tremaining: 4.17s\n",
            "353:\tlearn: 0.0222844\ttotal: 10s\tremaining: 4.14s\n",
            "354:\tlearn: 0.0221867\ttotal: 10s\tremaining: 4.1s\n",
            "355:\tlearn: 0.0220826\ttotal: 10.1s\tremaining: 4.07s\n",
            "356:\tlearn: 0.0219725\ttotal: 10.1s\tremaining: 4.04s\n",
            "357:\tlearn: 0.0218704\ttotal: 10.1s\tremaining: 4.01s\n",
            "358:\tlearn: 0.0217644\ttotal: 10.1s\tremaining: 3.98s\n",
            "359:\tlearn: 0.0216876\ttotal: 10.1s\tremaining: 3.94s\n",
            "360:\tlearn: 0.0215933\ttotal: 10.2s\tremaining: 3.91s\n",
            "361:\tlearn: 0.0214950\ttotal: 10.2s\tremaining: 3.88s\n",
            "362:\tlearn: 0.0213703\ttotal: 10.2s\tremaining: 3.85s\n",
            "363:\tlearn: 0.0212598\ttotal: 10.2s\tremaining: 3.82s\n",
            "364:\tlearn: 0.0211956\ttotal: 10.2s\tremaining: 3.78s\n",
            "365:\tlearn: 0.0210960\ttotal: 10.2s\tremaining: 3.75s\n",
            "366:\tlearn: 0.0210091\ttotal: 10.3s\tremaining: 3.72s\n",
            "367:\tlearn: 0.0209145\ttotal: 10.3s\tremaining: 3.69s\n",
            "368:\tlearn: 0.0208148\ttotal: 10.3s\tremaining: 3.66s\n",
            "369:\tlearn: 0.0207045\ttotal: 10.3s\tremaining: 3.63s\n",
            "370:\tlearn: 0.0206073\ttotal: 10.3s\tremaining: 3.6s\n",
            "371:\tlearn: 0.0205114\ttotal: 10.4s\tremaining: 3.56s\n",
            "372:\tlearn: 0.0204504\ttotal: 10.4s\tremaining: 3.53s\n",
            "373:\tlearn: 0.0203695\ttotal: 10.4s\tremaining: 3.5s\n",
            "374:\tlearn: 0.0202545\ttotal: 10.4s\tremaining: 3.47s\n",
            "375:\tlearn: 0.0201683\ttotal: 10.4s\tremaining: 3.44s\n",
            "376:\tlearn: 0.0201152\ttotal: 10.4s\tremaining: 3.41s\n",
            "377:\tlearn: 0.0200056\ttotal: 10.5s\tremaining: 3.38s\n",
            "378:\tlearn: 0.0199199\ttotal: 10.5s\tremaining: 3.35s\n",
            "379:\tlearn: 0.0198247\ttotal: 10.5s\tremaining: 3.32s\n",
            "380:\tlearn: 0.0197392\ttotal: 10.5s\tremaining: 3.29s\n",
            "381:\tlearn: 0.0196485\ttotal: 10.5s\tremaining: 3.25s\n",
            "382:\tlearn: 0.0195765\ttotal: 10.6s\tremaining: 3.23s\n",
            "383:\tlearn: 0.0195113\ttotal: 10.6s\tremaining: 3.19s\n",
            "384:\tlearn: 0.0194211\ttotal: 10.6s\tremaining: 3.17s\n",
            "385:\tlearn: 0.0193365\ttotal: 10.6s\tremaining: 3.13s\n",
            "386:\tlearn: 0.0192500\ttotal: 10.6s\tremaining: 3.1s\n",
            "387:\tlearn: 0.0191668\ttotal: 10.7s\tremaining: 3.07s\n",
            "388:\tlearn: 0.0190838\ttotal: 10.7s\tremaining: 3.04s\n",
            "389:\tlearn: 0.0190041\ttotal: 10.7s\tremaining: 3.02s\n",
            "390:\tlearn: 0.0189341\ttotal: 10.7s\tremaining: 2.98s\n",
            "391:\tlearn: 0.0188838\ttotal: 10.7s\tremaining: 2.96s\n",
            "392:\tlearn: 0.0188050\ttotal: 10.7s\tremaining: 2.92s\n",
            "393:\tlearn: 0.0187279\ttotal: 10.8s\tremaining: 2.9s\n",
            "394:\tlearn: 0.0186475\ttotal: 10.8s\tremaining: 2.87s\n",
            "395:\tlearn: 0.0186066\ttotal: 10.8s\tremaining: 2.84s\n",
            "396:\tlearn: 0.0185265\ttotal: 10.8s\tremaining: 2.81s\n",
            "397:\tlearn: 0.0184586\ttotal: 10.8s\tremaining: 2.78s\n",
            "398:\tlearn: 0.0183809\ttotal: 10.9s\tremaining: 2.75s\n",
            "399:\tlearn: 0.0182977\ttotal: 10.9s\tremaining: 2.72s\n",
            "400:\tlearn: 0.0182229\ttotal: 10.9s\tremaining: 2.69s\n",
            "401:\tlearn: 0.0181460\ttotal: 10.9s\tremaining: 2.66s\n",
            "402:\tlearn: 0.0180912\ttotal: 10.9s\tremaining: 2.63s\n",
            "403:\tlearn: 0.0180206\ttotal: 11s\tremaining: 2.6s\n",
            "404:\tlearn: 0.0179939\ttotal: 11s\tremaining: 2.57s\n",
            "405:\tlearn: 0.0179156\ttotal: 11s\tremaining: 2.54s\n",
            "406:\tlearn: 0.0178503\ttotal: 11s\tremaining: 2.52s\n",
            "407:\tlearn: 0.0178010\ttotal: 11s\tremaining: 2.49s\n",
            "408:\tlearn: 0.0177247\ttotal: 11s\tremaining: 2.46s\n",
            "409:\tlearn: 0.0176514\ttotal: 11.1s\tremaining: 2.43s\n",
            "410:\tlearn: 0.0175684\ttotal: 11.1s\tremaining: 2.4s\n",
            "411:\tlearn: 0.0175448\ttotal: 11.1s\tremaining: 2.37s\n",
            "412:\tlearn: 0.0175202\ttotal: 11.1s\tremaining: 2.34s\n",
            "413:\tlearn: 0.0174482\ttotal: 11.1s\tremaining: 2.31s\n",
            "414:\tlearn: 0.0173986\ttotal: 11.2s\tremaining: 2.29s\n",
            "415:\tlearn: 0.0173277\ttotal: 11.2s\tremaining: 2.26s\n",
            "416:\tlearn: 0.0173059\ttotal: 11.2s\tremaining: 2.23s\n",
            "417:\tlearn: 0.0172282\ttotal: 11.2s\tremaining: 2.2s\n",
            "418:\tlearn: 0.0171600\ttotal: 11.2s\tremaining: 2.17s\n",
            "419:\tlearn: 0.0170717\ttotal: 11.2s\tremaining: 2.14s\n",
            "420:\tlearn: 0.0170034\ttotal: 11.3s\tremaining: 2.11s\n",
            "421:\tlearn: 0.0169806\ttotal: 11.3s\tremaining: 2.08s\n",
            "422:\tlearn: 0.0169600\ttotal: 11.3s\tremaining: 2.06s\n",
            "423:\tlearn: 0.0168805\ttotal: 11.3s\tremaining: 2.03s\n",
            "424:\tlearn: 0.0168119\ttotal: 11.3s\tremaining: 2s\n",
            "425:\tlearn: 0.0167658\ttotal: 11.4s\tremaining: 1.97s\n",
            "426:\tlearn: 0.0167011\ttotal: 11.4s\tremaining: 1.94s\n",
            "427:\tlearn: 0.0166378\ttotal: 11.4s\tremaining: 1.92s\n",
            "428:\tlearn: 0.0165612\ttotal: 11.4s\tremaining: 1.89s\n",
            "429:\tlearn: 0.0164982\ttotal: 11.4s\tremaining: 1.86s\n",
            "430:\tlearn: 0.0164315\ttotal: 11.4s\tremaining: 1.83s\n",
            "431:\tlearn: 0.0163671\ttotal: 11.5s\tremaining: 1.8s\n",
            "432:\tlearn: 0.0163054\ttotal: 11.5s\tremaining: 1.78s\n",
            "433:\tlearn: 0.0162494\ttotal: 11.5s\tremaining: 1.75s\n",
            "434:\tlearn: 0.0161943\ttotal: 11.5s\tremaining: 1.72s\n",
            "435:\tlearn: 0.0161323\ttotal: 11.5s\tremaining: 1.69s\n",
            "436:\tlearn: 0.0160563\ttotal: 11.6s\tremaining: 1.67s\n",
            "437:\tlearn: 0.0159983\ttotal: 11.6s\tremaining: 1.64s\n",
            "438:\tlearn: 0.0159483\ttotal: 11.6s\tremaining: 1.61s\n",
            "439:\tlearn: 0.0159200\ttotal: 11.6s\tremaining: 1.58s\n",
            "440:\tlearn: 0.0158654\ttotal: 11.6s\tremaining: 1.56s\n",
            "441:\tlearn: 0.0158278\ttotal: 11.6s\tremaining: 1.53s\n",
            "442:\tlearn: 0.0158213\ttotal: 11.7s\tremaining: 1.5s\n",
            "443:\tlearn: 0.0158035\ttotal: 11.7s\tremaining: 1.47s\n",
            "444:\tlearn: 0.0157726\ttotal: 11.7s\tremaining: 1.45s\n",
            "445:\tlearn: 0.0157155\ttotal: 11.7s\tremaining: 1.42s\n",
            "446:\tlearn: 0.0156976\ttotal: 11.7s\tremaining: 1.39s\n",
            "447:\tlearn: 0.0156423\ttotal: 11.8s\tremaining: 1.36s\n",
            "448:\tlearn: 0.0155950\ttotal: 11.8s\tremaining: 1.34s\n",
            "449:\tlearn: 0.0155895\ttotal: 11.8s\tremaining: 1.31s\n",
            "450:\tlearn: 0.0155502\ttotal: 11.8s\tremaining: 1.28s\n",
            "451:\tlearn: 0.0155319\ttotal: 11.9s\tremaining: 1.26s\n",
            "452:\tlearn: 0.0154750\ttotal: 11.9s\tremaining: 1.23s\n",
            "453:\tlearn: 0.0154316\ttotal: 11.9s\tremaining: 1.2s\n",
            "454:\tlearn: 0.0153849\ttotal: 11.9s\tremaining: 1.18s\n",
            "455:\tlearn: 0.0153292\ttotal: 11.9s\tremaining: 1.15s\n",
            "456:\tlearn: 0.0152750\ttotal: 11.9s\tremaining: 1.12s\n",
            "457:\tlearn: 0.0152407\ttotal: 12s\tremaining: 1.1s\n",
            "458:\tlearn: 0.0151853\ttotal: 12s\tremaining: 1.07s\n",
            "459:\tlearn: 0.0151479\ttotal: 12s\tremaining: 1.04s\n",
            "460:\tlearn: 0.0151149\ttotal: 12s\tremaining: 1.02s\n",
            "461:\tlearn: 0.0151004\ttotal: 12s\tremaining: 990ms\n",
            "462:\tlearn: 0.0150486\ttotal: 12.1s\tremaining: 964ms\n",
            "463:\tlearn: 0.0150003\ttotal: 12.1s\tremaining: 937ms\n",
            "464:\tlearn: 0.0149557\ttotal: 12.1s\tremaining: 910ms\n",
            "465:\tlearn: 0.0149115\ttotal: 12.1s\tremaining: 883ms\n",
            "466:\tlearn: 0.0148629\ttotal: 12.1s\tremaining: 857ms\n",
            "467:\tlearn: 0.0147930\ttotal: 12.1s\tremaining: 830ms\n",
            "468:\tlearn: 0.0147412\ttotal: 12.2s\tremaining: 804ms\n",
            "469:\tlearn: 0.0146988\ttotal: 12.2s\tremaining: 778ms\n",
            "470:\tlearn: 0.0146463\ttotal: 12.2s\tremaining: 751ms\n",
            "471:\tlearn: 0.0146329\ttotal: 12.2s\tremaining: 725ms\n",
            "472:\tlearn: 0.0145839\ttotal: 12.2s\tremaining: 698ms\n",
            "473:\tlearn: 0.0145225\ttotal: 12.2s\tremaining: 672ms\n",
            "474:\tlearn: 0.0144723\ttotal: 12.3s\tremaining: 646ms\n",
            "475:\tlearn: 0.0144404\ttotal: 12.3s\tremaining: 619ms\n",
            "476:\tlearn: 0.0143893\ttotal: 12.3s\tremaining: 593ms\n",
            "477:\tlearn: 0.0143247\ttotal: 12.3s\tremaining: 567ms\n",
            "478:\tlearn: 0.0142615\ttotal: 12.3s\tremaining: 541ms\n",
            "479:\tlearn: 0.0142114\ttotal: 12.3s\tremaining: 515ms\n",
            "480:\tlearn: 0.0141595\ttotal: 12.4s\tremaining: 488ms\n",
            "481:\tlearn: 0.0141120\ttotal: 12.4s\tremaining: 463ms\n",
            "482:\tlearn: 0.0140608\ttotal: 12.4s\tremaining: 437ms\n",
            "483:\tlearn: 0.0140277\ttotal: 12.4s\tremaining: 411ms\n",
            "484:\tlearn: 0.0139884\ttotal: 12.4s\tremaining: 385ms\n",
            "485:\tlearn: 0.0139380\ttotal: 12.5s\tremaining: 359ms\n",
            "486:\tlearn: 0.0139240\ttotal: 12.5s\tremaining: 333ms\n",
            "487:\tlearn: 0.0138812\ttotal: 12.5s\tremaining: 307ms\n",
            "488:\tlearn: 0.0138221\ttotal: 12.5s\tremaining: 281ms\n",
            "489:\tlearn: 0.0137642\ttotal: 12.5s\tremaining: 256ms\n",
            "490:\tlearn: 0.0137190\ttotal: 12.5s\tremaining: 230ms\n",
            "491:\tlearn: 0.0136822\ttotal: 12.6s\tremaining: 204ms\n",
            "492:\tlearn: 0.0136503\ttotal: 12.6s\tremaining: 179ms\n",
            "493:\tlearn: 0.0136195\ttotal: 12.6s\tremaining: 153ms\n",
            "494:\tlearn: 0.0135661\ttotal: 12.6s\tremaining: 127ms\n",
            "495:\tlearn: 0.0135359\ttotal: 12.6s\tremaining: 102ms\n",
            "496:\tlearn: 0.0134811\ttotal: 12.7s\tremaining: 76.4ms\n",
            "497:\tlearn: 0.0134289\ttotal: 12.7s\tremaining: 50.9ms\n",
            "498:\tlearn: 0.0133945\ttotal: 12.7s\tremaining: 25.4ms\n",
            "499:\tlearn: 0.0133583\ttotal: 12.7s\tremaining: 0us\n",
            "[[85 14]\n",
            " [ 8 93]]\n",
            "89.0\n"
          ]
        }
      ]
    },
    {
      "cell_type": "code",
      "source": [
        "#Catboost + Adaboost\n",
        "ad_clf = AdaBoostClassifier(learning_rate= 0.04, n_estimators= 500)\n",
        "voting_clf = VotingClassifier(estimators=[('cb',model),('ab',ad_clf)],voting='soft')\n",
        "voting_clf.fit(x_train,y_train)\n",
        "y_pred = voting_clf.predict(x_test)\n",
        "mat = metrics.confusion_matrix(y_test,y_pred)\n",
        "print(mat)\n",
        "accuracy = (mat[0][0]+mat[1][1]) / (mat[0][0]+mat[0][1]+mat[1][0]+mat[1][1])\n",
        "print(accuracy*100)"
      ],
      "metadata": {
        "colab": {
          "base_uri": "https://localhost:8080/"
        },
        "id": "gxgcR_dW92jq",
        "outputId": "0330cda8-aabc-4b1e-93bf-b09c423d879a"
      },
      "id": "gxgcR_dW92jq",
      "execution_count": 74,
      "outputs": [
        {
          "output_type": "stream",
          "name": "stdout",
          "text": [
            "0:\tlearn: 0.6586980\ttotal: 31.9ms\tremaining: 15.9s\n",
            "1:\tlearn: 0.6280189\ttotal: 66ms\tremaining: 16.4s\n",
            "2:\tlearn: 0.5991632\ttotal: 102ms\tremaining: 16.9s\n",
            "3:\tlearn: 0.5793357\ttotal: 134ms\tremaining: 16.6s\n",
            "4:\tlearn: 0.5557043\ttotal: 167ms\tremaining: 16.5s\n",
            "5:\tlearn: 0.5323336\ttotal: 196ms\tremaining: 16.2s\n",
            "6:\tlearn: 0.5134152\ttotal: 236ms\tremaining: 16.6s\n",
            "7:\tlearn: 0.4948203\ttotal: 270ms\tremaining: 16.6s\n",
            "8:\tlearn: 0.4744553\ttotal: 299ms\tremaining: 16.3s\n",
            "9:\tlearn: 0.4576153\ttotal: 324ms\tremaining: 15.9s\n",
            "10:\tlearn: 0.4407438\ttotal: 348ms\tremaining: 15.5s\n",
            "11:\tlearn: 0.4269743\ttotal: 382ms\tremaining: 15.5s\n",
            "12:\tlearn: 0.4121006\ttotal: 414ms\tremaining: 15.5s\n",
            "13:\tlearn: 0.3983624\ttotal: 450ms\tremaining: 15.6s\n",
            "14:\tlearn: 0.3870240\ttotal: 472ms\tremaining: 15.3s\n",
            "15:\tlearn: 0.3760421\ttotal: 502ms\tremaining: 15.2s\n",
            "16:\tlearn: 0.3634643\ttotal: 534ms\tremaining: 15.2s\n",
            "17:\tlearn: 0.3534721\ttotal: 560ms\tremaining: 15s\n",
            "18:\tlearn: 0.3433935\ttotal: 584ms\tremaining: 14.8s\n",
            "19:\tlearn: 0.3344564\ttotal: 611ms\tremaining: 14.7s\n",
            "20:\tlearn: 0.3252160\ttotal: 654ms\tremaining: 14.9s\n",
            "21:\tlearn: 0.3169215\ttotal: 682ms\tremaining: 14.8s\n",
            "22:\tlearn: 0.3086293\ttotal: 717ms\tremaining: 14.9s\n",
            "23:\tlearn: 0.3017557\ttotal: 744ms\tremaining: 14.8s\n",
            "24:\tlearn: 0.2953350\ttotal: 772ms\tremaining: 14.7s\n",
            "25:\tlearn: 0.2874729\ttotal: 806ms\tremaining: 14.7s\n",
            "26:\tlearn: 0.2809491\ttotal: 840ms\tremaining: 14.7s\n",
            "27:\tlearn: 0.2741448\ttotal: 881ms\tremaining: 14.9s\n",
            "28:\tlearn: 0.2691636\ttotal: 904ms\tremaining: 14.7s\n",
            "29:\tlearn: 0.2637280\ttotal: 934ms\tremaining: 14.6s\n",
            "30:\tlearn: 0.2584829\ttotal: 968ms\tremaining: 14.6s\n",
            "31:\tlearn: 0.2537334\ttotal: 1000ms\tremaining: 14.6s\n",
            "32:\tlearn: 0.2483788\ttotal: 1.03s\tremaining: 14.6s\n",
            "33:\tlearn: 0.2434184\ttotal: 1.06s\tremaining: 14.6s\n",
            "34:\tlearn: 0.2390541\ttotal: 1.1s\tremaining: 14.6s\n",
            "35:\tlearn: 0.2338922\ttotal: 1.13s\tremaining: 14.6s\n",
            "36:\tlearn: 0.2296917\ttotal: 1.17s\tremaining: 14.6s\n",
            "37:\tlearn: 0.2260527\ttotal: 1.2s\tremaining: 14.6s\n",
            "38:\tlearn: 0.2224112\ttotal: 1.23s\tremaining: 14.6s\n",
            "39:\tlearn: 0.2183756\ttotal: 1.28s\tremaining: 14.7s\n",
            "40:\tlearn: 0.2145854\ttotal: 1.31s\tremaining: 14.7s\n",
            "41:\tlearn: 0.2108383\ttotal: 1.34s\tremaining: 14.6s\n",
            "42:\tlearn: 0.2075851\ttotal: 1.36s\tremaining: 14.5s\n",
            "43:\tlearn: 0.2037461\ttotal: 1.4s\tremaining: 14.5s\n",
            "44:\tlearn: 0.2001714\ttotal: 1.44s\tremaining: 14.6s\n",
            "45:\tlearn: 0.1972716\ttotal: 1.47s\tremaining: 14.5s\n",
            "46:\tlearn: 0.1941586\ttotal: 1.51s\tremaining: 14.5s\n",
            "47:\tlearn: 0.1908176\ttotal: 1.53s\tremaining: 14.4s\n",
            "48:\tlearn: 0.1879307\ttotal: 1.56s\tremaining: 14.4s\n",
            "49:\tlearn: 0.1848794\ttotal: 1.59s\tremaining: 14.4s\n",
            "50:\tlearn: 0.1825906\ttotal: 1.63s\tremaining: 14.3s\n",
            "51:\tlearn: 0.1805107\ttotal: 1.66s\tremaining: 14.3s\n",
            "52:\tlearn: 0.1774477\ttotal: 1.7s\tremaining: 14.3s\n",
            "53:\tlearn: 0.1750409\ttotal: 1.73s\tremaining: 14.3s\n",
            "54:\tlearn: 0.1723508\ttotal: 1.76s\tremaining: 14.3s\n",
            "55:\tlearn: 0.1702987\ttotal: 1.79s\tremaining: 14.2s\n",
            "56:\tlearn: 0.1677726\ttotal: 1.81s\tremaining: 14.1s\n",
            "57:\tlearn: 0.1655417\ttotal: 1.83s\tremaining: 14s\n",
            "58:\tlearn: 0.1636752\ttotal: 1.87s\tremaining: 14s\n",
            "59:\tlearn: 0.1611705\ttotal: 1.91s\tremaining: 14s\n",
            "60:\tlearn: 0.1594352\ttotal: 1.95s\tremaining: 14s\n",
            "61:\tlearn: 0.1578500\ttotal: 1.97s\tremaining: 13.9s\n",
            "62:\tlearn: 0.1563362\ttotal: 2s\tremaining: 13.9s\n",
            "63:\tlearn: 0.1545704\ttotal: 2.04s\tremaining: 13.9s\n",
            "64:\tlearn: 0.1524926\ttotal: 2.06s\tremaining: 13.8s\n",
            "65:\tlearn: 0.1505690\ttotal: 2.09s\tremaining: 13.7s\n",
            "66:\tlearn: 0.1491444\ttotal: 2.13s\tremaining: 13.8s\n",
            "67:\tlearn: 0.1469270\ttotal: 2.17s\tremaining: 13.8s\n",
            "68:\tlearn: 0.1453543\ttotal: 2.2s\tremaining: 13.8s\n",
            "69:\tlearn: 0.1439125\ttotal: 2.23s\tremaining: 13.7s\n",
            "70:\tlearn: 0.1422028\ttotal: 2.27s\tremaining: 13.7s\n",
            "71:\tlearn: 0.1406635\ttotal: 2.3s\tremaining: 13.7s\n",
            "72:\tlearn: 0.1389882\ttotal: 2.34s\tremaining: 13.7s\n",
            "73:\tlearn: 0.1376128\ttotal: 2.37s\tremaining: 13.7s\n",
            "74:\tlearn: 0.1366152\ttotal: 2.41s\tremaining: 13.6s\n",
            "75:\tlearn: 0.1348923\ttotal: 2.44s\tremaining: 13.6s\n",
            "76:\tlearn: 0.1336593\ttotal: 2.48s\tremaining: 13.6s\n",
            "77:\tlearn: 0.1319745\ttotal: 2.51s\tremaining: 13.6s\n",
            "78:\tlearn: 0.1304667\ttotal: 2.54s\tremaining: 13.5s\n",
            "79:\tlearn: 0.1292606\ttotal: 2.57s\tremaining: 13.5s\n",
            "80:\tlearn: 0.1282980\ttotal: 2.61s\tremaining: 13.5s\n",
            "81:\tlearn: 0.1269457\ttotal: 2.64s\tremaining: 13.5s\n",
            "82:\tlearn: 0.1260961\ttotal: 2.66s\tremaining: 13.4s\n",
            "83:\tlearn: 0.1248393\ttotal: 2.69s\tremaining: 13.3s\n",
            "84:\tlearn: 0.1238045\ttotal: 2.72s\tremaining: 13.3s\n",
            "85:\tlearn: 0.1229078\ttotal: 2.75s\tremaining: 13.3s\n",
            "86:\tlearn: 0.1215066\ttotal: 2.79s\tremaining: 13.2s\n",
            "87:\tlearn: 0.1202730\ttotal: 2.84s\tremaining: 13.3s\n",
            "88:\tlearn: 0.1190566\ttotal: 2.87s\tremaining: 13.3s\n",
            "89:\tlearn: 0.1178778\ttotal: 2.9s\tremaining: 13.2s\n",
            "90:\tlearn: 0.1169037\ttotal: 2.94s\tremaining: 13.2s\n",
            "91:\tlearn: 0.1154863\ttotal: 2.98s\tremaining: 13.2s\n",
            "92:\tlearn: 0.1143345\ttotal: 3.01s\tremaining: 13.2s\n",
            "93:\tlearn: 0.1131128\ttotal: 3.05s\tremaining: 13.2s\n",
            "94:\tlearn: 0.1118028\ttotal: 3.08s\tremaining: 13.1s\n",
            "95:\tlearn: 0.1108598\ttotal: 3.11s\tremaining: 13.1s\n",
            "96:\tlearn: 0.1095398\ttotal: 3.14s\tremaining: 13.1s\n",
            "97:\tlearn: 0.1084687\ttotal: 3.18s\tremaining: 13s\n",
            "98:\tlearn: 0.1076293\ttotal: 3.21s\tremaining: 13s\n",
            "99:\tlearn: 0.1067791\ttotal: 3.24s\tremaining: 13s\n",
            "100:\tlearn: 0.1058144\ttotal: 3.28s\tremaining: 13s\n",
            "101:\tlearn: 0.1051450\ttotal: 3.3s\tremaining: 12.9s\n",
            "102:\tlearn: 0.1040070\ttotal: 3.33s\tremaining: 12.8s\n",
            "103:\tlearn: 0.1030508\ttotal: 3.37s\tremaining: 12.8s\n",
            "104:\tlearn: 0.1019531\ttotal: 3.4s\tremaining: 12.8s\n",
            "105:\tlearn: 0.1012493\ttotal: 3.43s\tremaining: 12.8s\n",
            "106:\tlearn: 0.1004132\ttotal: 3.46s\tremaining: 12.7s\n",
            "107:\tlearn: 0.0997262\ttotal: 3.5s\tremaining: 12.7s\n",
            "108:\tlearn: 0.0988248\ttotal: 3.53s\tremaining: 12.7s\n",
            "109:\tlearn: 0.0980664\ttotal: 3.57s\tremaining: 12.7s\n",
            "110:\tlearn: 0.0972263\ttotal: 3.61s\tremaining: 12.6s\n",
            "111:\tlearn: 0.0964464\ttotal: 3.63s\tremaining: 12.6s\n",
            "112:\tlearn: 0.0958277\ttotal: 3.65s\tremaining: 12.5s\n",
            "113:\tlearn: 0.0951200\ttotal: 3.68s\tremaining: 12.5s\n",
            "114:\tlearn: 0.0945378\ttotal: 3.73s\tremaining: 12.5s\n",
            "115:\tlearn: 0.0938659\ttotal: 3.77s\tremaining: 12.5s\n",
            "116:\tlearn: 0.0932590\ttotal: 3.81s\tremaining: 12.5s\n",
            "117:\tlearn: 0.0925615\ttotal: 3.84s\tremaining: 12.4s\n",
            "118:\tlearn: 0.0918169\ttotal: 3.87s\tremaining: 12.4s\n",
            "119:\tlearn: 0.0910884\ttotal: 3.9s\tremaining: 12.3s\n",
            "120:\tlearn: 0.0904787\ttotal: 3.94s\tremaining: 12.3s\n",
            "121:\tlearn: 0.0899492\ttotal: 3.96s\tremaining: 12.3s\n",
            "122:\tlearn: 0.0890017\ttotal: 4s\tremaining: 12.3s\n",
            "123:\tlearn: 0.0881121\ttotal: 4.03s\tremaining: 12.2s\n",
            "124:\tlearn: 0.0876010\ttotal: 4.07s\tremaining: 12.2s\n",
            "125:\tlearn: 0.0867375\ttotal: 4.1s\tremaining: 12.2s\n",
            "126:\tlearn: 0.0862129\ttotal: 4.13s\tremaining: 12.1s\n",
            "127:\tlearn: 0.0857848\ttotal: 4.16s\tremaining: 12.1s\n",
            "128:\tlearn: 0.0851731\ttotal: 4.19s\tremaining: 12s\n",
            "129:\tlearn: 0.0846045\ttotal: 4.22s\tremaining: 12s\n",
            "130:\tlearn: 0.0838710\ttotal: 4.25s\tremaining: 12s\n",
            "131:\tlearn: 0.0831408\ttotal: 4.29s\tremaining: 11.9s\n",
            "132:\tlearn: 0.0827475\ttotal: 4.32s\tremaining: 11.9s\n",
            "133:\tlearn: 0.0820053\ttotal: 4.35s\tremaining: 11.9s\n",
            "134:\tlearn: 0.0814151\ttotal: 4.38s\tremaining: 11.9s\n",
            "135:\tlearn: 0.0808463\ttotal: 4.41s\tremaining: 11.8s\n",
            "136:\tlearn: 0.0802690\ttotal: 4.44s\tremaining: 11.8s\n",
            "137:\tlearn: 0.0798754\ttotal: 4.46s\tremaining: 11.7s\n",
            "138:\tlearn: 0.0790630\ttotal: 4.49s\tremaining: 11.7s\n",
            "139:\tlearn: 0.0785955\ttotal: 4.53s\tremaining: 11.6s\n",
            "140:\tlearn: 0.0778289\ttotal: 4.56s\tremaining: 11.6s\n",
            "141:\tlearn: 0.0770750\ttotal: 4.6s\tremaining: 11.6s\n",
            "142:\tlearn: 0.0761983\ttotal: 4.63s\tremaining: 11.6s\n",
            "143:\tlearn: 0.0755702\ttotal: 4.67s\tremaining: 11.5s\n",
            "144:\tlearn: 0.0752066\ttotal: 4.71s\tremaining: 11.5s\n",
            "145:\tlearn: 0.0747223\ttotal: 4.75s\tremaining: 11.5s\n",
            "146:\tlearn: 0.0741965\ttotal: 4.78s\tremaining: 11.5s\n",
            "147:\tlearn: 0.0735161\ttotal: 4.8s\tremaining: 11.4s\n",
            "148:\tlearn: 0.0730088\ttotal: 4.83s\tremaining: 11.4s\n",
            "149:\tlearn: 0.0724391\ttotal: 4.87s\tremaining: 11.4s\n",
            "150:\tlearn: 0.0717892\ttotal: 4.9s\tremaining: 11.3s\n",
            "151:\tlearn: 0.0712407\ttotal: 4.93s\tremaining: 11.3s\n",
            "152:\tlearn: 0.0708357\ttotal: 4.97s\tremaining: 11.3s\n",
            "153:\tlearn: 0.0704214\ttotal: 5s\tremaining: 11.2s\n",
            "154:\tlearn: 0.0699045\ttotal: 5.04s\tremaining: 11.2s\n",
            "155:\tlearn: 0.0693738\ttotal: 5.08s\tremaining: 11.2s\n",
            "156:\tlearn: 0.0686950\ttotal: 5.11s\tremaining: 11.2s\n",
            "157:\tlearn: 0.0681774\ttotal: 5.14s\tremaining: 11.1s\n",
            "158:\tlearn: 0.0677631\ttotal: 5.17s\tremaining: 11.1s\n",
            "159:\tlearn: 0.0673328\ttotal: 5.2s\tremaining: 11.1s\n",
            "160:\tlearn: 0.0667928\ttotal: 5.24s\tremaining: 11s\n",
            "161:\tlearn: 0.0664614\ttotal: 5.27s\tremaining: 11s\n",
            "162:\tlearn: 0.0660647\ttotal: 5.3s\tremaining: 11s\n",
            "163:\tlearn: 0.0654427\ttotal: 5.32s\tremaining: 10.9s\n",
            "164:\tlearn: 0.0649532\ttotal: 5.34s\tremaining: 10.8s\n",
            "165:\tlearn: 0.0644108\ttotal: 5.36s\tremaining: 10.8s\n",
            "166:\tlearn: 0.0639077\ttotal: 5.37s\tremaining: 10.7s\n",
            "167:\tlearn: 0.0633344\ttotal: 5.39s\tremaining: 10.7s\n",
            "168:\tlearn: 0.0629893\ttotal: 5.41s\tremaining: 10.6s\n",
            "169:\tlearn: 0.0623669\ttotal: 5.42s\tremaining: 10.5s\n",
            "170:\tlearn: 0.0618913\ttotal: 5.45s\tremaining: 10.5s\n",
            "171:\tlearn: 0.0617011\ttotal: 5.46s\tremaining: 10.4s\n",
            "172:\tlearn: 0.0611711\ttotal: 5.48s\tremaining: 10.4s\n",
            "173:\tlearn: 0.0606403\ttotal: 5.5s\tremaining: 10.3s\n",
            "174:\tlearn: 0.0602858\ttotal: 5.51s\tremaining: 10.2s\n",
            "175:\tlearn: 0.0599150\ttotal: 5.53s\tremaining: 10.2s\n",
            "176:\tlearn: 0.0594489\ttotal: 5.56s\tremaining: 10.1s\n",
            "177:\tlearn: 0.0590014\ttotal: 5.57s\tremaining: 10.1s\n",
            "178:\tlearn: 0.0586274\ttotal: 5.59s\tremaining: 10s\n",
            "179:\tlearn: 0.0582287\ttotal: 5.61s\tremaining: 9.97s\n",
            "180:\tlearn: 0.0578023\ttotal: 5.63s\tremaining: 9.92s\n",
            "181:\tlearn: 0.0575427\ttotal: 5.65s\tremaining: 9.87s\n",
            "182:\tlearn: 0.0572001\ttotal: 5.67s\tremaining: 9.81s\n",
            "183:\tlearn: 0.0570099\ttotal: 5.68s\tremaining: 9.76s\n",
            "184:\tlearn: 0.0565378\ttotal: 5.7s\tremaining: 9.71s\n",
            "185:\tlearn: 0.0561669\ttotal: 5.72s\tremaining: 9.66s\n",
            "186:\tlearn: 0.0557126\ttotal: 5.75s\tremaining: 9.62s\n",
            "187:\tlearn: 0.0553568\ttotal: 5.77s\tremaining: 9.57s\n",
            "188:\tlearn: 0.0550700\ttotal: 5.78s\tremaining: 9.52s\n",
            "189:\tlearn: 0.0548202\ttotal: 5.8s\tremaining: 9.46s\n",
            "190:\tlearn: 0.0544474\ttotal: 5.82s\tremaining: 9.41s\n",
            "191:\tlearn: 0.0541334\ttotal: 5.83s\tremaining: 9.36s\n",
            "192:\tlearn: 0.0536020\ttotal: 5.86s\tremaining: 9.32s\n",
            "193:\tlearn: 0.0533217\ttotal: 5.88s\tremaining: 9.27s\n",
            "194:\tlearn: 0.0529321\ttotal: 5.89s\tremaining: 9.21s\n",
            "195:\tlearn: 0.0527662\ttotal: 5.89s\tremaining: 9.14s\n",
            "196:\tlearn: 0.0524733\ttotal: 5.91s\tremaining: 9.09s\n",
            "197:\tlearn: 0.0520898\ttotal: 5.93s\tremaining: 9.04s\n",
            "198:\tlearn: 0.0518260\ttotal: 5.95s\tremaining: 8.99s\n",
            "199:\tlearn: 0.0514783\ttotal: 5.96s\tremaining: 8.94s\n",
            "200:\tlearn: 0.0510739\ttotal: 5.99s\tremaining: 8.9s\n",
            "201:\tlearn: 0.0507166\ttotal: 6s\tremaining: 8.86s\n",
            "202:\tlearn: 0.0504138\ttotal: 6.02s\tremaining: 8.81s\n",
            "203:\tlearn: 0.0501007\ttotal: 6.04s\tremaining: 8.76s\n",
            "204:\tlearn: 0.0496904\ttotal: 6.06s\tremaining: 8.72s\n",
            "205:\tlearn: 0.0493732\ttotal: 6.08s\tremaining: 8.67s\n",
            "206:\tlearn: 0.0490776\ttotal: 6.09s\tremaining: 8.63s\n",
            "207:\tlearn: 0.0488950\ttotal: 6.11s\tremaining: 8.58s\n",
            "208:\tlearn: 0.0486044\ttotal: 6.13s\tremaining: 8.54s\n",
            "209:\tlearn: 0.0482840\ttotal: 6.15s\tremaining: 8.49s\n",
            "210:\tlearn: 0.0480686\ttotal: 6.17s\tremaining: 8.44s\n",
            "211:\tlearn: 0.0477043\ttotal: 6.18s\tremaining: 8.4s\n",
            "212:\tlearn: 0.0473789\ttotal: 6.2s\tremaining: 8.35s\n",
            "213:\tlearn: 0.0470419\ttotal: 6.22s\tremaining: 8.31s\n",
            "214:\tlearn: 0.0467718\ttotal: 6.24s\tremaining: 8.27s\n",
            "215:\tlearn: 0.0465380\ttotal: 6.25s\tremaining: 8.22s\n",
            "216:\tlearn: 0.0463206\ttotal: 6.28s\tremaining: 8.19s\n",
            "217:\tlearn: 0.0460496\ttotal: 6.29s\tremaining: 8.14s\n",
            "218:\tlearn: 0.0457585\ttotal: 6.31s\tremaining: 8.1s\n",
            "219:\tlearn: 0.0455720\ttotal: 6.33s\tremaining: 8.05s\n",
            "220:\tlearn: 0.0453038\ttotal: 6.35s\tremaining: 8.01s\n",
            "221:\tlearn: 0.0450864\ttotal: 6.37s\tremaining: 7.97s\n",
            "222:\tlearn: 0.0449046\ttotal: 6.38s\tremaining: 7.93s\n",
            "223:\tlearn: 0.0447141\ttotal: 6.4s\tremaining: 7.89s\n",
            "224:\tlearn: 0.0444694\ttotal: 6.42s\tremaining: 7.85s\n",
            "225:\tlearn: 0.0442042\ttotal: 6.44s\tremaining: 7.81s\n",
            "226:\tlearn: 0.0438893\ttotal: 6.46s\tremaining: 7.76s\n",
            "227:\tlearn: 0.0437392\ttotal: 6.47s\tremaining: 7.72s\n",
            "228:\tlearn: 0.0434313\ttotal: 6.5s\tremaining: 7.69s\n",
            "229:\tlearn: 0.0431859\ttotal: 6.51s\tremaining: 7.64s\n",
            "230:\tlearn: 0.0430436\ttotal: 6.53s\tremaining: 7.6s\n",
            "231:\tlearn: 0.0427797\ttotal: 6.55s\tremaining: 7.56s\n",
            "232:\tlearn: 0.0425857\ttotal: 6.56s\tremaining: 7.52s\n",
            "233:\tlearn: 0.0423028\ttotal: 6.58s\tremaining: 7.48s\n",
            "234:\tlearn: 0.0420276\ttotal: 6.6s\tremaining: 7.44s\n",
            "235:\tlearn: 0.0416993\ttotal: 6.62s\tremaining: 7.41s\n",
            "236:\tlearn: 0.0414870\ttotal: 6.65s\tremaining: 7.38s\n",
            "237:\tlearn: 0.0412836\ttotal: 6.67s\tremaining: 7.35s\n",
            "238:\tlearn: 0.0410971\ttotal: 6.7s\tremaining: 7.31s\n",
            "239:\tlearn: 0.0408696\ttotal: 6.72s\tremaining: 7.28s\n",
            "240:\tlearn: 0.0405821\ttotal: 6.74s\tremaining: 7.25s\n",
            "241:\tlearn: 0.0403441\ttotal: 6.76s\tremaining: 7.21s\n",
            "242:\tlearn: 0.0400889\ttotal: 6.78s\tremaining: 7.17s\n",
            "243:\tlearn: 0.0397991\ttotal: 6.8s\tremaining: 7.13s\n",
            "244:\tlearn: 0.0395618\ttotal: 6.82s\tremaining: 7.09s\n",
            "245:\tlearn: 0.0392659\ttotal: 6.83s\tremaining: 7.06s\n",
            "246:\tlearn: 0.0391361\ttotal: 6.85s\tremaining: 7.02s\n",
            "247:\tlearn: 0.0388564\ttotal: 6.87s\tremaining: 6.98s\n",
            "248:\tlearn: 0.0385728\ttotal: 6.88s\tremaining: 6.94s\n",
            "249:\tlearn: 0.0382975\ttotal: 6.91s\tremaining: 6.91s\n",
            "250:\tlearn: 0.0380387\ttotal: 6.93s\tremaining: 6.87s\n",
            "251:\tlearn: 0.0378215\ttotal: 6.95s\tremaining: 6.83s\n",
            "252:\tlearn: 0.0375773\ttotal: 6.96s\tremaining: 6.8s\n",
            "253:\tlearn: 0.0373675\ttotal: 6.98s\tremaining: 6.76s\n",
            "254:\tlearn: 0.0371257\ttotal: 7s\tremaining: 6.72s\n",
            "255:\tlearn: 0.0368836\ttotal: 7.01s\tremaining: 6.69s\n",
            "256:\tlearn: 0.0366913\ttotal: 7.03s\tremaining: 6.65s\n",
            "257:\tlearn: 0.0364510\ttotal: 7.05s\tremaining: 6.61s\n",
            "258:\tlearn: 0.0362630\ttotal: 7.07s\tremaining: 6.58s\n",
            "259:\tlearn: 0.0359729\ttotal: 7.08s\tremaining: 6.54s\n",
            "260:\tlearn: 0.0356983\ttotal: 7.1s\tremaining: 6.5s\n",
            "261:\tlearn: 0.0355372\ttotal: 7.12s\tremaining: 6.47s\n",
            "262:\tlearn: 0.0353535\ttotal: 7.14s\tremaining: 6.43s\n",
            "263:\tlearn: 0.0351897\ttotal: 7.16s\tremaining: 6.4s\n",
            "264:\tlearn: 0.0349903\ttotal: 7.18s\tremaining: 6.36s\n",
            "265:\tlearn: 0.0348380\ttotal: 7.19s\tremaining: 6.33s\n",
            "266:\tlearn: 0.0346526\ttotal: 7.21s\tremaining: 6.29s\n",
            "267:\tlearn: 0.0344174\ttotal: 7.23s\tremaining: 6.26s\n",
            "268:\tlearn: 0.0342755\ttotal: 7.25s\tremaining: 6.22s\n",
            "269:\tlearn: 0.0339754\ttotal: 7.27s\tremaining: 6.2s\n",
            "270:\tlearn: 0.0337846\ttotal: 7.29s\tremaining: 6.16s\n",
            "271:\tlearn: 0.0335770\ttotal: 7.31s\tremaining: 6.13s\n",
            "272:\tlearn: 0.0334159\ttotal: 7.33s\tremaining: 6.1s\n",
            "273:\tlearn: 0.0332639\ttotal: 7.35s\tremaining: 6.06s\n",
            "274:\tlearn: 0.0330347\ttotal: 7.37s\tremaining: 6.03s\n",
            "275:\tlearn: 0.0328111\ttotal: 7.39s\tremaining: 6s\n",
            "276:\tlearn: 0.0326595\ttotal: 7.4s\tremaining: 5.96s\n",
            "277:\tlearn: 0.0325239\ttotal: 7.42s\tremaining: 5.93s\n",
            "278:\tlearn: 0.0323975\ttotal: 7.43s\tremaining: 5.88s\n",
            "279:\tlearn: 0.0322505\ttotal: 7.45s\tremaining: 5.85s\n",
            "280:\tlearn: 0.0321221\ttotal: 7.46s\tremaining: 5.82s\n",
            "281:\tlearn: 0.0320524\ttotal: 7.48s\tremaining: 5.78s\n",
            "282:\tlearn: 0.0319104\ttotal: 7.5s\tremaining: 5.75s\n",
            "283:\tlearn: 0.0317157\ttotal: 7.51s\tremaining: 5.71s\n",
            "284:\tlearn: 0.0315722\ttotal: 7.54s\tremaining: 5.68s\n",
            "285:\tlearn: 0.0314690\ttotal: 7.55s\tremaining: 5.65s\n",
            "286:\tlearn: 0.0312707\ttotal: 7.57s\tremaining: 5.62s\n",
            "287:\tlearn: 0.0310556\ttotal: 7.59s\tremaining: 5.59s\n",
            "288:\tlearn: 0.0308802\ttotal: 7.61s\tremaining: 5.55s\n",
            "289:\tlearn: 0.0306966\ttotal: 7.62s\tremaining: 5.52s\n",
            "290:\tlearn: 0.0305406\ttotal: 7.64s\tremaining: 5.49s\n",
            "291:\tlearn: 0.0303842\ttotal: 7.66s\tremaining: 5.45s\n",
            "292:\tlearn: 0.0302223\ttotal: 7.68s\tremaining: 5.42s\n",
            "293:\tlearn: 0.0300453\ttotal: 7.7s\tremaining: 5.39s\n",
            "294:\tlearn: 0.0298360\ttotal: 7.72s\tremaining: 5.37s\n",
            "295:\tlearn: 0.0296764\ttotal: 7.75s\tremaining: 5.34s\n",
            "296:\tlearn: 0.0295148\ttotal: 7.76s\tremaining: 5.3s\n",
            "297:\tlearn: 0.0294728\ttotal: 7.76s\tremaining: 5.26s\n",
            "298:\tlearn: 0.0293569\ttotal: 7.78s\tremaining: 5.23s\n",
            "299:\tlearn: 0.0292123\ttotal: 7.8s\tremaining: 5.2s\n",
            "300:\tlearn: 0.0290744\ttotal: 7.82s\tremaining: 5.17s\n",
            "301:\tlearn: 0.0288986\ttotal: 7.83s\tremaining: 5.13s\n",
            "302:\tlearn: 0.0287148\ttotal: 7.85s\tremaining: 5.1s\n",
            "303:\tlearn: 0.0285426\ttotal: 7.87s\tremaining: 5.07s\n",
            "304:\tlearn: 0.0283681\ttotal: 7.89s\tremaining: 5.04s\n",
            "305:\tlearn: 0.0282060\ttotal: 7.9s\tremaining: 5.01s\n",
            "306:\tlearn: 0.0280207\ttotal: 7.92s\tremaining: 4.98s\n",
            "307:\tlearn: 0.0278348\ttotal: 7.94s\tremaining: 4.95s\n",
            "308:\tlearn: 0.0276521\ttotal: 7.96s\tremaining: 4.92s\n",
            "309:\tlearn: 0.0274910\ttotal: 7.98s\tremaining: 4.89s\n",
            "310:\tlearn: 0.0273361\ttotal: 8s\tremaining: 4.86s\n",
            "311:\tlearn: 0.0271819\ttotal: 8.02s\tremaining: 4.83s\n",
            "312:\tlearn: 0.0270122\ttotal: 8.03s\tremaining: 4.8s\n",
            "313:\tlearn: 0.0268594\ttotal: 8.05s\tremaining: 4.77s\n",
            "314:\tlearn: 0.0267440\ttotal: 8.07s\tremaining: 4.74s\n",
            "315:\tlearn: 0.0265961\ttotal: 8.09s\tremaining: 4.71s\n",
            "316:\tlearn: 0.0264734\ttotal: 8.11s\tremaining: 4.68s\n",
            "317:\tlearn: 0.0264409\ttotal: 8.11s\tremaining: 4.64s\n",
            "318:\tlearn: 0.0262752\ttotal: 8.13s\tremaining: 4.61s\n",
            "319:\tlearn: 0.0261701\ttotal: 8.14s\tremaining: 4.58s\n",
            "320:\tlearn: 0.0260388\ttotal: 8.16s\tremaining: 4.55s\n",
            "321:\tlearn: 0.0258593\ttotal: 8.18s\tremaining: 4.52s\n",
            "322:\tlearn: 0.0258014\ttotal: 8.2s\tremaining: 4.49s\n",
            "323:\tlearn: 0.0257066\ttotal: 8.21s\tremaining: 4.46s\n",
            "324:\tlearn: 0.0255678\ttotal: 8.23s\tremaining: 4.43s\n",
            "325:\tlearn: 0.0254269\ttotal: 8.25s\tremaining: 4.4s\n",
            "326:\tlearn: 0.0252968\ttotal: 8.27s\tremaining: 4.37s\n",
            "327:\tlearn: 0.0251915\ttotal: 8.28s\tremaining: 4.34s\n",
            "328:\tlearn: 0.0250543\ttotal: 8.3s\tremaining: 4.31s\n",
            "329:\tlearn: 0.0249171\ttotal: 8.32s\tremaining: 4.29s\n",
            "330:\tlearn: 0.0248279\ttotal: 8.33s\tremaining: 4.25s\n",
            "331:\tlearn: 0.0247316\ttotal: 8.35s\tremaining: 4.23s\n",
            "332:\tlearn: 0.0246146\ttotal: 8.37s\tremaining: 4.2s\n",
            "333:\tlearn: 0.0244906\ttotal: 8.39s\tremaining: 4.17s\n",
            "334:\tlearn: 0.0243583\ttotal: 8.41s\tremaining: 4.14s\n",
            "335:\tlearn: 0.0242275\ttotal: 8.42s\tremaining: 4.11s\n",
            "336:\tlearn: 0.0240990\ttotal: 8.44s\tremaining: 4.08s\n",
            "337:\tlearn: 0.0239715\ttotal: 8.46s\tremaining: 4.05s\n",
            "338:\tlearn: 0.0238444\ttotal: 8.47s\tremaining: 4.02s\n",
            "339:\tlearn: 0.0237728\ttotal: 8.49s\tremaining: 3.99s\n",
            "340:\tlearn: 0.0236559\ttotal: 8.51s\tremaining: 3.96s\n",
            "341:\tlearn: 0.0235752\ttotal: 8.52s\tremaining: 3.94s\n",
            "342:\tlearn: 0.0234105\ttotal: 8.54s\tremaining: 3.91s\n",
            "343:\tlearn: 0.0233291\ttotal: 8.56s\tremaining: 3.88s\n",
            "344:\tlearn: 0.0232356\ttotal: 8.58s\tremaining: 3.85s\n",
            "345:\tlearn: 0.0231398\ttotal: 8.6s\tremaining: 3.83s\n",
            "346:\tlearn: 0.0230211\ttotal: 8.61s\tremaining: 3.8s\n",
            "347:\tlearn: 0.0228974\ttotal: 8.63s\tremaining: 3.77s\n",
            "348:\tlearn: 0.0227827\ttotal: 8.65s\tremaining: 3.74s\n",
            "349:\tlearn: 0.0226731\ttotal: 8.67s\tremaining: 3.71s\n",
            "350:\tlearn: 0.0225945\ttotal: 8.69s\tremaining: 3.69s\n",
            "351:\tlearn: 0.0224857\ttotal: 8.71s\tremaining: 3.66s\n",
            "352:\tlearn: 0.0223784\ttotal: 8.73s\tremaining: 3.64s\n",
            "353:\tlearn: 0.0222844\ttotal: 8.75s\tremaining: 3.61s\n",
            "354:\tlearn: 0.0221867\ttotal: 8.77s\tremaining: 3.58s\n",
            "355:\tlearn: 0.0220826\ttotal: 8.79s\tremaining: 3.55s\n",
            "356:\tlearn: 0.0219725\ttotal: 8.8s\tremaining: 3.53s\n",
            "357:\tlearn: 0.0218704\ttotal: 8.82s\tremaining: 3.5s\n",
            "358:\tlearn: 0.0217644\ttotal: 8.84s\tremaining: 3.47s\n",
            "359:\tlearn: 0.0216876\ttotal: 8.85s\tremaining: 3.44s\n",
            "360:\tlearn: 0.0215933\ttotal: 8.87s\tremaining: 3.42s\n",
            "361:\tlearn: 0.0214950\ttotal: 8.89s\tremaining: 3.39s\n",
            "362:\tlearn: 0.0213703\ttotal: 8.9s\tremaining: 3.36s\n",
            "363:\tlearn: 0.0212598\ttotal: 8.92s\tremaining: 3.33s\n",
            "364:\tlearn: 0.0211956\ttotal: 8.94s\tremaining: 3.31s\n",
            "365:\tlearn: 0.0210960\ttotal: 8.96s\tremaining: 3.28s\n",
            "366:\tlearn: 0.0210091\ttotal: 8.98s\tremaining: 3.25s\n",
            "367:\tlearn: 0.0209145\ttotal: 9s\tremaining: 3.23s\n",
            "368:\tlearn: 0.0208148\ttotal: 9.02s\tremaining: 3.2s\n",
            "369:\tlearn: 0.0207045\ttotal: 9.03s\tremaining: 3.17s\n",
            "370:\tlearn: 0.0206073\ttotal: 9.05s\tremaining: 3.15s\n",
            "371:\tlearn: 0.0205114\ttotal: 9.07s\tremaining: 3.12s\n",
            "372:\tlearn: 0.0204504\ttotal: 9.09s\tremaining: 3.09s\n",
            "373:\tlearn: 0.0203695\ttotal: 9.11s\tremaining: 3.07s\n",
            "374:\tlearn: 0.0202545\ttotal: 9.12s\tremaining: 3.04s\n",
            "375:\tlearn: 0.0201683\ttotal: 9.14s\tremaining: 3.01s\n",
            "376:\tlearn: 0.0201152\ttotal: 9.16s\tremaining: 2.99s\n",
            "377:\tlearn: 0.0200056\ttotal: 9.17s\tremaining: 2.96s\n",
            "378:\tlearn: 0.0199199\ttotal: 9.19s\tremaining: 2.93s\n",
            "379:\tlearn: 0.0198247\ttotal: 9.21s\tremaining: 2.91s\n",
            "380:\tlearn: 0.0197392\ttotal: 9.23s\tremaining: 2.88s\n",
            "381:\tlearn: 0.0196485\ttotal: 9.25s\tremaining: 2.86s\n",
            "382:\tlearn: 0.0195765\ttotal: 9.26s\tremaining: 2.83s\n",
            "383:\tlearn: 0.0195113\ttotal: 9.28s\tremaining: 2.8s\n",
            "384:\tlearn: 0.0194211\ttotal: 9.3s\tremaining: 2.78s\n",
            "385:\tlearn: 0.0193365\ttotal: 9.32s\tremaining: 2.75s\n",
            "386:\tlearn: 0.0192500\ttotal: 9.34s\tremaining: 2.73s\n",
            "387:\tlearn: 0.0191668\ttotal: 9.35s\tremaining: 2.7s\n",
            "388:\tlearn: 0.0190838\ttotal: 9.37s\tremaining: 2.67s\n",
            "389:\tlearn: 0.0190041\ttotal: 9.39s\tremaining: 2.65s\n",
            "390:\tlearn: 0.0189341\ttotal: 9.41s\tremaining: 2.62s\n",
            "391:\tlearn: 0.0188838\ttotal: 9.43s\tremaining: 2.6s\n",
            "392:\tlearn: 0.0188050\ttotal: 9.44s\tremaining: 2.57s\n",
            "393:\tlearn: 0.0187279\ttotal: 9.46s\tremaining: 2.54s\n",
            "394:\tlearn: 0.0186475\ttotal: 9.48s\tremaining: 2.52s\n",
            "395:\tlearn: 0.0186066\ttotal: 9.5s\tremaining: 2.49s\n",
            "396:\tlearn: 0.0185265\ttotal: 9.52s\tremaining: 2.47s\n",
            "397:\tlearn: 0.0184586\ttotal: 9.54s\tremaining: 2.44s\n",
            "398:\tlearn: 0.0183809\ttotal: 9.55s\tremaining: 2.42s\n",
            "399:\tlearn: 0.0182977\ttotal: 9.57s\tremaining: 2.39s\n",
            "400:\tlearn: 0.0182229\ttotal: 9.59s\tremaining: 2.37s\n",
            "401:\tlearn: 0.0181460\ttotal: 9.61s\tremaining: 2.34s\n",
            "402:\tlearn: 0.0180912\ttotal: 9.63s\tremaining: 2.32s\n",
            "403:\tlearn: 0.0180206\ttotal: 9.64s\tremaining: 2.29s\n",
            "404:\tlearn: 0.0179939\ttotal: 9.66s\tremaining: 2.27s\n",
            "405:\tlearn: 0.0179156\ttotal: 9.68s\tremaining: 2.24s\n",
            "406:\tlearn: 0.0178503\ttotal: 9.7s\tremaining: 2.21s\n",
            "407:\tlearn: 0.0178010\ttotal: 9.72s\tremaining: 2.19s\n",
            "408:\tlearn: 0.0177247\ttotal: 9.74s\tremaining: 2.17s\n",
            "409:\tlearn: 0.0176514\ttotal: 9.76s\tremaining: 2.14s\n",
            "410:\tlearn: 0.0175684\ttotal: 9.78s\tremaining: 2.12s\n",
            "411:\tlearn: 0.0175448\ttotal: 9.8s\tremaining: 2.09s\n",
            "412:\tlearn: 0.0175202\ttotal: 9.82s\tremaining: 2.07s\n",
            "413:\tlearn: 0.0174482\ttotal: 9.84s\tremaining: 2.04s\n",
            "414:\tlearn: 0.0173986\ttotal: 9.85s\tremaining: 2.02s\n",
            "415:\tlearn: 0.0173277\ttotal: 9.87s\tremaining: 1.99s\n",
            "416:\tlearn: 0.0173059\ttotal: 9.89s\tremaining: 1.97s\n",
            "417:\tlearn: 0.0172282\ttotal: 9.91s\tremaining: 1.94s\n",
            "418:\tlearn: 0.0171600\ttotal: 9.93s\tremaining: 1.92s\n",
            "419:\tlearn: 0.0170717\ttotal: 9.95s\tremaining: 1.89s\n",
            "420:\tlearn: 0.0170034\ttotal: 9.96s\tremaining: 1.87s\n",
            "421:\tlearn: 0.0169806\ttotal: 9.98s\tremaining: 1.84s\n",
            "422:\tlearn: 0.0169600\ttotal: 10s\tremaining: 1.82s\n",
            "423:\tlearn: 0.0168805\ttotal: 10s\tremaining: 1.8s\n",
            "424:\tlearn: 0.0168119\ttotal: 10s\tremaining: 1.77s\n",
            "425:\tlearn: 0.0167658\ttotal: 10.1s\tremaining: 1.75s\n",
            "426:\tlearn: 0.0167011\ttotal: 10.1s\tremaining: 1.72s\n",
            "427:\tlearn: 0.0166378\ttotal: 10.1s\tremaining: 1.7s\n",
            "428:\tlearn: 0.0165612\ttotal: 10.1s\tremaining: 1.67s\n",
            "429:\tlearn: 0.0164982\ttotal: 10.1s\tremaining: 1.65s\n",
            "430:\tlearn: 0.0164315\ttotal: 10.1s\tremaining: 1.62s\n",
            "431:\tlearn: 0.0163671\ttotal: 10.2s\tremaining: 1.6s\n",
            "432:\tlearn: 0.0163054\ttotal: 10.2s\tremaining: 1.57s\n",
            "433:\tlearn: 0.0162494\ttotal: 10.2s\tremaining: 1.55s\n",
            "434:\tlearn: 0.0161943\ttotal: 10.2s\tremaining: 1.53s\n",
            "435:\tlearn: 0.0161323\ttotal: 10.2s\tremaining: 1.5s\n",
            "436:\tlearn: 0.0160563\ttotal: 10.2s\tremaining: 1.48s\n",
            "437:\tlearn: 0.0159983\ttotal: 10.3s\tremaining: 1.45s\n",
            "438:\tlearn: 0.0159483\ttotal: 10.3s\tremaining: 1.43s\n",
            "439:\tlearn: 0.0159200\ttotal: 10.3s\tremaining: 1.4s\n",
            "440:\tlearn: 0.0158654\ttotal: 10.3s\tremaining: 1.38s\n",
            "441:\tlearn: 0.0158278\ttotal: 10.3s\tremaining: 1.36s\n",
            "442:\tlearn: 0.0158213\ttotal: 10.4s\tremaining: 1.33s\n",
            "443:\tlearn: 0.0158035\ttotal: 10.4s\tremaining: 1.31s\n",
            "444:\tlearn: 0.0157726\ttotal: 10.4s\tremaining: 1.28s\n",
            "445:\tlearn: 0.0157155\ttotal: 10.4s\tremaining: 1.26s\n",
            "446:\tlearn: 0.0156976\ttotal: 10.4s\tremaining: 1.24s\n",
            "447:\tlearn: 0.0156423\ttotal: 10.5s\tremaining: 1.21s\n",
            "448:\tlearn: 0.0155950\ttotal: 10.5s\tremaining: 1.19s\n",
            "449:\tlearn: 0.0155895\ttotal: 10.5s\tremaining: 1.17s\n",
            "450:\tlearn: 0.0155502\ttotal: 10.5s\tremaining: 1.14s\n",
            "451:\tlearn: 0.0155319\ttotal: 10.5s\tremaining: 1.12s\n",
            "452:\tlearn: 0.0154750\ttotal: 10.5s\tremaining: 1.09s\n",
            "453:\tlearn: 0.0154316\ttotal: 10.6s\tremaining: 1.07s\n",
            "454:\tlearn: 0.0153849\ttotal: 10.6s\tremaining: 1.05s\n",
            "455:\tlearn: 0.0153292\ttotal: 10.6s\tremaining: 1.02s\n",
            "456:\tlearn: 0.0152750\ttotal: 10.6s\tremaining: 999ms\n",
            "457:\tlearn: 0.0152407\ttotal: 10.6s\tremaining: 976ms\n",
            "458:\tlearn: 0.0151853\ttotal: 10.7s\tremaining: 952ms\n",
            "459:\tlearn: 0.0151479\ttotal: 10.7s\tremaining: 928ms\n",
            "460:\tlearn: 0.0151149\ttotal: 10.7s\tremaining: 904ms\n",
            "461:\tlearn: 0.0151004\ttotal: 10.7s\tremaining: 881ms\n",
            "462:\tlearn: 0.0150486\ttotal: 10.7s\tremaining: 858ms\n",
            "463:\tlearn: 0.0150003\ttotal: 10.8s\tremaining: 834ms\n",
            "464:\tlearn: 0.0149557\ttotal: 10.8s\tremaining: 811ms\n",
            "465:\tlearn: 0.0149115\ttotal: 10.8s\tremaining: 787ms\n",
            "466:\tlearn: 0.0148629\ttotal: 10.8s\tremaining: 763ms\n",
            "467:\tlearn: 0.0147930\ttotal: 10.8s\tremaining: 740ms\n",
            "468:\tlearn: 0.0147412\ttotal: 10.8s\tremaining: 717ms\n",
            "469:\tlearn: 0.0146988\ttotal: 10.9s\tremaining: 693ms\n",
            "470:\tlearn: 0.0146463\ttotal: 10.9s\tremaining: 670ms\n",
            "471:\tlearn: 0.0146329\ttotal: 10.9s\tremaining: 647ms\n",
            "472:\tlearn: 0.0145839\ttotal: 10.9s\tremaining: 623ms\n",
            "473:\tlearn: 0.0145225\ttotal: 10.9s\tremaining: 600ms\n",
            "474:\tlearn: 0.0144723\ttotal: 10.9s\tremaining: 576ms\n",
            "475:\tlearn: 0.0144404\ttotal: 11s\tremaining: 553ms\n",
            "476:\tlearn: 0.0143893\ttotal: 11s\tremaining: 530ms\n",
            "477:\tlearn: 0.0143247\ttotal: 11s\tremaining: 507ms\n",
            "478:\tlearn: 0.0142615\ttotal: 11s\tremaining: 483ms\n",
            "479:\tlearn: 0.0142114\ttotal: 11s\tremaining: 460ms\n",
            "480:\tlearn: 0.0141595\ttotal: 11.1s\tremaining: 437ms\n",
            "481:\tlearn: 0.0141120\ttotal: 11.1s\tremaining: 414ms\n",
            "482:\tlearn: 0.0140608\ttotal: 11.1s\tremaining: 391ms\n",
            "483:\tlearn: 0.0140277\ttotal: 11.1s\tremaining: 367ms\n",
            "484:\tlearn: 0.0139884\ttotal: 11.1s\tremaining: 344ms\n",
            "485:\tlearn: 0.0139380\ttotal: 11.1s\tremaining: 321ms\n",
            "486:\tlearn: 0.0139240\ttotal: 11.2s\tremaining: 298ms\n",
            "487:\tlearn: 0.0138812\ttotal: 11.2s\tremaining: 275ms\n",
            "488:\tlearn: 0.0138221\ttotal: 11.2s\tremaining: 252ms\n",
            "489:\tlearn: 0.0137642\ttotal: 11.2s\tremaining: 229ms\n",
            "490:\tlearn: 0.0137190\ttotal: 11.2s\tremaining: 206ms\n",
            "491:\tlearn: 0.0136822\ttotal: 11.3s\tremaining: 183ms\n",
            "492:\tlearn: 0.0136503\ttotal: 11.3s\tremaining: 160ms\n",
            "493:\tlearn: 0.0136195\ttotal: 11.3s\tremaining: 137ms\n",
            "494:\tlearn: 0.0135661\ttotal: 11.3s\tremaining: 114ms\n",
            "495:\tlearn: 0.0135359\ttotal: 11.3s\tremaining: 91.4ms\n",
            "496:\tlearn: 0.0134811\ttotal: 11.3s\tremaining: 68.5ms\n",
            "497:\tlearn: 0.0134289\ttotal: 11.4s\tremaining: 45.6ms\n",
            "498:\tlearn: 0.0133945\ttotal: 11.4s\tremaining: 22.8ms\n",
            "499:\tlearn: 0.0133583\ttotal: 11.4s\tremaining: 0us\n",
            "[[86 13]\n",
            " [ 8 93]]\n",
            "89.5\n"
          ]
        }
      ]
    },
    {
      "cell_type": "markdown",
      "source": [
        "1.Catboost+LightGBM,accuracy = 90.5\n",
        "\n",
        "2.LightGBM+XGBoost,accuracy  = 89\n",
        "\n",
        "3.Catboost+AdaBoost,accuracy = 89.5 "
      ],
      "metadata": {
        "id": "p-9uW_CTmBvE"
      },
      "id": "p-9uW_CTmBvE"
    },
    {
      "cell_type": "code",
      "source": [
        ""
      ],
      "metadata": {
        "id": "uF1Vy4hPmxy0"
      },
      "id": "uF1Vy4hPmxy0",
      "execution_count": null,
      "outputs": []
    }
  ],
  "metadata": {
    "colab": {
      "collapsed_sections": [],
      "name": "project.ipynb",
      "provenance": [],
      "toc_visible": true,
      "include_colab_link": true
    },
    "kernelspec": {
      "display_name": "Python 3",
      "language": "python",
      "name": "python3"
    },
    "language_info": {
      "codemirror_mode": {
        "name": "ipython",
        "version": 3
      },
      "file_extension": ".py",
      "mimetype": "text/x-python",
      "name": "python",
      "nbconvert_exporter": "python",
      "pygments_lexer": "ipython3",
      "version": "3.8.10"
    }
  },
  "nbformat": 4,
  "nbformat_minor": 5
}